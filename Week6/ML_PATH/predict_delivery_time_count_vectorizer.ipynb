{
 "cells": [
  {
   "cell_type": "markdown",
   "metadata": {},
   "source": [
    "# Predict Food Delivery Time\n",
    "\n",
    "### 문제설명\n",
    "이번 과제를 통해 여러분은 음식배달 서비스(배민, 쿠팡이츠 등)를 위한 예측모델을 만들게 될 것입니다! 이 모델이 예측하는 값은 “음식배달에 걸리는 시간\"입니다. 배달시간을 정확하게 예측하는 것은 사용자의 경험에 많은 영향을 미치게 됩니다.\\\n",
    "예측된 배달시간보다 실제 배달시간이 더 걸린 경우(under-prediction)가 반대의 경우(over-prediction)보다 두 배로 사용자의 경험에 안 좋은 영향을 준다고 알려져 있습니다.\\\n",
    "가능한 실제 배달시간과 가까운 값을 예측하되 동시에 under-prediction을 최소화하는 것이 좋은 예측모델입니다.\n",
    "\n",
    "### 학습/테스트 데이터\n",
    "파일 “predict_delivery_time.csv”는 다음과 같은 속성들을 가지고 있습니다.\n",
    "\n",
    "- Restaurant, Location, Cuisines, AverageCost, MinimumOrder, Rating, Votes, Reviews 속성들을 모델의 입력속성으로 사용하세요. 모델의 학습목표는 DeliveryTime입니다.\n",
    "- 이 데이터에서 랜덤하게 20%를 추출해서 테스트 데이터로 사용하고 나머지는 학습데이터로 사용하세요.\n",
    "\n",
    "### 제출할 결과물\n",
    "- 간단한 요약문\n",
    "- 데이터 전처리와 속성 생성에 대한 간단한 설명\n",
    "- 학습을 위해서 어떤 모델을 사용했는지 그리고 어떠한 손실함수를 사용했는지를 간단히 설명\n",
    "- 테스트 데이터에 대한 평가지표들 (아래 두가지를 반드시 포함할 것)\n",
    "- Mean Absolute Error (MAE)\n",
    "- Under-prediction의 비율 (under-prediction 개수 / 테스트 데이터의 샘플수)\n",
    "- 모델 학습에 사용한 Jupyter notebook 파일"
   ]
  },
  {
   "cell_type": "markdown",
   "metadata": {},
   "source": [
    "## 1. 큰 그림을 봅니다 (look at the big picture)."
   ]
  },
  {
   "cell_type": "markdown",
   "metadata": {},
   "source": [
    "이번 과제를 통해 여러분은 음식배달 서비스(배민, 쿠팡이츠 등)를 위한 예측모델을 만들게 될 것입니다! \\\n",
    "이 모델이 예측하는 값은 “음식배달에 걸리는 시간\"입니다. 배달시간을 정확하게 예측하는 것은 사용자의 경험에 많은 영향을 미치게 됩니다.\n",
    "\n",
    "예측된 배달시간보다 실제 배달시간이 더 걸린 경우(under-prediction)가 반대의 경우(over-prediction)보다 두 배로 사용자의 경험에 안 좋은 영향을 준다고 알려져 있습니다.\\\n",
    "가능한 실제 배달시간과 가까운 값을 예측하되 동시에 under-prediction을 최소화하는 것이 좋은 예측모델입니다.\n",
    "\n",
    "### 풀어야할 문제 : 음식배달 데이터를 활용해 음식 배달 시간 예측 모델을 만드는 것\n",
    "\n",
    "실제 배달시간과 가까운 값을 예측: 지도학습\n",
    "동시에 under-prediction을 최소화하는 것이 좋은 예측모델 -> 이건 어떻게 풀 수 있을까?\n",
    "\n",
    "### 성능측정 지표\n",
    "Mean Absolute Error (MAE)\n",
    "Under-prediction의 비율 (under-prediction 개수 / 테스트 데이터의 샘플수)"
   ]
  },
  {
   "cell_type": "markdown",
   "metadata": {},
   "source": [
    "## 2. 데이터를 구합니다 (get the data)."
   ]
  },
  {
   "cell_type": "code",
   "execution_count": 1,
   "metadata": {},
   "outputs": [],
   "source": [
    "# import common libraries\n",
    "import os\n",
    "import numpy as np\n",
    "import pandas as pd\n",
    "%matplotlib inline\n",
    "import matplotlib as mpl\n",
    "import matplotlib.pyplot as plt\n",
    "mpl.rc('axes', labelsize=14)\n",
    "mpl.rc('xtick', labelsize=12)\n",
    "mpl.rc('ytick', labelsize=12)\n",
    "\n",
    "import seaborn as sns\n",
    "\n",
    "\n",
    "# Ignore useless warnings (see SciPy issue #5998)\n",
    "import warnings\n",
    "warnings.filterwarnings(action=\"ignore\", message=\"^internal gelsd\")"
   ]
  },
  {
   "cell_type": "code",
   "execution_count": 2,
   "metadata": {},
   "outputs": [],
   "source": [
    "food = pd.read_csv('predict_delivery_time.csv')"
   ]
  },
  {
   "cell_type": "markdown",
   "metadata": {},
   "source": [
    "### 데이터 톺아보기"
   ]
  },
  {
   "cell_type": "code",
   "execution_count": 3,
   "metadata": {},
   "outputs": [
    {
     "data": {
      "text/html": [
       "<div>\n",
       "<style scoped>\n",
       "    .dataframe tbody tr th:only-of-type {\n",
       "        vertical-align: middle;\n",
       "    }\n",
       "\n",
       "    .dataframe tbody tr th {\n",
       "        vertical-align: top;\n",
       "    }\n",
       "\n",
       "    .dataframe thead th {\n",
       "        text-align: right;\n",
       "    }\n",
       "</style>\n",
       "<table border=\"1\" class=\"dataframe\">\n",
       "  <thead>\n",
       "    <tr style=\"text-align: right;\">\n",
       "      <th></th>\n",
       "      <th>Restaurant</th>\n",
       "      <th>Location</th>\n",
       "      <th>Cuisines</th>\n",
       "      <th>AverageCost</th>\n",
       "      <th>MinimumOrder</th>\n",
       "      <th>Rating</th>\n",
       "      <th>Votes</th>\n",
       "      <th>Reviews</th>\n",
       "      <th>DeliveryTime</th>\n",
       "    </tr>\n",
       "  </thead>\n",
       "  <tbody>\n",
       "    <tr>\n",
       "      <th>0</th>\n",
       "      <td>ID6321</td>\n",
       "      <td>FTI College, Law College Road, Pune</td>\n",
       "      <td>Fast Food, Rolls, Burger, Salad, Wraps</td>\n",
       "      <td>200</td>\n",
       "      <td>50</td>\n",
       "      <td>3.5</td>\n",
       "      <td>12.0</td>\n",
       "      <td>4.0</td>\n",
       "      <td>30</td>\n",
       "    </tr>\n",
       "    <tr>\n",
       "      <th>1</th>\n",
       "      <td>ID2882</td>\n",
       "      <td>Sector 3, Marathalli</td>\n",
       "      <td>Ice Cream, Desserts</td>\n",
       "      <td>100</td>\n",
       "      <td>50</td>\n",
       "      <td>3.5</td>\n",
       "      <td>11.0</td>\n",
       "      <td>4.0</td>\n",
       "      <td>30</td>\n",
       "    </tr>\n",
       "    <tr>\n",
       "      <th>2</th>\n",
       "      <td>ID1595</td>\n",
       "      <td>Mumbai Central</td>\n",
       "      <td>Italian, Street Food, Fast Food</td>\n",
       "      <td>150</td>\n",
       "      <td>50</td>\n",
       "      <td>3.6</td>\n",
       "      <td>99.0</td>\n",
       "      <td>30.0</td>\n",
       "      <td>65</td>\n",
       "    </tr>\n",
       "    <tr>\n",
       "      <th>3</th>\n",
       "      <td>ID5929</td>\n",
       "      <td>Sector 1, Noida</td>\n",
       "      <td>Mughlai, North Indian, Chinese</td>\n",
       "      <td>250</td>\n",
       "      <td>99</td>\n",
       "      <td>3.7</td>\n",
       "      <td>176.0</td>\n",
       "      <td>95.0</td>\n",
       "      <td>30</td>\n",
       "    </tr>\n",
       "    <tr>\n",
       "      <th>4</th>\n",
       "      <td>ID6123</td>\n",
       "      <td>Rmz Centennial, I Gate, Whitefield</td>\n",
       "      <td>Cafe, Beverages</td>\n",
       "      <td>200</td>\n",
       "      <td>99</td>\n",
       "      <td>3.2</td>\n",
       "      <td>521.0</td>\n",
       "      <td>235.0</td>\n",
       "      <td>65</td>\n",
       "    </tr>\n",
       "  </tbody>\n",
       "</table>\n",
       "</div>"
      ],
      "text/plain": [
       "  Restaurant                             Location  \\\n",
       "0     ID6321  FTI College, Law College Road, Pune   \n",
       "1     ID2882                 Sector 3, Marathalli   \n",
       "2     ID1595                       Mumbai Central   \n",
       "3     ID5929                      Sector 1, Noida   \n",
       "4     ID6123   Rmz Centennial, I Gate, Whitefield   \n",
       "\n",
       "                                 Cuisines AverageCost  MinimumOrder Rating  \\\n",
       "0  Fast Food, Rolls, Burger, Salad, Wraps         200            50    3.5   \n",
       "1                     Ice Cream, Desserts         100            50    3.5   \n",
       "2         Italian, Street Food, Fast Food         150            50    3.6   \n",
       "3          Mughlai, North Indian, Chinese         250            99    3.7   \n",
       "4                         Cafe, Beverages         200            99    3.2   \n",
       "\n",
       "   Votes  Reviews  DeliveryTime  \n",
       "0   12.0      4.0            30  \n",
       "1   11.0      4.0            30  \n",
       "2   99.0     30.0            65  \n",
       "3  176.0     95.0            30  \n",
       "4  521.0    235.0            65  "
      ]
     },
     "execution_count": 3,
     "metadata": {},
     "output_type": "execute_result"
    }
   ],
   "source": [
    "food.head()"
   ]
  },
  {
   "cell_type": "markdown",
   "metadata": {},
   "source": [
    "### 여기서 다루는 변수는 다음과 같다.\n",
    "\n",
    "- Restaurant: A unique ID that represents a restaurant.\n",
    "- Location: The location of the restaurant.\n",
    "- Cuisines: The cuisines offered by the restaurant.\n",
    "- Average_Cost: The average cost for one person/order.\n",
    "- Minimum_Order: The minimum order amount.\n",
    "- Rating: Customer rating for the restaurant.\n",
    "- Votes: The total number of customer votes for the restaurant.\n",
    "- Reviews: The number of customer reviews for the restaurant.\n",
    "- Delivery_Time: The order delivery time of the restaurant. (Target Classes)"
   ]
  },
  {
   "cell_type": "code",
   "execution_count": 4,
   "metadata": {
    "scrolled": true
   },
   "outputs": [
    {
     "name": "stdout",
     "output_type": "stream",
     "text": [
      "<class 'pandas.core.frame.DataFrame'>\n",
      "RangeIndex: 11094 entries, 0 to 11093\n",
      "Data columns (total 9 columns):\n",
      " #   Column        Non-Null Count  Dtype  \n",
      "---  ------        --------------  -----  \n",
      " 0   Restaurant    11094 non-null  object \n",
      " 1   Location      11094 non-null  object \n",
      " 2   Cuisines      11094 non-null  object \n",
      " 3   AverageCost   11094 non-null  object \n",
      " 4   MinimumOrder  11094 non-null  int64  \n",
      " 5   Rating        9903 non-null   object \n",
      " 6   Votes         9020 non-null   float64\n",
      " 7   Reviews       8782 non-null   float64\n",
      " 8   DeliveryTime  11094 non-null  int64  \n",
      "dtypes: float64(2), int64(2), object(5)\n",
      "memory usage: 780.2+ KB\n"
     ]
    }
   ],
   "source": [
    "food.info()"
   ]
  },
  {
   "cell_type": "code",
   "execution_count": 5,
   "metadata": {},
   "outputs": [
    {
     "data": {
      "text/plain": [
       "Restaurant         0\n",
       "Location           0\n",
       "Cuisines           0\n",
       "AverageCost        0\n",
       "MinimumOrder       0\n",
       "Rating          1191\n",
       "Votes           2074\n",
       "Reviews         2312\n",
       "DeliveryTime       0\n",
       "dtype: int64"
      ]
     },
     "execution_count": 5,
     "metadata": {},
     "output_type": "execute_result"
    }
   ],
   "source": [
    "food.isnull().sum()"
   ]
  },
  {
   "cell_type": "code",
   "execution_count": 6,
   "metadata": {},
   "outputs": [
    {
     "data": {
      "text/html": [
       "<div>\n",
       "<style scoped>\n",
       "    .dataframe tbody tr th:only-of-type {\n",
       "        vertical-align: middle;\n",
       "    }\n",
       "\n",
       "    .dataframe tbody tr th {\n",
       "        vertical-align: top;\n",
       "    }\n",
       "\n",
       "    .dataframe thead th {\n",
       "        text-align: right;\n",
       "    }\n",
       "</style>\n",
       "<table border=\"1\" class=\"dataframe\">\n",
       "  <thead>\n",
       "    <tr style=\"text-align: right;\">\n",
       "      <th></th>\n",
       "      <th>MinimumOrder</th>\n",
       "      <th>Votes</th>\n",
       "      <th>Reviews</th>\n",
       "      <th>DeliveryTime</th>\n",
       "    </tr>\n",
       "  </thead>\n",
       "  <tbody>\n",
       "    <tr>\n",
       "      <th>count</th>\n",
       "      <td>11094.000000</td>\n",
       "      <td>9020.000000</td>\n",
       "      <td>8782.000000</td>\n",
       "      <td>11094.000000</td>\n",
       "    </tr>\n",
       "    <tr>\n",
       "      <th>mean</th>\n",
       "      <td>53.344511</td>\n",
       "      <td>244.544457</td>\n",
       "      <td>123.247893</td>\n",
       "      <td>37.056066</td>\n",
       "    </tr>\n",
       "    <tr>\n",
       "      <th>std</th>\n",
       "      <td>18.551245</td>\n",
       "      <td>555.094733</td>\n",
       "      <td>321.025216</td>\n",
       "      <td>12.447496</td>\n",
       "    </tr>\n",
       "    <tr>\n",
       "      <th>min</th>\n",
       "      <td>0.000000</td>\n",
       "      <td>3.000000</td>\n",
       "      <td>1.000000</td>\n",
       "      <td>10.000000</td>\n",
       "    </tr>\n",
       "    <tr>\n",
       "      <th>25%</th>\n",
       "      <td>50.000000</td>\n",
       "      <td>19.000000</td>\n",
       "      <td>7.000000</td>\n",
       "      <td>30.000000</td>\n",
       "    </tr>\n",
       "    <tr>\n",
       "      <th>50%</th>\n",
       "      <td>50.000000</td>\n",
       "      <td>63.000000</td>\n",
       "      <td>26.000000</td>\n",
       "      <td>30.000000</td>\n",
       "    </tr>\n",
       "    <tr>\n",
       "      <th>75%</th>\n",
       "      <td>50.000000</td>\n",
       "      <td>216.000000</td>\n",
       "      <td>91.000000</td>\n",
       "      <td>45.000000</td>\n",
       "    </tr>\n",
       "    <tr>\n",
       "      <th>max</th>\n",
       "      <td>500.000000</td>\n",
       "      <td>9054.000000</td>\n",
       "      <td>6504.000000</td>\n",
       "      <td>120.000000</td>\n",
       "    </tr>\n",
       "  </tbody>\n",
       "</table>\n",
       "</div>"
      ],
      "text/plain": [
       "       MinimumOrder        Votes      Reviews  DeliveryTime\n",
       "count  11094.000000  9020.000000  8782.000000  11094.000000\n",
       "mean      53.344511   244.544457   123.247893     37.056066\n",
       "std       18.551245   555.094733   321.025216     12.447496\n",
       "min        0.000000     3.000000     1.000000     10.000000\n",
       "25%       50.000000    19.000000     7.000000     30.000000\n",
       "50%       50.000000    63.000000    26.000000     30.000000\n",
       "75%       50.000000   216.000000    91.000000     45.000000\n",
       "max      500.000000  9054.000000  6504.000000    120.000000"
      ]
     },
     "execution_count": 6,
     "metadata": {},
     "output_type": "execute_result"
    }
   ],
   "source": [
    "food.describe()"
   ]
  },
  {
   "cell_type": "code",
   "execution_count": 7,
   "metadata": {},
   "outputs": [
    {
     "data": {
      "text/html": [
       "<div>\n",
       "<style scoped>\n",
       "    .dataframe tbody tr th:only-of-type {\n",
       "        vertical-align: middle;\n",
       "    }\n",
       "\n",
       "    .dataframe tbody tr th {\n",
       "        vertical-align: top;\n",
       "    }\n",
       "\n",
       "    .dataframe thead th {\n",
       "        text-align: right;\n",
       "    }\n",
       "</style>\n",
       "<table border=\"1\" class=\"dataframe\">\n",
       "  <thead>\n",
       "    <tr style=\"text-align: right;\">\n",
       "      <th></th>\n",
       "      <th>Restaurant</th>\n",
       "      <th>Location</th>\n",
       "      <th>Cuisines</th>\n",
       "      <th>AverageCost</th>\n",
       "      <th>Rating</th>\n",
       "    </tr>\n",
       "  </thead>\n",
       "  <tbody>\n",
       "    <tr>\n",
       "      <th>count</th>\n",
       "      <td>11094</td>\n",
       "      <td>11094</td>\n",
       "      <td>11094</td>\n",
       "      <td>11094</td>\n",
       "      <td>9903</td>\n",
       "    </tr>\n",
       "    <tr>\n",
       "      <th>unique</th>\n",
       "      <td>7480</td>\n",
       "      <td>35</td>\n",
       "      <td>2179</td>\n",
       "      <td>26</td>\n",
       "      <td>32</td>\n",
       "    </tr>\n",
       "    <tr>\n",
       "      <th>top</th>\n",
       "      <td>ID7184</td>\n",
       "      <td>Mico Layout, Stage 2, BTM Layout,Bangalore</td>\n",
       "      <td>North Indian</td>\n",
       "      <td>200</td>\n",
       "      <td>3.7</td>\n",
       "    </tr>\n",
       "    <tr>\n",
       "      <th>freq</th>\n",
       "      <td>22</td>\n",
       "      <td>947</td>\n",
       "      <td>850</td>\n",
       "      <td>3241</td>\n",
       "      <td>869</td>\n",
       "    </tr>\n",
       "  </tbody>\n",
       "</table>\n",
       "</div>"
      ],
      "text/plain": [
       "       Restaurant                                    Location      Cuisines  \\\n",
       "count       11094                                       11094         11094   \n",
       "unique       7480                                          35          2179   \n",
       "top        ID7184  Mico Layout, Stage 2, BTM Layout,Bangalore  North Indian   \n",
       "freq           22                                         947           850   \n",
       "\n",
       "       AverageCost Rating  \n",
       "count        11094   9903  \n",
       "unique          26     32  \n",
       "top            200    3.7  \n",
       "freq          3241    869  "
      ]
     },
     "execution_count": 7,
     "metadata": {},
     "output_type": "execute_result"
    }
   ],
   "source": [
    "food.describe(include='O')"
   ]
  },
  {
   "cell_type": "markdown",
   "metadata": {},
   "source": [
    "- 간략하게 훑어보고 알 수 있는 사실\n",
    "1. target label: DeliveryTime 연속변수이며, 최소 10에서 120까지 분포되어 있어 분 단위일 것으로 예상됩니다.\n",
    "2. AverageCost, Rating 은 numerical 같이 생겼는데 object라고 뜹니다. 어떤 value들이 들어가 있는지 잘 봐야할 것 같습니다.\n",
    "3. Rating, Votes, Reviews에는 결측치가 상당수 있습니다.\n",
    "4. Reviews의 분포와 feature에 대한 설명을 보니 점수가 아니라 리뷰의 갯수인 것 같습니다. negative/positive 내용이 구분되어있지 않습니다.\n",
    "5. Votes 역시 feature의 설명을 보니 긍정적인 의미의 vote의 갯수인지, 그냥 투표를 한 갯수를 의미하는 건지 잘 모르겠네요.\n",
    "6. object인 변수도 간단하게 살펴보았는데, unique 값이 26개인 feature 부터 7480개인 feature까지 다양합니다. AverageCost와 Rating은 빈출값만 봐도 numerical 한 데이터 같은데 왜 object인지 살펴볼 필요가 있습니다."
   ]
  },
  {
   "cell_type": "code",
   "execution_count": 27,
   "metadata": {},
   "outputs": [
    {
     "data": {
      "text/plain": [
       "30     7406\n",
       "45     2665\n",
       "65      923\n",
       "120      62\n",
       "20       20\n",
       "80       14\n",
       "10        4\n",
       "Name: DeliveryTime, dtype: int64"
      ]
     },
     "execution_count": 27,
     "metadata": {},
     "output_type": "execute_result"
    }
   ],
   "source": [
    "# 우리가 예측해야 하는 y-labels DeliveryTime을 봅시다.\n",
    "food[\"DeliveryTime\"].value_counts()"
   ]
  },
  {
   "cell_type": "code",
   "execution_count": 31,
   "metadata": {
    "scrolled": true
   },
   "outputs": [
    {
     "data": {
      "text/plain": [
       "<seaborn.axisgrid.FacetGrid at 0x7fedd6d1f790>"
      ]
     },
     "execution_count": 31,
     "metadata": {},
     "output_type": "execute_result"
    },
    {
     "data": {
      "image/png": "[encoded data removed]",
      "text/plain": [
       "<Figure size 360x360 with 1 Axes>"
      ]
     },
     "metadata": {
      "needs_background": "light"
     },
     "output_type": "display_data"
    }
   ],
   "source": [
    "sns.displot(food[\"DeliveryTime\"])"
   ]
  },
  {
   "cell_type": "markdown",
   "metadata": {},
   "source": [
    "연속형 변수라기에는 약간 애매한 값을 보인다. \n",
    "7개의 값만 가지고 있다 그나마 대부분, 30, 45, 65이다."
   ]
  },
  {
   "cell_type": "markdown",
   "metadata": {},
   "source": [
    "## 3. 데이터로부터 통찰을 얻기 위해 탐색하고 시각화합니다 (discover and visualize the data to gain insights)."
   ]
  },
  {
   "cell_type": "markdown",
   "metadata": {},
   "source": [
    "### 3-1. 데이터 탐색"
   ]
  },
  {
   "cell_type": "markdown",
   "metadata": {},
   "source": [
    "각 feature들을 범주형 / 연속형으로 나누어 특성에 맞게 살펴보겠습니다."
   ]
  },
  {
   "cell_type": "code",
   "execution_count": 8,
   "metadata": {},
   "outputs": [
    {
     "data": {
      "text/plain": [
       "Index(['Restaurant', 'Location', 'Cuisines', 'AverageCost', 'MinimumOrder',\n",
       "       'Rating', 'Votes', 'Reviews', 'DeliveryTime'],\n",
       "      dtype='object')"
      ]
     },
     "execution_count": 8,
     "metadata": {},
     "output_type": "execute_result"
    }
   ],
   "source": [
    "food.columns"
   ]
  },
  {
   "cell_type": "code",
   "execution_count": 9,
   "metadata": {},
   "outputs": [],
   "source": [
    "num_col = []\n",
    "cat_col = []\n",
    "for i in food.columns:\n",
    "    if food[i].dtypes == 'int64' or food[i].dtypes == 'float64':\n",
    "        num_col.append(i)\n",
    "    else: cat_col.append(i)"
   ]
  },
  {
   "cell_type": "code",
   "execution_count": 10,
   "metadata": {},
   "outputs": [
    {
     "name": "stdout",
     "output_type": "stream",
     "text": [
      "numerical columns: ['MinimumOrder', 'Votes', 'Reviews', 'DeliveryTime']\n",
      "categorical columns: ['Restaurant', 'Location', 'Cuisines', 'AverageCost', 'Rating']\n"
     ]
    }
   ],
   "source": [
    "print(\"numerical columns:\", num_col)\n",
    "print(\"categorical columns:\", cat_col)"
   ]
  },
  {
   "cell_type": "markdown",
   "metadata": {},
   "source": [
    "범주형 데이터에 어떤 values들이 들어있는지 보겠습니다."
   ]
  },
  {
   "cell_type": "code",
   "execution_count": 11,
   "metadata": {},
   "outputs": [
    {
     "data": {
      "text/plain": [
       "ID7184    22\n",
       "ID4625    20\n",
       "ID7295    20\n",
       "ID5321    19\n",
       "ID5538    19\n",
       "          ..\n",
       "ID1125     1\n",
       "ID7947     1\n",
       "ID3308     1\n",
       "ID3022     1\n",
       "ID7753     1\n",
       "Name: Restaurant, Length: 7480, dtype: int64"
      ]
     },
     "execution_count": 11,
     "metadata": {},
     "output_type": "execute_result"
    }
   ],
   "source": [
    "food['Restaurant'].value_counts()"
   ]
  },
  {
   "cell_type": "markdown",
   "metadata": {},
   "source": [
    "무려 7480개의 레스토랑이 있습니다. 그 중에 빈도가 20회가 넘는 레스토랑들도 있는 반면, 1회인 레스토랑도 많네요."
   ]
  },
  {
   "cell_type": "code",
   "execution_count": 12,
   "metadata": {},
   "outputs": [
    {
     "data": {
      "text/plain": [
       "Mico Layout, Stage 2, BTM Layout,Bangalore          947\n",
       "DBlock, Sector 63, Noida                            806\n",
       "Sector 1, Noida                                     791\n",
       "FTI College, Law College Road, Pune                 584\n",
       "Delhi UniversityGTB Nagar                           545\n",
       "Laxman Vihar Industrial Area, Sector 3A, Gurgoan    493\n",
       "Sector 14, Noida                                    489\n",
       "Delhi Administration Flats, Timarpur                472\n",
       "Mumbai Central                                      459\n",
       "Rmz Centennial, I Gate, Whitefield                  457\n",
       "Delhi High Court, India Gate                        411\n",
       "MG Road, Pune                                       402\n",
       "Nathan Road, Mangaldas Road, Pune                   372\n",
       "Sandhurst Road, Mumbai CST Area                     370\n",
       "Sector 3, Marathalli                                366\n",
       "Majestic                                            334\n",
       "Delhi Cantt.                                        326\n",
       "Yerawada, Pune, Maharashtra                         307\n",
       "Dockyard Road, Mumbai CST Area                      291\n",
       "Babarpur, New Delhi, Delhi                          282\n",
       "Pune University                                     278\n",
       "Sector 63A,Gurgaon                                  260\n",
       "Moulali, Kolkata                                    137\n",
       "Chandni Chowk, Kolkata                              126\n",
       "Tejas Nagar Colony, Wadala West, Mumbai             109\n",
       "Raja Bazar, Kolkata                                 108\n",
       "Tiretti, Kolkata                                     96\n",
       "Hyderabad Public School, Begumpet                    81\n",
       "Gora Bazar, Rajbari, North Dumdum, Kolkata           79\n",
       "Noorkhan Bazaar, Malakpet, Hyderabad                 68\n",
       "Musi Nagar, Malakpet, Hyderabad                      68\n",
       "Panjetan Colony, Malakpet, Hyderabad                 56\n",
       "Chatta Bazaar, Malakpet, Hyderabad                   54\n",
       "Jaya Nagar, Saidabad, Hyderabad                      48\n",
       "BTM Layout 1, Electronic City                        22\n",
       "Name: Location, dtype: int64"
      ]
     },
     "execution_count": 12,
     "metadata": {},
     "output_type": "execute_result"
    }
   ],
   "source": [
    "food['Location'].value_counts()"
   ]
  },
  {
   "cell_type": "markdown",
   "metadata": {},
   "source": [
    "location feature는 의외로 values의 종류가 많지는 않습니다. 구글지도에서 몇 군데를 검색해본 결과 대부분은 인도 각 도시의 distirct를 가리키는 주소였습니다."
   ]
  },
  {
   "cell_type": "code",
   "execution_count": 13,
   "metadata": {},
   "outputs": [
    {
     "data": {
      "text/plain": [
       "North Indian                                                 850\n",
       "North Indian, Chinese                                        614\n",
       "Fast Food                                                    434\n",
       "South Indian                                                 270\n",
       "Chinese                                                      245\n",
       "                                                            ... \n",
       "European, Mediterranean                                        1\n",
       "North Indian, Street Food, Italian, Fast Food, Beverages       1\n",
       "Bakery, Desserts, Street Food                                  1\n",
       "European, Mediterranean, North Indian, Asian, Continental      1\n",
       "Rolls, North Indian, Chinese                                   1\n",
       "Name: Cuisines, Length: 2179, dtype: int64"
      ]
     },
     "execution_count": 13,
     "metadata": {},
     "output_type": "execute_result"
    }
   ],
   "source": [
    "food['Cuisines'].value_counts()"
   ]
  },
  {
   "cell_type": "code",
   "execution_count": 14,
   "metadata": {
    "scrolled": true
   },
   "outputs": [
    {
     "data": {
      "text/plain": [
       "200      3241\n",
       "100      2557\n",
       "150      2462\n",
       "250       881\n",
       "300       537\n",
       "350       283\n",
       "400       282\n",
       "50        265\n",
       "600       154\n",
       "500       101\n",
       "450        63\n",
       "550        60\n",
       "650        55\n",
       "800        44\n",
       "750        38\n",
       "900        15\n",
       "700        15\n",
       "850        12\n",
       "1,000      12\n",
       "1,200       8\n",
       "950         4\n",
       "1,400       1\n",
       "1,150       1\n",
       "1,100       1\n",
       "2,050       1\n",
       "for         1\n",
       "Name: AverageCost, dtype: int64"
      ]
     },
     "execution_count": 14,
     "metadata": {},
     "output_type": "execute_result"
    }
   ],
   "source": [
    "food['AverageCost'].value_counts()"
   ]
  },
  {
   "cell_type": "markdown",
   "metadata": {},
   "source": [
    "'for' 하나 때문에 numerical feature가 안된 것 같다."
   ]
  },
  {
   "cell_type": "code",
   "execution_count": 15,
   "metadata": {},
   "outputs": [
    {
     "data": {
      "text/plain": [
       "array(['3.5', '3.6', '3.7', '3.2', '3.8', '4.0', '3.9', '4.2', nan, '2.8',\n",
       "       '3.0', '3.3', '3.1', '4.7', '3.4', '4.1', 'NEW', '2.9', '4.6',\n",
       "       '4.3', '2.6', '4.5', '4.4', '4.8', '2.4', '2.7', '2.5',\n",
       "       'Opening Soon', '2.2', '4.9', '2.3', '2.1', 'Temporarily Closed'],\n",
       "      dtype=object)"
      ]
     },
     "execution_count": 15,
     "metadata": {},
     "output_type": "execute_result"
    }
   ],
   "source": [
    "food['Rating'].unique()"
   ]
  },
  {
   "cell_type": "markdown",
   "metadata": {},
   "source": [
    "'New', Opening Soon', 'Temporarily Closed' 같은 변수들은 사실 Rating이 없다고 봐야할 것 같다."
   ]
  },
  {
   "cell_type": "markdown",
   "metadata": {},
   "source": [
    "연속형 데이터들의 분포를 보겠습니다."
   ]
  },
  {
   "cell_type": "code",
   "execution_count": 16,
   "metadata": {},
   "outputs": [
    {
     "data": {
      "image/png": "[encoded data removed]",
      "text/plain": [
       "<Figure size 720x432 with 4 Axes>"
      ]
     },
     "metadata": {
      "needs_background": "light"
     },
     "output_type": "display_data"
    }
   ],
   "source": [
    "food.hist(figsize=(10,6))\n",
    "plt.show()"
   ]
  },
  {
   "cell_type": "markdown",
   "metadata": {},
   "source": [
    "고르게 분포되어있지 않은 모습입니다."
   ]
  },
  {
   "cell_type": "markdown",
   "metadata": {},
   "source": [
    "### 3-2. 데이터 cleaning"
   ]
  },
  {
   "cell_type": "markdown",
   "metadata": {},
   "source": [
    "cleaning을 거칠 features 들\n",
    "\n",
    "1. AverageCost, Rating : 숫자 타입이 아닌 value들 처리하고, 타입 변환\n",
    "2. Location & Cuisines : 범주형 변수. encoding 전에 처리해야할 부분이 있는지 확인, 처리"
   ]
  },
  {
   "cell_type": "markdown",
   "metadata": {},
   "source": [
    "1. AverageCost : 특이값을 처리하고, 타입 변환"
   ]
  },
  {
   "cell_type": "code",
   "execution_count": 17,
   "metadata": {},
   "outputs": [
    {
     "name": "stderr",
     "output_type": "stream",
     "text": [
      "<ipython-input-17-5ff5ac6342f1>:2: SettingWithCopyWarning: \n",
      "A value is trying to be set on a copy of a slice from a DataFrame\n",
      "\n",
      "See the caveats in the documentation: https://pandas.pydata.org/pandas-docs/stable/user_guide/indexing.html#returning-a-view-versus-a-copy\n",
      "  food[\"AverageCost\"][food['AverageCost'] == 'for'] = 200\n"
     ]
    }
   ],
   "source": [
    "# 아까 찾았던 이상한 value row를 최빈값으로 대체\n",
    "food[\"AverageCost\"][food['AverageCost'] == 'for'] = 200"
   ]
  },
  {
   "cell_type": "code",
   "execution_count": 18,
   "metadata": {},
   "outputs": [
    {
     "data": {
      "text/html": [
       "<div>\n",
       "<style scoped>\n",
       "    .dataframe tbody tr th:only-of-type {\n",
       "        vertical-align: middle;\n",
       "    }\n",
       "\n",
       "    .dataframe tbody tr th {\n",
       "        vertical-align: top;\n",
       "    }\n",
       "\n",
       "    .dataframe thead th {\n",
       "        text-align: right;\n",
       "    }\n",
       "</style>\n",
       "<table border=\"1\" class=\"dataframe\">\n",
       "  <thead>\n",
       "    <tr style=\"text-align: right;\">\n",
       "      <th></th>\n",
       "      <th>Restaurant</th>\n",
       "      <th>Location</th>\n",
       "      <th>Cuisines</th>\n",
       "      <th>AverageCost</th>\n",
       "      <th>MinimumOrder</th>\n",
       "      <th>Rating</th>\n",
       "      <th>Votes</th>\n",
       "      <th>Reviews</th>\n",
       "      <th>DeliveryTime</th>\n",
       "    </tr>\n",
       "  </thead>\n",
       "  <tbody>\n",
       "  </tbody>\n",
       "</table>\n",
       "</div>"
      ],
      "text/plain": [
       "Empty DataFrame\n",
       "Columns: [Restaurant, Location, Cuisines, AverageCost, MinimumOrder, Rating, Votes, Reviews, DeliveryTime]\n",
       "Index: []"
      ]
     },
     "execution_count": 18,
     "metadata": {},
     "output_type": "execute_result"
    }
   ],
   "source": [
    "food[food['AverageCost'] == 'for']"
   ]
  },
  {
   "cell_type": "code",
   "execution_count": 19,
   "metadata": {},
   "outputs": [
    {
     "data": {
      "text/plain": [
       "dtype('O')"
      ]
     },
     "execution_count": 19,
     "metadata": {},
     "output_type": "execute_result"
    }
   ],
   "source": [
    "food['AverageCost'].dtypes"
   ]
  },
  {
   "cell_type": "code",
   "execution_count": 20,
   "metadata": {},
   "outputs": [
    {
     "data": {
      "text/plain": [
       "array(['200', '100', '150', '250', '650', '350', '800', '50', '400',\n",
       "       '600', '300', '750', '450', '550', '1,000', '500', '900', '1,200',\n",
       "       '950', '850', '700', '1,150', 200, '1,100', '1,400', '2,050'],\n",
       "      dtype=object)"
      ]
     },
     "execution_count": 20,
     "metadata": {},
     "output_type": "execute_result"
    }
   ],
   "source": [
    "food['AverageCost'].unique()"
   ]
  },
  {
   "cell_type": "markdown",
   "metadata": {},
   "source": [
    "쉼표때문에 숫자로 인식이 안되는 것 같다. 정규표형식으로 빼주려 한다."
   ]
  },
  {
   "cell_type": "code",
   "execution_count": 21,
   "metadata": {},
   "outputs": [
    {
     "data": {
      "text/plain": [
       "dtype('int64')"
      ]
     },
     "execution_count": 21,
     "metadata": {},
     "output_type": "execute_result"
    }
   ],
   "source": [
    "import re\n",
    "\n",
    "food['AverageCost'] = food['AverageCost'].apply(lambda x: int(re.sub(\"[^0-9]\", \"\", str(x))))\n",
    "\n",
    "food['AverageCost'].dtypes"
   ]
  },
  {
   "cell_type": "markdown",
   "metadata": {},
   "source": [
    "2. Rating : 숫자 타입이 아닌 value들 처리 후 타입 변환"
   ]
  },
  {
   "cell_type": "code",
   "execution_count": 22,
   "metadata": {},
   "outputs": [
    {
     "data": {
      "text/plain": [
       "0    3.7\n",
       "dtype: object"
      ]
     },
     "execution_count": 22,
     "metadata": {},
     "output_type": "execute_result"
    }
   ],
   "source": [
    "food['Rating'].mode()"
   ]
  },
  {
   "cell_type": "code",
   "execution_count": 23,
   "metadata": {},
   "outputs": [
    {
     "data": {
      "text/html": [
       "<div>\n",
       "<style scoped>\n",
       "    .dataframe tbody tr th:only-of-type {\n",
       "        vertical-align: middle;\n",
       "    }\n",
       "\n",
       "    .dataframe tbody tr th {\n",
       "        vertical-align: top;\n",
       "    }\n",
       "\n",
       "    .dataframe thead th {\n",
       "        text-align: right;\n",
       "    }\n",
       "</style>\n",
       "<table border=\"1\" class=\"dataframe\">\n",
       "  <thead>\n",
       "    <tr style=\"text-align: right;\">\n",
       "      <th></th>\n",
       "      <th>Restaurant</th>\n",
       "      <th>Location</th>\n",
       "      <th>Cuisines</th>\n",
       "      <th>AverageCost</th>\n",
       "      <th>MinimumOrder</th>\n",
       "      <th>Rating</th>\n",
       "      <th>Votes</th>\n",
       "      <th>Reviews</th>\n",
       "      <th>DeliveryTime</th>\n",
       "    </tr>\n",
       "  </thead>\n",
       "  <tbody>\n",
       "    <tr>\n",
       "      <th>12</th>\n",
       "      <td>ID1156</td>\n",
       "      <td>Sector 1, Noida</td>\n",
       "      <td>Burger, Fast Food, Desserts, Beverages</td>\n",
       "      <td>150</td>\n",
       "      <td>50</td>\n",
       "      <td>NaN</td>\n",
       "      <td>NaN</td>\n",
       "      <td>NaN</td>\n",
       "      <td>30</td>\n",
       "    </tr>\n",
       "    <tr>\n",
       "      <th>16</th>\n",
       "      <td>ID2141</td>\n",
       "      <td>Sector 1, Noida</td>\n",
       "      <td>Italian</td>\n",
       "      <td>100</td>\n",
       "      <td>50</td>\n",
       "      <td>NaN</td>\n",
       "      <td>NaN</td>\n",
       "      <td>NaN</td>\n",
       "      <td>30</td>\n",
       "    </tr>\n",
       "    <tr>\n",
       "      <th>18</th>\n",
       "      <td>ID5262</td>\n",
       "      <td>Pune University</td>\n",
       "      <td>Kerala, Bihari</td>\n",
       "      <td>150</td>\n",
       "      <td>50</td>\n",
       "      <td>NaN</td>\n",
       "      <td>NaN</td>\n",
       "      <td>NaN</td>\n",
       "      <td>30</td>\n",
       "    </tr>\n",
       "    <tr>\n",
       "      <th>25</th>\n",
       "      <td>ID4944</td>\n",
       "      <td>Mico Layout, Stage 2, BTM Layout,Bangalore</td>\n",
       "      <td>Desserts, Ice Cream</td>\n",
       "      <td>100</td>\n",
       "      <td>50</td>\n",
       "      <td>NaN</td>\n",
       "      <td>NaN</td>\n",
       "      <td>NaN</td>\n",
       "      <td>45</td>\n",
       "    </tr>\n",
       "    <tr>\n",
       "      <th>47</th>\n",
       "      <td>ID2809</td>\n",
       "      <td>Mico Layout, Stage 2, BTM Layout,Bangalore</td>\n",
       "      <td>Chinese</td>\n",
       "      <td>200</td>\n",
       "      <td>50</td>\n",
       "      <td>NEW</td>\n",
       "      <td>NaN</td>\n",
       "      <td>NaN</td>\n",
       "      <td>30</td>\n",
       "    </tr>\n",
       "    <tr>\n",
       "      <th>...</th>\n",
       "      <td>...</td>\n",
       "      <td>...</td>\n",
       "      <td>...</td>\n",
       "      <td>...</td>\n",
       "      <td>...</td>\n",
       "      <td>...</td>\n",
       "      <td>...</td>\n",
       "      <td>...</td>\n",
       "      <td>...</td>\n",
       "    </tr>\n",
       "    <tr>\n",
       "      <th>11082</th>\n",
       "      <td>ID1434</td>\n",
       "      <td>Laxman Vihar Industrial Area, Sector 3A, Gurgoan</td>\n",
       "      <td>North Indian, Chinese, Mughlai</td>\n",
       "      <td>200</td>\n",
       "      <td>50</td>\n",
       "      <td>NaN</td>\n",
       "      <td>NaN</td>\n",
       "      <td>NaN</td>\n",
       "      <td>120</td>\n",
       "    </tr>\n",
       "    <tr>\n",
       "      <th>11084</th>\n",
       "      <td>ID968</td>\n",
       "      <td>Delhi Administration Flats, Timarpur</td>\n",
       "      <td>North Indian, Asian</td>\n",
       "      <td>200</td>\n",
       "      <td>50</td>\n",
       "      <td>NEW</td>\n",
       "      <td>NaN</td>\n",
       "      <td>NaN</td>\n",
       "      <td>30</td>\n",
       "    </tr>\n",
       "    <tr>\n",
       "      <th>11085</th>\n",
       "      <td>ID2394</td>\n",
       "      <td>Majestic</td>\n",
       "      <td>Street Food</td>\n",
       "      <td>100</td>\n",
       "      <td>50</td>\n",
       "      <td>NaN</td>\n",
       "      <td>NaN</td>\n",
       "      <td>NaN</td>\n",
       "      <td>30</td>\n",
       "    </tr>\n",
       "    <tr>\n",
       "      <th>11086</th>\n",
       "      <td>ID2050</td>\n",
       "      <td>FTI College, Law College Road, Pune</td>\n",
       "      <td>North Indian, Fast Food</td>\n",
       "      <td>300</td>\n",
       "      <td>50</td>\n",
       "      <td>NaN</td>\n",
       "      <td>NaN</td>\n",
       "      <td>NaN</td>\n",
       "      <td>30</td>\n",
       "    </tr>\n",
       "    <tr>\n",
       "      <th>11093</th>\n",
       "      <td>ID4417</td>\n",
       "      <td>Sector 63A,Gurgaon</td>\n",
       "      <td>North Indian</td>\n",
       "      <td>100</td>\n",
       "      <td>50</td>\n",
       "      <td>NEW</td>\n",
       "      <td>NaN</td>\n",
       "      <td>NaN</td>\n",
       "      <td>30</td>\n",
       "    </tr>\n",
       "  </tbody>\n",
       "</table>\n",
       "<p>2312 rows × 9 columns</p>\n",
       "</div>"
      ],
      "text/plain": [
       "      Restaurant                                          Location  \\\n",
       "12        ID1156                                   Sector 1, Noida   \n",
       "16        ID2141                                   Sector 1, Noida   \n",
       "18        ID5262                                   Pune University   \n",
       "25        ID4944        Mico Layout, Stage 2, BTM Layout,Bangalore   \n",
       "47        ID2809        Mico Layout, Stage 2, BTM Layout,Bangalore   \n",
       "...          ...                                               ...   \n",
       "11082     ID1434  Laxman Vihar Industrial Area, Sector 3A, Gurgoan   \n",
       "11084      ID968              Delhi Administration Flats, Timarpur   \n",
       "11085     ID2394                                          Majestic   \n",
       "11086     ID2050               FTI College, Law College Road, Pune   \n",
       "11093     ID4417                                Sector 63A,Gurgaon   \n",
       "\n",
       "                                     Cuisines  AverageCost  MinimumOrder  \\\n",
       "12     Burger, Fast Food, Desserts, Beverages          150            50   \n",
       "16                                    Italian          100            50   \n",
       "18                             Kerala, Bihari          150            50   \n",
       "25                        Desserts, Ice Cream          100            50   \n",
       "47                                    Chinese          200            50   \n",
       "...                                       ...          ...           ...   \n",
       "11082          North Indian, Chinese, Mughlai          200            50   \n",
       "11084                     North Indian, Asian          200            50   \n",
       "11085                             Street Food          100            50   \n",
       "11086                 North Indian, Fast Food          300            50   \n",
       "11093                            North Indian          100            50   \n",
       "\n",
       "      Rating  Votes  Reviews  DeliveryTime  \n",
       "12       NaN    NaN      NaN            30  \n",
       "16       NaN    NaN      NaN            30  \n",
       "18       NaN    NaN      NaN            30  \n",
       "25       NaN    NaN      NaN            45  \n",
       "47       NEW    NaN      NaN            30  \n",
       "...      ...    ...      ...           ...  \n",
       "11082    NaN    NaN      NaN           120  \n",
       "11084    NEW    NaN      NaN            30  \n",
       "11085    NaN    NaN      NaN            30  \n",
       "11086    NaN    NaN      NaN            30  \n",
       "11093    NEW    NaN      NaN            30  \n",
       "\n",
       "[2312 rows x 9 columns]"
      ]
     },
     "execution_count": 23,
     "metadata": {},
     "output_type": "execute_result"
    }
   ],
   "source": [
    "rating_dropna_sampling = food[food.isnull().any(axis=1)]\n",
    "rating_dropna_sampling "
   ]
  },
  {
   "cell_type": "code",
   "execution_count": 24,
   "metadata": {
    "scrolled": true
   },
   "outputs": [],
   "source": [
    "#Rating : 일단 text로 되어 있는 애들은 새로 열었거나 일시적으로 문을 닫은 상태라는 의미이니, nan으로 만들어줌\n",
    "food['Rating']=pd.to_numeric(food['Rating'].apply(lambda x : np.nan if x in ['Temporarily Closed','Opening Soon','-','NEW'] else x))"
   ]
  },
  {
   "cell_type": "code",
   "execution_count": 25,
   "metadata": {
    "scrolled": true
   },
   "outputs": [
    {
     "data": {
      "text/plain": [
       "dtype('float64')"
      ]
     },
     "execution_count": 25,
     "metadata": {},
     "output_type": "execute_result"
    }
   ],
   "source": [
    "food['Rating'].dtypes"
   ]
  },
  {
   "cell_type": "code",
   "execution_count": 26,
   "metadata": {},
   "outputs": [
    {
     "data": {
      "image/png": "[encoded data removed]",
      "text/plain": [
       "<Figure size 1440x216 with 3 Axes>"
      ]
     },
     "metadata": {
      "needs_background": "light"
     },
     "output_type": "display_data"
    }
   ],
   "source": [
    "plt.figure(figsize=(20, 3))\n",
    "\n",
    "ax1 = plt.subplot(131)\n",
    "food['Rating'].hist()\n",
    "plt.xlabel('Rating')\n",
    "\n",
    "ax2 = plt.subplot(132)\n",
    "food['Reviews'].hist()\n",
    "plt.xlabel('Reviews')\n",
    "\n",
    "ax3 = plt.subplot(133)\n",
    "food['Votes'].hist()\n",
    "plt.xlabel('Votes')\n",
    "\n",
    "plt.show()"
   ]
  },
  {
   "cell_type": "markdown",
   "metadata": {},
   "source": [
    "Rating은 얼추 정규분포 비슷한 형태\n",
    "Votes와 Reviews는 표나 리뷰를 작성한 갯수라서 대부분은 0에 붙어 있는 작은 값이지만 엄청 큰 outliers들이 있는 분포다.\n",
    "-> scaling 또는 categorization 필요"
   ]
  },
  {
   "cell_type": "markdown",
   "metadata": {},
   "source": [
    "2. Location & Cuisines : 범주형 변수. encoding 전에 처리해야할 부분이 있는지 확인, 처리\n",
    "\n",
    "Location과 Cuisine variable의 가장 큰 특징은 그냥 범주형 변수가 아니라, 한 column안에서 , 를 기준으로 여러 개의 value가 들어가 있다는 점이다."
   ]
  },
  {
   "cell_type": "markdown",
   "metadata": {},
   "source": [
    "크게는 8개의 value가 들어가 있다. 이걸 어떻게 처리할까?\n",
    "1. one hot encoding\n",
    "2. label encoding\n",
    "3. multilabel binarizer\n",
    "4. text count vectorizer\n",
    "\n",
    "*참고*\n",
    "https://stackoverflow.com/questions/50473381/scikit-learns-labelbinarizer-vs-onehotencoder"
   ]
  },
  {
   "cell_type": "code",
   "execution_count": 161,
   "metadata": {
    "scrolled": true
   },
   "outputs": [
    {
     "data": {
      "text/plain": [
       "\"\\n1. one hot encoding\\ndummied = pd.get_dummies(food['Location'])\\ndummied\\n\""
      ]
     },
     "execution_count": 161,
     "metadata": {},
     "output_type": "execute_result"
    }
   ],
   "source": [
    "'''\n",
    "1. one hot encoding\n",
    "dummied = pd.get_dummies(food['Location'])\n",
    "dummied\n",
    "'''"
   ]
  },
  {
   "cell_type": "code",
   "execution_count": 162,
   "metadata": {
    "scrolled": true
   },
   "outputs": [
    {
     "data": {
      "text/plain": [
       "0        Fast Food, Rolls, Burger, Salad, Wraps\n",
       "1                           Ice Cream, Desserts\n",
       "2               Italian, Street Food, Fast Food\n",
       "3                Mughlai, North Indian, Chinese\n",
       "4                               Cafe, Beverages\n",
       "                          ...                  \n",
       "11089      Tibetan, Chinese, Continental, Momos\n",
       "11090                                 Fast Food\n",
       "11091       South Indian, Chinese, North Indian\n",
       "11092                              North Indian\n",
       "11093                              North Indian\n",
       "Name: Cuisines, Length: 11094, dtype: object"
      ]
     },
     "execution_count": 162,
     "metadata": {},
     "output_type": "execute_result"
    }
   ],
   "source": [
    "food['Cuisines']"
   ]
  },
  {
   "cell_type": "markdown",
   "metadata": {},
   "source": [
    "일단 하나의 셀에 있는 여러 값들을 쉼표 단위로 쪼개서 각각의 셀에 넣는다."
   ]
  },
  {
   "cell_type": "code",
   "execution_count": 163,
   "metadata": {},
   "outputs": [
    {
     "data": {
      "text/plain": [
       "0        Fast Food, Rolls, Burger, Salad, Wraps\n",
       "1                           Ice Cream, Desserts\n",
       "2               Italian, Street Food, Fast Food\n",
       "3                Mughlai, North Indian, Chinese\n",
       "4                               Cafe, Beverages\n",
       "                          ...                  \n",
       "11089      Tibetan, Chinese, Continental, Momos\n",
       "11090                                 Fast Food\n",
       "11091       South Indian, Chinese, North Indian\n",
       "11092                              North Indian\n",
       "11093                              North Indian\n",
       "Name: Cuisines, Length: 11094, dtype: object"
      ]
     },
     "execution_count": 163,
     "metadata": {},
     "output_type": "execute_result"
    }
   ],
   "source": [
    "food['Cuisines']"
   ]
  },
  {
   "cell_type": "code",
   "execution_count": 164,
   "metadata": {},
   "outputs": [],
   "source": [
    "#A function to find the maximun number of features in a single cell\n",
    "def max_features_in_single_row(data, delimiter):\n",
    "    max_info = 0 \n",
    "    item_lis = list(data)\n",
    "    for i in item_lis:\n",
    "#         print(i)\n",
    "        len_of_i = len(i.split(delimiter))\n",
    "        if len_of_i > max_info:\n",
    "            max_info = len_of_i \n",
    "    return max_info"
   ]
  },
  {
   "cell_type": "code",
   "execution_count": null,
   "metadata": {},
   "outputs": [],
   "source": []
  },
  {
   "cell_type": "code",
   "execution_count": 165,
   "metadata": {
    "scrolled": true
   },
   "outputs": [
    {
     "data": {
      "text/plain": [
       "8"
      ]
     },
     "execution_count": 165,
     "metadata": {},
     "output_type": "execute_result"
    }
   ],
   "source": [
    "max_features_in_single_row(food['Cuisines'], ',')"
   ]
  },
  {
   "cell_type": "code",
   "execution_count": 166,
   "metadata": {},
   "outputs": [],
   "source": [
    "\n",
    "#This function splits a column in to n features where n is the maximum number of features in a single cell\n",
    "def feature_splitter(feat, name, delimiter, max_info):\n",
    "  item_lis = list(feat)\n",
    "  extracted_features = {}\n",
    "\n",
    "  for i in range(max_info):\n",
    "    extracted_features['{}_Feature_{}'.format(name, i+1)] = []\n",
    "  \n",
    "  print(\"-\"*35)\n",
    "  print(\"Features Dictionary : \", extracted_features)\n",
    "\n",
    "  for i in tqdm(range(len(item_lis))):\n",
    "    for j in range(max_info):  \n",
    "      try:\n",
    "        extracted_features['{}_Feature_{}'.format(name,j+1)].append(item_lis[i].split(\"{}\".format(delimiter))[j].lower().strip())\n",
    "      except: \n",
    "        extracted_features['{}_Feature_{}'.format(name, j+1)].append(np.nan)\n",
    "\n",
    "\n",
    "  return extracted_features"
   ]
  },
  {
   "cell_type": "code",
   "execution_count": 167,
   "metadata": {},
   "outputs": [],
   "source": [
    "from tqdm import tqdm"
   ]
  },
  {
   "cell_type": "code",
   "execution_count": 168,
   "metadata": {},
   "outputs": [
    {
     "name": "stderr",
     "output_type": "stream",
     "text": [
      "100%|██████████| 11094/11094 [00:00<00:00, 167872.64it/s]"
     ]
    },
    {
     "name": "stdout",
     "output_type": "stream",
     "text": [
      "-----------------------------------\n",
      "Features Dictionary :  {'Location_Feature_1': [], 'Location_Feature_2': [], 'Location_Feature_3': [], 'Location_Feature_4': []}\n"
     ]
    },
    {
     "name": "stderr",
     "output_type": "stream",
     "text": [
      "\n"
     ]
    }
   ],
   "source": [
    "#Splitting Location\n",
    "loc_max = max_features_in_single_row(food['Location'], ',')\n",
    "Location_splits = feature_splitter(food['Location'], 'Location', ',', loc_max)\n"
   ]
  },
  {
   "cell_type": "code",
   "execution_count": null,
   "metadata": {},
   "outputs": [],
   "source": []
  },
  {
   "cell_type": "code",
   "execution_count": 169,
   "metadata": {
    "scrolled": true
   },
   "outputs": [
    {
     "name": "stderr",
     "output_type": "stream",
     "text": [
      "100%|██████████| 11094/11094 [00:00<00:00, 81732.05it/s]"
     ]
    },
    {
     "name": "stdout",
     "output_type": "stream",
     "text": [
      "-----------------------------------\n",
      "Features Dictionary :  {'Cuisines_Feature_1': [], 'Cuisines_Feature_2': [], 'Cuisines_Feature_3': [], 'Cuisines_Feature_4': [], 'Cuisines_Feature_5': [], 'Cuisines_Feature_6': [], 'Cuisines_Feature_7': [], 'Cuisines_Feature_8': []}\n"
     ]
    },
    {
     "name": "stderr",
     "output_type": "stream",
     "text": [
      "\n"
     ]
    }
   ],
   "source": [
    "#Splitting Cuisines\n",
    "cus_max = max_features_in_single_row(food['Cuisines'], ',')\n",
    "Cuisines_splits = feature_splitter(food['Cuisines'], 'Cuisines', ',', cus_max)"
   ]
  },
  {
   "cell_type": "code",
   "execution_count": 170,
   "metadata": {},
   "outputs": [
    {
     "data": {
      "text/html": [
       "<div>\n",
       "<style scoped>\n",
       "    .dataframe tbody tr th:only-of-type {\n",
       "        vertical-align: middle;\n",
       "    }\n",
       "\n",
       "    .dataframe tbody tr th {\n",
       "        vertical-align: top;\n",
       "    }\n",
       "\n",
       "    .dataframe thead th {\n",
       "        text-align: right;\n",
       "    }\n",
       "</style>\n",
       "<table border=\"1\" class=\"dataframe\">\n",
       "  <thead>\n",
       "    <tr style=\"text-align: right;\">\n",
       "      <th></th>\n",
       "      <th>Cuisines_Feature_1</th>\n",
       "      <th>Cuisines_Feature_2</th>\n",
       "      <th>Cuisines_Feature_3</th>\n",
       "      <th>Cuisines_Feature_4</th>\n",
       "      <th>Cuisines_Feature_5</th>\n",
       "      <th>Cuisines_Feature_6</th>\n",
       "      <th>Cuisines_Feature_7</th>\n",
       "      <th>Cuisines_Feature_8</th>\n",
       "    </tr>\n",
       "  </thead>\n",
       "  <tbody>\n",
       "    <tr>\n",
       "      <th>0</th>\n",
       "      <td>fast food</td>\n",
       "      <td>rolls</td>\n",
       "      <td>burger</td>\n",
       "      <td>salad</td>\n",
       "      <td>wraps</td>\n",
       "      <td>NaN</td>\n",
       "      <td>NaN</td>\n",
       "      <td>NaN</td>\n",
       "    </tr>\n",
       "    <tr>\n",
       "      <th>1</th>\n",
       "      <td>ice cream</td>\n",
       "      <td>desserts</td>\n",
       "      <td>NaN</td>\n",
       "      <td>NaN</td>\n",
       "      <td>NaN</td>\n",
       "      <td>NaN</td>\n",
       "      <td>NaN</td>\n",
       "      <td>NaN</td>\n",
       "    </tr>\n",
       "    <tr>\n",
       "      <th>2</th>\n",
       "      <td>italian</td>\n",
       "      <td>street food</td>\n",
       "      <td>fast food</td>\n",
       "      <td>NaN</td>\n",
       "      <td>NaN</td>\n",
       "      <td>NaN</td>\n",
       "      <td>NaN</td>\n",
       "      <td>NaN</td>\n",
       "    </tr>\n",
       "    <tr>\n",
       "      <th>3</th>\n",
       "      <td>mughlai</td>\n",
       "      <td>north indian</td>\n",
       "      <td>chinese</td>\n",
       "      <td>NaN</td>\n",
       "      <td>NaN</td>\n",
       "      <td>NaN</td>\n",
       "      <td>NaN</td>\n",
       "      <td>NaN</td>\n",
       "    </tr>\n",
       "    <tr>\n",
       "      <th>4</th>\n",
       "      <td>cafe</td>\n",
       "      <td>beverages</td>\n",
       "      <td>NaN</td>\n",
       "      <td>NaN</td>\n",
       "      <td>NaN</td>\n",
       "      <td>NaN</td>\n",
       "      <td>NaN</td>\n",
       "      <td>NaN</td>\n",
       "    </tr>\n",
       "    <tr>\n",
       "      <th>...</th>\n",
       "      <td>...</td>\n",
       "      <td>...</td>\n",
       "      <td>...</td>\n",
       "      <td>...</td>\n",
       "      <td>...</td>\n",
       "      <td>...</td>\n",
       "      <td>...</td>\n",
       "      <td>...</td>\n",
       "    </tr>\n",
       "    <tr>\n",
       "      <th>11089</th>\n",
       "      <td>tibetan</td>\n",
       "      <td>chinese</td>\n",
       "      <td>continental</td>\n",
       "      <td>momos</td>\n",
       "      <td>NaN</td>\n",
       "      <td>NaN</td>\n",
       "      <td>NaN</td>\n",
       "      <td>NaN</td>\n",
       "    </tr>\n",
       "    <tr>\n",
       "      <th>11090</th>\n",
       "      <td>fast food</td>\n",
       "      <td>NaN</td>\n",
       "      <td>NaN</td>\n",
       "      <td>NaN</td>\n",
       "      <td>NaN</td>\n",
       "      <td>NaN</td>\n",
       "      <td>NaN</td>\n",
       "      <td>NaN</td>\n",
       "    </tr>\n",
       "    <tr>\n",
       "      <th>11091</th>\n",
       "      <td>south indian</td>\n",
       "      <td>chinese</td>\n",
       "      <td>north indian</td>\n",
       "      <td>NaN</td>\n",
       "      <td>NaN</td>\n",
       "      <td>NaN</td>\n",
       "      <td>NaN</td>\n",
       "      <td>NaN</td>\n",
       "    </tr>\n",
       "    <tr>\n",
       "      <th>11092</th>\n",
       "      <td>north indian</td>\n",
       "      <td>NaN</td>\n",
       "      <td>NaN</td>\n",
       "      <td>NaN</td>\n",
       "      <td>NaN</td>\n",
       "      <td>NaN</td>\n",
       "      <td>NaN</td>\n",
       "      <td>NaN</td>\n",
       "    </tr>\n",
       "    <tr>\n",
       "      <th>11093</th>\n",
       "      <td>north indian</td>\n",
       "      <td>NaN</td>\n",
       "      <td>NaN</td>\n",
       "      <td>NaN</td>\n",
       "      <td>NaN</td>\n",
       "      <td>NaN</td>\n",
       "      <td>NaN</td>\n",
       "      <td>NaN</td>\n",
       "    </tr>\n",
       "  </tbody>\n",
       "</table>\n",
       "<p>11094 rows × 8 columns</p>\n",
       "</div>"
      ],
      "text/plain": [
       "      Cuisines_Feature_1 Cuisines_Feature_2 Cuisines_Feature_3  \\\n",
       "0              fast food              rolls             burger   \n",
       "1              ice cream           desserts                NaN   \n",
       "2                italian        street food          fast food   \n",
       "3                mughlai       north indian            chinese   \n",
       "4                   cafe          beverages                NaN   \n",
       "...                  ...                ...                ...   \n",
       "11089            tibetan            chinese        continental   \n",
       "11090          fast food                NaN                NaN   \n",
       "11091       south indian            chinese       north indian   \n",
       "11092       north indian                NaN                NaN   \n",
       "11093       north indian                NaN                NaN   \n",
       "\n",
       "      Cuisines_Feature_4 Cuisines_Feature_5 Cuisines_Feature_6  \\\n",
       "0                  salad              wraps                NaN   \n",
       "1                    NaN                NaN                NaN   \n",
       "2                    NaN                NaN                NaN   \n",
       "3                    NaN                NaN                NaN   \n",
       "4                    NaN                NaN                NaN   \n",
       "...                  ...                ...                ...   \n",
       "11089              momos                NaN                NaN   \n",
       "11090                NaN                NaN                NaN   \n",
       "11091                NaN                NaN                NaN   \n",
       "11092                NaN                NaN                NaN   \n",
       "11093                NaN                NaN                NaN   \n",
       "\n",
       "      Cuisines_Feature_7 Cuisines_Feature_8  \n",
       "0                    NaN                NaN  \n",
       "1                    NaN                NaN  \n",
       "2                    NaN                NaN  \n",
       "3                    NaN                NaN  \n",
       "4                    NaN                NaN  \n",
       "...                  ...                ...  \n",
       "11089                NaN                NaN  \n",
       "11090                NaN                NaN  \n",
       "11091                NaN                NaN  \n",
       "11092                NaN                NaN  \n",
       "11093                NaN                NaN  \n",
       "\n",
       "[11094 rows x 8 columns]"
      ]
     },
     "execution_count": 170,
     "metadata": {},
     "output_type": "execute_result"
    }
   ],
   "source": [
    "cus_df = pd.DataFrame(Cuisines_splits)\n",
    "cus_df"
   ]
  },
  {
   "cell_type": "code",
   "execution_count": 171,
   "metadata": {},
   "outputs": [
    {
     "data": {
      "text/html": [
       "<div>\n",
       "<style scoped>\n",
       "    .dataframe tbody tr th:only-of-type {\n",
       "        vertical-align: middle;\n",
       "    }\n",
       "\n",
       "    .dataframe tbody tr th {\n",
       "        vertical-align: top;\n",
       "    }\n",
       "\n",
       "    .dataframe thead th {\n",
       "        text-align: right;\n",
       "    }\n",
       "</style>\n",
       "<table border=\"1\" class=\"dataframe\">\n",
       "  <thead>\n",
       "    <tr style=\"text-align: right;\">\n",
       "      <th></th>\n",
       "      <th>Location_Feature_1</th>\n",
       "      <th>Location_Feature_2</th>\n",
       "      <th>Location_Feature_3</th>\n",
       "      <th>Location_Feature_4</th>\n",
       "    </tr>\n",
       "  </thead>\n",
       "  <tbody>\n",
       "    <tr>\n",
       "      <th>0</th>\n",
       "      <td>fti college</td>\n",
       "      <td>law college road</td>\n",
       "      <td>pune</td>\n",
       "      <td>NaN</td>\n",
       "    </tr>\n",
       "    <tr>\n",
       "      <th>1</th>\n",
       "      <td>sector 3</td>\n",
       "      <td>marathalli</td>\n",
       "      <td>NaN</td>\n",
       "      <td>NaN</td>\n",
       "    </tr>\n",
       "    <tr>\n",
       "      <th>2</th>\n",
       "      <td>mumbai central</td>\n",
       "      <td>NaN</td>\n",
       "      <td>NaN</td>\n",
       "      <td>NaN</td>\n",
       "    </tr>\n",
       "    <tr>\n",
       "      <th>3</th>\n",
       "      <td>sector 1</td>\n",
       "      <td>noida</td>\n",
       "      <td>NaN</td>\n",
       "      <td>NaN</td>\n",
       "    </tr>\n",
       "    <tr>\n",
       "      <th>4</th>\n",
       "      <td>rmz centennial</td>\n",
       "      <td>i gate</td>\n",
       "      <td>whitefield</td>\n",
       "      <td>NaN</td>\n",
       "    </tr>\n",
       "    <tr>\n",
       "      <th>...</th>\n",
       "      <td>...</td>\n",
       "      <td>...</td>\n",
       "      <td>...</td>\n",
       "      <td>...</td>\n",
       "    </tr>\n",
       "    <tr>\n",
       "      <th>11089</th>\n",
       "      <td>btm layout 1</td>\n",
       "      <td>electronic city</td>\n",
       "      <td>NaN</td>\n",
       "      <td>NaN</td>\n",
       "    </tr>\n",
       "    <tr>\n",
       "      <th>11090</th>\n",
       "      <td>sector 14</td>\n",
       "      <td>noida</td>\n",
       "      <td>NaN</td>\n",
       "      <td>NaN</td>\n",
       "    </tr>\n",
       "    <tr>\n",
       "      <th>11091</th>\n",
       "      <td>majestic</td>\n",
       "      <td>NaN</td>\n",
       "      <td>NaN</td>\n",
       "      <td>NaN</td>\n",
       "    </tr>\n",
       "    <tr>\n",
       "      <th>11092</th>\n",
       "      <td>sector 3</td>\n",
       "      <td>marathalli</td>\n",
       "      <td>NaN</td>\n",
       "      <td>NaN</td>\n",
       "    </tr>\n",
       "    <tr>\n",
       "      <th>11093</th>\n",
       "      <td>sector 63a</td>\n",
       "      <td>gurgaon</td>\n",
       "      <td>NaN</td>\n",
       "      <td>NaN</td>\n",
       "    </tr>\n",
       "  </tbody>\n",
       "</table>\n",
       "<p>11094 rows × 4 columns</p>\n",
       "</div>"
      ],
      "text/plain": [
       "      Location_Feature_1 Location_Feature_2 Location_Feature_3  \\\n",
       "0            fti college   law college road               pune   \n",
       "1               sector 3         marathalli                NaN   \n",
       "2         mumbai central                NaN                NaN   \n",
       "3               sector 1              noida                NaN   \n",
       "4         rmz centennial             i gate         whitefield   \n",
       "...                  ...                ...                ...   \n",
       "11089       btm layout 1    electronic city                NaN   \n",
       "11090          sector 14              noida                NaN   \n",
       "11091           majestic                NaN                NaN   \n",
       "11092           sector 3         marathalli                NaN   \n",
       "11093         sector 63a            gurgaon                NaN   \n",
       "\n",
       "      Location_Feature_4  \n",
       "0                    NaN  \n",
       "1                    NaN  \n",
       "2                    NaN  \n",
       "3                    NaN  \n",
       "4                    NaN  \n",
       "...                  ...  \n",
       "11089                NaN  \n",
       "11090                NaN  \n",
       "11091                NaN  \n",
       "11092                NaN  \n",
       "11093                NaN  \n",
       "\n",
       "[11094 rows x 4 columns]"
      ]
     },
     "execution_count": 171,
     "metadata": {},
     "output_type": "execute_result"
    }
   ],
   "source": [
    "loc_df = pd.DataFrame(Location_splits)\n",
    "loc_df"
   ]
  },
  {
   "cell_type": "code",
   "execution_count": 172,
   "metadata": {},
   "outputs": [
    {
     "data": {
      "text/plain": [
       "\"\\nfrom sklearn.preprocessing import MultiLabelBinarizer\\n\\nfood['Cuisines']\\n\\nmb_cuisines = MultiLabelBinarizer()\\n\\nc_values = [_c.split(', ') for _c in food.Cuisines.values]\\nc_values\\n\\ny_df = mb_cuisines.fit_transform(c_values)\\n\\ny_df = pd.DataFrame(y_df)\\ny_df.head()\\n\""
      ]
     },
     "execution_count": 172,
     "metadata": {},
     "output_type": "execute_result"
    }
   ],
   "source": [
    "'''\n",
    "from sklearn.preprocessing import MultiLabelBinarizer\n",
    "\n",
    "food['Cuisines']\n",
    "\n",
    "mb_cuisines = MultiLabelBinarizer()\n",
    "\n",
    "c_values = [_c.split(', ') for _c in food.Cuisines.values]\n",
    "c_values\n",
    "\n",
    "y_df = mb_cuisines.fit_transform(c_values)\n",
    "\n",
    "y_df = pd.DataFrame(y_df)\n",
    "y_df.head()\n",
    "'''"
   ]
  },
  {
   "cell_type": "markdown",
   "metadata": {},
   "source": [
    "### 3-3. 결측치 처리"
   ]
  },
  {
   "cell_type": "markdown",
   "metadata": {},
   "source": [
    "1. 연속형 변수들의 결측치 처리"
   ]
  },
  {
   "cell_type": "code",
   "execution_count": 173,
   "metadata": {
    "scrolled": true
   },
   "outputs": [
    {
     "data": {
      "text/plain": [
       "Restaurant         0\n",
       "Location           0\n",
       "Cuisines           0\n",
       "AverageCost        0\n",
       "MinimumOrder       0\n",
       "Rating          1963\n",
       "Votes           2074\n",
       "Reviews         2312\n",
       "DeliveryTime       0\n",
       "dtype: int64"
      ]
     },
     "execution_count": 173,
     "metadata": {},
     "output_type": "execute_result"
    }
   ],
   "source": [
    "food.isnull().sum()"
   ]
  },
  {
   "cell_type": "markdown",
   "metadata": {},
   "source": [
    "결측치가 상당히 많아서 버리긴 아깝다.\n",
    "\n",
    "1. mean\n",
    "2. median\n",
    "3. mode\n",
    "4. 특징에 따라 가까운 값 넣기\n",
    "\n",
    "\n",
    "-> 일단은 median 값으로 결측치 처리해보기\n"
   ]
  },
  {
   "cell_type": "code",
   "execution_count": 174,
   "metadata": {},
   "outputs": [],
   "source": [
    "food[\"Rating_new\"] = food[\"Rating\"].fillna(food[\"Rating\"].median())"
   ]
  },
  {
   "cell_type": "code",
   "execution_count": 175,
   "metadata": {},
   "outputs": [],
   "source": [
    "food.drop(\"Rating_new\", axis=1, inplace=True)"
   ]
  },
  {
   "cell_type": "code",
   "execution_count": null,
   "metadata": {},
   "outputs": [],
   "source": []
  },
  {
   "cell_type": "code",
   "execution_count": 176,
   "metadata": {
    "scrolled": true
   },
   "outputs": [
    {
     "data": {
      "text/plain": [
       "Restaurant         0\n",
       "Location           0\n",
       "Cuisines           0\n",
       "AverageCost        0\n",
       "MinimumOrder       0\n",
       "Rating          1963\n",
       "Votes           2074\n",
       "Reviews         2312\n",
       "DeliveryTime       0\n",
       "dtype: int64"
      ]
     },
     "execution_count": 176,
     "metadata": {},
     "output_type": "execute_result"
    }
   ],
   "source": [
    "food.isnull().sum()"
   ]
  },
  {
   "cell_type": "code",
   "execution_count": 177,
   "metadata": {},
   "outputs": [],
   "source": [
    "def fillnawithmedian(data, var):\n",
    "    data[f\"{var}_filled\"] = data[var].fillna(data[var].median())\n",
    "    return data[f\"{var}_filled\"]"
   ]
  },
  {
   "cell_type": "code",
   "execution_count": 178,
   "metadata": {},
   "outputs": [
    {
     "data": {
      "text/plain": [
       "0          4.0\n",
       "1          4.0\n",
       "2         30.0\n",
       "3         95.0\n",
       "4        235.0\n",
       "         ...  \n",
       "11089    189.0\n",
       "11090     16.0\n",
       "11091     18.0\n",
       "11092      9.0\n",
       "11093     26.0\n",
       "Name: Reviews_filled, Length: 11094, dtype: float64"
      ]
     },
     "execution_count": 178,
     "metadata": {},
     "output_type": "execute_result"
    }
   ],
   "source": [
    "fillnawithmedian(food, 'Rating')\n",
    "fillnawithmedian(food, 'Votes')\n",
    "fillnawithmedian(food, 'Reviews')"
   ]
  },
  {
   "cell_type": "code",
   "execution_count": 179,
   "metadata": {},
   "outputs": [
    {
     "data": {
      "text/plain": [
       "Restaurant           0\n",
       "Location             0\n",
       "Cuisines             0\n",
       "AverageCost          0\n",
       "MinimumOrder         0\n",
       "Rating            1963\n",
       "Votes             2074\n",
       "Reviews           2312\n",
       "DeliveryTime         0\n",
       "Rating_filled        0\n",
       "Votes_filled         0\n",
       "Reviews_filled       0\n",
       "dtype: int64"
      ]
     },
     "execution_count": 179,
     "metadata": {},
     "output_type": "execute_result"
    }
   ],
   "source": [
    "food.isnull().sum()"
   ]
  },
  {
   "cell_type": "markdown",
   "metadata": {},
   "source": [
    "2. 범주형 변수들의 결측치 처리\n",
    "\n",
    "참고: https://analyticsindiamag.com/predict-the-food-delivery-time-hackathon-solution/\n",
    "\n",
    "현재 범주형 변수 중 콤마를 delimeter로 해서 여러 value들이 한 column에 들어갔던 애들을 쪼개서 한 column에 한 값이 들어가게 만든 상태입니다.\n",
    "각 row마다 들어간 value의 갯수가 다르기 때문에 결측치가 많아서 encoding을 하기 위한 처리가 필요합니다.\n",
    "그래서 일단 null 값들에 스트링 \"NAN\"을 채우고, 컬럼이 이미 많아졌기 때문에 one hot encoding 이 아닌 label encoding을 해보려 합니다."
   ]
  },
  {
   "cell_type": "code",
   "execution_count": 180,
   "metadata": {},
   "outputs": [
    {
     "data": {
      "text/plain": [
       "Location_Feature_1        0\n",
       "Location_Feature_2     1942\n",
       "Location_Feature_3     6364\n",
       "Location_Feature_4    10068\n",
       "dtype: int64"
      ]
     },
     "execution_count": 180,
     "metadata": {},
     "output_type": "execute_result"
    }
   ],
   "source": [
    "loc_df.isnull().sum()"
   ]
  },
  {
   "cell_type": "code",
   "execution_count": 181,
   "metadata": {},
   "outputs": [
    {
     "data": {
      "text/plain": [
       "Cuisines_Feature_1        0\n",
       "Cuisines_Feature_2     3012\n",
       "Cuisines_Feature_3     6931\n",
       "Cuisines_Feature_4     9393\n",
       "Cuisines_Feature_5    10449\n",
       "Cuisines_Feature_6    10854\n",
       "Cuisines_Feature_7    10978\n",
       "Cuisines_Feature_8    11046\n",
       "dtype: int64"
      ]
     },
     "execution_count": 181,
     "metadata": {},
     "output_type": "execute_result"
    }
   ],
   "source": [
    "cus_df.isnull().sum()"
   ]
  },
  {
   "cell_type": "code",
   "execution_count": 182,
   "metadata": {},
   "outputs": [],
   "source": [
    "#결측치를 스트링으로 일단 채우기\n",
    "loc_df.fillna('NAN', inplace = True)\n",
    "cus_df.fillna('NAN', inplace = True)"
   ]
  },
  {
   "cell_type": "code",
   "execution_count": 183,
   "metadata": {},
   "outputs": [],
   "source": [
    "#Location, Cuisines 의 unique한 값들을 찾고, 거기 따라 label 부여하기\n",
    "temp1 = []\n",
    "for i in Cuisines_splits.keys():\n",
    "  for j in Cuisines_splits.get(i):\n",
    "    temp1.append(j)\n",
    "\n",
    "unique_cuisines = list(pd.Series(temp1).unique())\n",
    "unique_cuisines.append('NAN') #나중에 추가한 NAN도 유니크 리스트에 껴주기 "
   ]
  },
  {
   "cell_type": "code",
   "execution_count": 184,
   "metadata": {},
   "outputs": [
    {
     "data": {
      "text/plain": [
       "103"
      ]
     },
     "execution_count": 184,
     "metadata": {},
     "output_type": "execute_result"
    }
   ],
   "source": [
    "len(unique_cuisines)"
   ]
  },
  {
   "cell_type": "markdown",
   "metadata": {},
   "source": [
    "무려 103개나 됩니다 이를 의미 있는 것 끼리 categorization하면 좋겠지만(예를 들어 디저트 류는 디저트 끼리 이런 식으로...) 일단은 label encoding을 하려 합니다."
   ]
  },
  {
   "cell_type": "code",
   "execution_count": 185,
   "metadata": {},
   "outputs": [],
   "source": [
    "temp1 = []\n",
    "for i in Location_splits.keys():\n",
    "  for j in Location_splits.get(i):\n",
    "    temp1.append(j)\n",
    "\n",
    "unique_location = list(pd.Series(temp1).unique())\n",
    "unique_location.append('NAN') #나중에 추가한 NAN도 유니크 리스트에 껴주기 "
   ]
  },
  {
   "cell_type": "code",
   "execution_count": 186,
   "metadata": {},
   "outputs": [
    {
     "data": {
      "text/plain": [
       "67"
      ]
     },
     "execution_count": 186,
     "metadata": {},
     "output_type": "execute_result"
    }
   ],
   "source": [
    "len(unique_location)"
   ]
  },
  {
   "cell_type": "markdown",
   "metadata": {},
   "source": [
    "로케이션도 의미를 찾을 수도 있습니다. 일단 쉼표로 쓴 주소 제일 마지막 value는 도시 단위일 것이기 때문에 도시 단위로 묶어서 비교할 수도 있겠죠. 그러나 일단은 cuisines와 동일하게 label encoding을 하겠습니다."
   ]
  },
  {
   "cell_type": "code",
   "execution_count": 187,
   "metadata": {},
   "outputs": [],
   "source": [
    "#encoding the categorical Features\n",
    "from sklearn.preprocessing import LabelEncoder\n",
    "le_c = LabelEncoder().fit(unique_cuisines)\n",
    "le_l = LabelEncoder().fit(unique_location)"
   ]
  },
  {
   "cell_type": "code",
   "execution_count": 188,
   "metadata": {},
   "outputs": [],
   "source": [
    "for i in Location_splits.keys():\n",
    "  loc_df[i] = le_l.transform(loc_df[i])"
   ]
  },
  {
   "cell_type": "code",
   "execution_count": 189,
   "metadata": {},
   "outputs": [],
   "source": [
    "for i in Cuisines_splits.keys():\n",
    "  cus_df[i] = le_c.transform(cus_df[i])"
   ]
  },
  {
   "cell_type": "code",
   "execution_count": 190,
   "metadata": {
    "scrolled": true
   },
   "outputs": [
    {
     "data": {
      "text/html": [
       "<div>\n",
       "<style scoped>\n",
       "    .dataframe tbody tr th:only-of-type {\n",
       "        vertical-align: middle;\n",
       "    }\n",
       "\n",
       "    .dataframe tbody tr th {\n",
       "        vertical-align: top;\n",
       "    }\n",
       "\n",
       "    .dataframe thead th {\n",
       "        text-align: right;\n",
       "    }\n",
       "</style>\n",
       "<table border=\"1\" class=\"dataframe\">\n",
       "  <thead>\n",
       "    <tr style=\"text-align: right;\">\n",
       "      <th></th>\n",
       "      <th>Cuisines_Feature_1</th>\n",
       "      <th>Cuisines_Feature_2</th>\n",
       "      <th>Cuisines_Feature_3</th>\n",
       "      <th>Cuisines_Feature_4</th>\n",
       "      <th>Cuisines_Feature_5</th>\n",
       "      <th>Cuisines_Feature_6</th>\n",
       "      <th>Cuisines_Feature_7</th>\n",
       "      <th>Cuisines_Feature_8</th>\n",
       "    </tr>\n",
       "  </thead>\n",
       "  <tbody>\n",
       "    <tr>\n",
       "      <th>0</th>\n",
       "      <td>32</td>\n",
       "      <td>84</td>\n",
       "      <td>21</td>\n",
       "      <td>85</td>\n",
       "      <td>102</td>\n",
       "      <td>0</td>\n",
       "      <td>0</td>\n",
       "      <td>0</td>\n",
       "    </tr>\n",
       "    <tr>\n",
       "      <th>1</th>\n",
       "      <td>43</td>\n",
       "      <td>30</td>\n",
       "      <td>0</td>\n",
       "      <td>0</td>\n",
       "      <td>0</td>\n",
       "      <td>0</td>\n",
       "      <td>0</td>\n",
       "      <td>0</td>\n",
       "    </tr>\n",
       "    <tr>\n",
       "      <th>2</th>\n",
       "      <td>48</td>\n",
       "      <td>93</td>\n",
       "      <td>32</td>\n",
       "      <td>0</td>\n",
       "      <td>0</td>\n",
       "      <td>0</td>\n",
       "      <td>0</td>\n",
       "      <td>0</td>\n",
       "    </tr>\n",
       "    <tr>\n",
       "      <th>3</th>\n",
       "      <td>69</td>\n",
       "      <td>74</td>\n",
       "      <td>27</td>\n",
       "      <td>0</td>\n",
       "      <td>0</td>\n",
       "      <td>0</td>\n",
       "      <td>0</td>\n",
       "      <td>0</td>\n",
       "    </tr>\n",
       "    <tr>\n",
       "      <th>4</th>\n",
       "      <td>23</td>\n",
       "      <td>15</td>\n",
       "      <td>0</td>\n",
       "      <td>0</td>\n",
       "      <td>0</td>\n",
       "      <td>0</td>\n",
       "      <td>0</td>\n",
       "      <td>0</td>\n",
       "    </tr>\n",
       "    <tr>\n",
       "      <th>...</th>\n",
       "      <td>...</td>\n",
       "      <td>...</td>\n",
       "      <td>...</td>\n",
       "      <td>...</td>\n",
       "      <td>...</td>\n",
       "      <td>...</td>\n",
       "      <td>...</td>\n",
       "      <td>...</td>\n",
       "    </tr>\n",
       "    <tr>\n",
       "      <th>11089</th>\n",
       "      <td>99</td>\n",
       "      <td>27</td>\n",
       "      <td>29</td>\n",
       "      <td>68</td>\n",
       "      <td>0</td>\n",
       "      <td>0</td>\n",
       "      <td>0</td>\n",
       "      <td>0</td>\n",
       "    </tr>\n",
       "    <tr>\n",
       "      <th>11090</th>\n",
       "      <td>32</td>\n",
       "      <td>0</td>\n",
       "      <td>0</td>\n",
       "      <td>0</td>\n",
       "      <td>0</td>\n",
       "      <td>0</td>\n",
       "      <td>0</td>\n",
       "      <td>0</td>\n",
       "    </tr>\n",
       "    <tr>\n",
       "      <th>11091</th>\n",
       "      <td>89</td>\n",
       "      <td>27</td>\n",
       "      <td>74</td>\n",
       "      <td>0</td>\n",
       "      <td>0</td>\n",
       "      <td>0</td>\n",
       "      <td>0</td>\n",
       "      <td>0</td>\n",
       "    </tr>\n",
       "    <tr>\n",
       "      <th>11092</th>\n",
       "      <td>74</td>\n",
       "      <td>0</td>\n",
       "      <td>0</td>\n",
       "      <td>0</td>\n",
       "      <td>0</td>\n",
       "      <td>0</td>\n",
       "      <td>0</td>\n",
       "      <td>0</td>\n",
       "    </tr>\n",
       "    <tr>\n",
       "      <th>11093</th>\n",
       "      <td>74</td>\n",
       "      <td>0</td>\n",
       "      <td>0</td>\n",
       "      <td>0</td>\n",
       "      <td>0</td>\n",
       "      <td>0</td>\n",
       "      <td>0</td>\n",
       "      <td>0</td>\n",
       "    </tr>\n",
       "  </tbody>\n",
       "</table>\n",
       "<p>11094 rows × 8 columns</p>\n",
       "</div>"
      ],
      "text/plain": [
       "       Cuisines_Feature_1  Cuisines_Feature_2  Cuisines_Feature_3  \\\n",
       "0                      32                  84                  21   \n",
       "1                      43                  30                   0   \n",
       "2                      48                  93                  32   \n",
       "3                      69                  74                  27   \n",
       "4                      23                  15                   0   \n",
       "...                   ...                 ...                 ...   \n",
       "11089                  99                  27                  29   \n",
       "11090                  32                   0                   0   \n",
       "11091                  89                  27                  74   \n",
       "11092                  74                   0                   0   \n",
       "11093                  74                   0                   0   \n",
       "\n",
       "       Cuisines_Feature_4  Cuisines_Feature_5  Cuisines_Feature_6  \\\n",
       "0                      85                 102                   0   \n",
       "1                       0                   0                   0   \n",
       "2                       0                   0                   0   \n",
       "3                       0                   0                   0   \n",
       "4                       0                   0                   0   \n",
       "...                   ...                 ...                 ...   \n",
       "11089                  68                   0                   0   \n",
       "11090                   0                   0                   0   \n",
       "11091                   0                   0                   0   \n",
       "11092                   0                   0                   0   \n",
       "11093                   0                   0                   0   \n",
       "\n",
       "       Cuisines_Feature_7  Cuisines_Feature_8  \n",
       "0                       0                   0  \n",
       "1                       0                   0  \n",
       "2                       0                   0  \n",
       "3                       0                   0  \n",
       "4                       0                   0  \n",
       "...                   ...                 ...  \n",
       "11089                   0                   0  \n",
       "11090                   0                   0  \n",
       "11091                   0                   0  \n",
       "11092                   0                   0  \n",
       "11093                   0                   0  \n",
       "\n",
       "[11094 rows x 8 columns]"
      ]
     },
     "execution_count": 190,
     "metadata": {},
     "output_type": "execute_result"
    }
   ],
   "source": [
    "cus_df"
   ]
  },
  {
   "cell_type": "markdown",
   "metadata": {},
   "source": [
    "Restaurant 변수는 모두 고유값이라면, 그냥 index로 보고 탈락시킬 텐데, restaurant이 중복 등장한 경우도 있습니다. 고유값이 7000개가 넘다보니 역시 label encoding을 하도록 하겠습니다."
   ]
  },
  {
   "cell_type": "code",
   "execution_count": 191,
   "metadata": {},
   "outputs": [],
   "source": [
    "unique_restaurant = list(set(list(food['Restaurant'])))"
   ]
  },
  {
   "cell_type": "code",
   "execution_count": 192,
   "metadata": {},
   "outputs": [
    {
     "data": {
      "text/plain": [
       "7480"
      ]
     },
     "execution_count": 192,
     "metadata": {},
     "output_type": "execute_result"
    }
   ],
   "source": [
    "len(unique_restaurant)"
   ]
  },
  {
   "cell_type": "markdown",
   "metadata": {},
   "source": [
    "이제 모델링할 정제된 fianl dataframe을 만들기 위해 기존 df를 copy해서 작업하겠습니다."
   ]
  },
  {
   "cell_type": "code",
   "execution_count": 193,
   "metadata": {},
   "outputs": [],
   "source": [
    "final = food.copy()"
   ]
  },
  {
   "cell_type": "code",
   "execution_count": 194,
   "metadata": {},
   "outputs": [],
   "source": [
    "le_restaurant = LabelEncoder().fit(unique_restaurant)\n",
    "final['Restaurant'] = le_restaurant.transform(final['Restaurant'])"
   ]
  },
  {
   "cell_type": "code",
   "execution_count": 195,
   "metadata": {
    "scrolled": true
   },
   "outputs": [
    {
     "data": {
      "text/html": [
       "<div>\n",
       "<style scoped>\n",
       "    .dataframe tbody tr th:only-of-type {\n",
       "        vertical-align: middle;\n",
       "    }\n",
       "\n",
       "    .dataframe tbody tr th {\n",
       "        vertical-align: top;\n",
       "    }\n",
       "\n",
       "    .dataframe thead th {\n",
       "        text-align: right;\n",
       "    }\n",
       "</style>\n",
       "<table border=\"1\" class=\"dataframe\">\n",
       "  <thead>\n",
       "    <tr style=\"text-align: right;\">\n",
       "      <th></th>\n",
       "      <th>Restaurant</th>\n",
       "      <th>Location</th>\n",
       "      <th>Cuisines</th>\n",
       "      <th>AverageCost</th>\n",
       "      <th>MinimumOrder</th>\n",
       "      <th>Rating</th>\n",
       "      <th>Votes</th>\n",
       "      <th>Reviews</th>\n",
       "      <th>DeliveryTime</th>\n",
       "      <th>Rating_filled</th>\n",
       "      <th>Votes_filled</th>\n",
       "      <th>Reviews_filled</th>\n",
       "    </tr>\n",
       "  </thead>\n",
       "  <tbody>\n",
       "    <tr>\n",
       "      <th>0</th>\n",
       "      <td>5086</td>\n",
       "      <td>FTI College, Law College Road, Pune</td>\n",
       "      <td>Fast Food, Rolls, Burger, Salad, Wraps</td>\n",
       "      <td>200</td>\n",
       "      <td>50</td>\n",
       "      <td>3.5</td>\n",
       "      <td>12.0</td>\n",
       "      <td>4.0</td>\n",
       "      <td>30</td>\n",
       "      <td>3.5</td>\n",
       "      <td>12.0</td>\n",
       "      <td>4.0</td>\n",
       "    </tr>\n",
       "    <tr>\n",
       "      <th>1</th>\n",
       "      <td>1785</td>\n",
       "      <td>Sector 3, Marathalli</td>\n",
       "      <td>Ice Cream, Desserts</td>\n",
       "      <td>100</td>\n",
       "      <td>50</td>\n",
       "      <td>3.5</td>\n",
       "      <td>11.0</td>\n",
       "      <td>4.0</td>\n",
       "      <td>30</td>\n",
       "      <td>3.5</td>\n",
       "      <td>11.0</td>\n",
       "      <td>4.0</td>\n",
       "    </tr>\n",
       "    <tr>\n",
       "      <th>2</th>\n",
       "      <td>571</td>\n",
       "      <td>Mumbai Central</td>\n",
       "      <td>Italian, Street Food, Fast Food</td>\n",
       "      <td>150</td>\n",
       "      <td>50</td>\n",
       "      <td>3.6</td>\n",
       "      <td>99.0</td>\n",
       "      <td>30.0</td>\n",
       "      <td>65</td>\n",
       "      <td>3.6</td>\n",
       "      <td>99.0</td>\n",
       "      <td>30.0</td>\n",
       "    </tr>\n",
       "    <tr>\n",
       "      <th>3</th>\n",
       "      <td>4708</td>\n",
       "      <td>Sector 1, Noida</td>\n",
       "      <td>Mughlai, North Indian, Chinese</td>\n",
       "      <td>250</td>\n",
       "      <td>99</td>\n",
       "      <td>3.7</td>\n",
       "      <td>176.0</td>\n",
       "      <td>95.0</td>\n",
       "      <td>30</td>\n",
       "      <td>3.7</td>\n",
       "      <td>176.0</td>\n",
       "      <td>95.0</td>\n",
       "    </tr>\n",
       "    <tr>\n",
       "      <th>4</th>\n",
       "      <td>4896</td>\n",
       "      <td>Rmz Centennial, I Gate, Whitefield</td>\n",
       "      <td>Cafe, Beverages</td>\n",
       "      <td>200</td>\n",
       "      <td>99</td>\n",
       "      <td>3.2</td>\n",
       "      <td>521.0</td>\n",
       "      <td>235.0</td>\n",
       "      <td>65</td>\n",
       "      <td>3.2</td>\n",
       "      <td>521.0</td>\n",
       "      <td>235.0</td>\n",
       "    </tr>\n",
       "    <tr>\n",
       "      <th>...</th>\n",
       "      <td>...</td>\n",
       "      <td>...</td>\n",
       "      <td>...</td>\n",
       "      <td>...</td>\n",
       "      <td>...</td>\n",
       "      <td>...</td>\n",
       "      <td>...</td>\n",
       "      <td>...</td>\n",
       "      <td>...</td>\n",
       "      <td>...</td>\n",
       "      <td>...</td>\n",
       "      <td>...</td>\n",
       "    </tr>\n",
       "    <tr>\n",
       "      <th>11089</th>\n",
       "      <td>6772</td>\n",
       "      <td>BTM Layout 1, Electronic City</td>\n",
       "      <td>Tibetan, Chinese, Continental, Momos</td>\n",
       "      <td>250</td>\n",
       "      <td>50</td>\n",
       "      <td>4.2</td>\n",
       "      <td>326.0</td>\n",
       "      <td>189.0</td>\n",
       "      <td>30</td>\n",
       "      <td>4.2</td>\n",
       "      <td>326.0</td>\n",
       "      <td>189.0</td>\n",
       "    </tr>\n",
       "    <tr>\n",
       "      <th>11090</th>\n",
       "      <td>3461</td>\n",
       "      <td>Sector 14, Noida</td>\n",
       "      <td>Fast Food</td>\n",
       "      <td>100</td>\n",
       "      <td>50</td>\n",
       "      <td>3.6</td>\n",
       "      <td>36.0</td>\n",
       "      <td>16.0</td>\n",
       "      <td>30</td>\n",
       "      <td>3.6</td>\n",
       "      <td>36.0</td>\n",
       "      <td>16.0</td>\n",
       "    </tr>\n",
       "    <tr>\n",
       "      <th>11091</th>\n",
       "      <td>2273</td>\n",
       "      <td>Majestic</td>\n",
       "      <td>South Indian, Chinese, North Indian</td>\n",
       "      <td>100</td>\n",
       "      <td>50</td>\n",
       "      <td>3.5</td>\n",
       "      <td>45.0</td>\n",
       "      <td>18.0</td>\n",
       "      <td>30</td>\n",
       "      <td>3.5</td>\n",
       "      <td>45.0</td>\n",
       "      <td>18.0</td>\n",
       "    </tr>\n",
       "    <tr>\n",
       "      <th>11092</th>\n",
       "      <td>2970</td>\n",
       "      <td>Sector 3, Marathalli</td>\n",
       "      <td>North Indian</td>\n",
       "      <td>100</td>\n",
       "      <td>50</td>\n",
       "      <td>3.1</td>\n",
       "      <td>24.0</td>\n",
       "      <td>9.0</td>\n",
       "      <td>30</td>\n",
       "      <td>3.1</td>\n",
       "      <td>24.0</td>\n",
       "      <td>9.0</td>\n",
       "    </tr>\n",
       "    <tr>\n",
       "      <th>11093</th>\n",
       "      <td>3265</td>\n",
       "      <td>Sector 63A,Gurgaon</td>\n",
       "      <td>North Indian</td>\n",
       "      <td>100</td>\n",
       "      <td>50</td>\n",
       "      <td>NaN</td>\n",
       "      <td>NaN</td>\n",
       "      <td>NaN</td>\n",
       "      <td>30</td>\n",
       "      <td>3.6</td>\n",
       "      <td>63.0</td>\n",
       "      <td>26.0</td>\n",
       "    </tr>\n",
       "  </tbody>\n",
       "</table>\n",
       "<p>11094 rows × 12 columns</p>\n",
       "</div>"
      ],
      "text/plain": [
       "       Restaurant                             Location  \\\n",
       "0            5086  FTI College, Law College Road, Pune   \n",
       "1            1785                 Sector 3, Marathalli   \n",
       "2             571                       Mumbai Central   \n",
       "3            4708                      Sector 1, Noida   \n",
       "4            4896   Rmz Centennial, I Gate, Whitefield   \n",
       "...           ...                                  ...   \n",
       "11089        6772        BTM Layout 1, Electronic City   \n",
       "11090        3461                     Sector 14, Noida   \n",
       "11091        2273                             Majestic   \n",
       "11092        2970                 Sector 3, Marathalli   \n",
       "11093        3265                   Sector 63A,Gurgaon   \n",
       "\n",
       "                                     Cuisines  AverageCost  MinimumOrder  \\\n",
       "0      Fast Food, Rolls, Burger, Salad, Wraps          200            50   \n",
       "1                         Ice Cream, Desserts          100            50   \n",
       "2             Italian, Street Food, Fast Food          150            50   \n",
       "3              Mughlai, North Indian, Chinese          250            99   \n",
       "4                             Cafe, Beverages          200            99   \n",
       "...                                       ...          ...           ...   \n",
       "11089    Tibetan, Chinese, Continental, Momos          250            50   \n",
       "11090                               Fast Food          100            50   \n",
       "11091     South Indian, Chinese, North Indian          100            50   \n",
       "11092                            North Indian          100            50   \n",
       "11093                            North Indian          100            50   \n",
       "\n",
       "       Rating  Votes  Reviews  DeliveryTime  Rating_filled  Votes_filled  \\\n",
       "0         3.5   12.0      4.0            30            3.5          12.0   \n",
       "1         3.5   11.0      4.0            30            3.5          11.0   \n",
       "2         3.6   99.0     30.0            65            3.6          99.0   \n",
       "3         3.7  176.0     95.0            30            3.7         176.0   \n",
       "4         3.2  521.0    235.0            65            3.2         521.0   \n",
       "...       ...    ...      ...           ...            ...           ...   \n",
       "11089     4.2  326.0    189.0            30            4.2         326.0   \n",
       "11090     3.6   36.0     16.0            30            3.6          36.0   \n",
       "11091     3.5   45.0     18.0            30            3.5          45.0   \n",
       "11092     3.1   24.0      9.0            30            3.1          24.0   \n",
       "11093     NaN    NaN      NaN            30            3.6          63.0   \n",
       "\n",
       "       Reviews_filled  \n",
       "0                 4.0  \n",
       "1                 4.0  \n",
       "2                30.0  \n",
       "3                95.0  \n",
       "4               235.0  \n",
       "...               ...  \n",
       "11089           189.0  \n",
       "11090            16.0  \n",
       "11091            18.0  \n",
       "11092             9.0  \n",
       "11093            26.0  \n",
       "\n",
       "[11094 rows x 12 columns]"
      ]
     },
     "execution_count": 195,
     "metadata": {},
     "output_type": "execute_result"
    }
   ],
   "source": [
    "final"
   ]
  },
  {
   "cell_type": "code",
   "execution_count": 196,
   "metadata": {},
   "outputs": [],
   "source": [
    "final.drop([\"Location\",\"Cuisines\"],axis=1,inplace=True)"
   ]
  },
  {
   "cell_type": "code",
   "execution_count": 197,
   "metadata": {},
   "outputs": [],
   "source": [
    "final = pd.concat([pd.DataFrame(loc_df), pd.DataFrame(cus_df),final],sort=False,axis = 1)"
   ]
  },
  {
   "cell_type": "code",
   "execution_count": 198,
   "metadata": {},
   "outputs": [
    {
     "data": {
      "text/html": [
       "<div>\n",
       "<style scoped>\n",
       "    .dataframe tbody tr th:only-of-type {\n",
       "        vertical-align: middle;\n",
       "    }\n",
       "\n",
       "    .dataframe tbody tr th {\n",
       "        vertical-align: top;\n",
       "    }\n",
       "\n",
       "    .dataframe thead th {\n",
       "        text-align: right;\n",
       "    }\n",
       "</style>\n",
       "<table border=\"1\" class=\"dataframe\">\n",
       "  <thead>\n",
       "    <tr style=\"text-align: right;\">\n",
       "      <th></th>\n",
       "      <th>Location_Feature_1</th>\n",
       "      <th>Location_Feature_2</th>\n",
       "      <th>Location_Feature_3</th>\n",
       "      <th>Location_Feature_4</th>\n",
       "      <th>Cuisines_Feature_1</th>\n",
       "      <th>Cuisines_Feature_2</th>\n",
       "      <th>Cuisines_Feature_3</th>\n",
       "      <th>Cuisines_Feature_4</th>\n",
       "      <th>Cuisines_Feature_5</th>\n",
       "      <th>Cuisines_Feature_6</th>\n",
       "      <th>...</th>\n",
       "      <th>Restaurant</th>\n",
       "      <th>AverageCost</th>\n",
       "      <th>MinimumOrder</th>\n",
       "      <th>Rating</th>\n",
       "      <th>Votes</th>\n",
       "      <th>Reviews</th>\n",
       "      <th>DeliveryTime</th>\n",
       "      <th>Rating_filled</th>\n",
       "      <th>Votes_filled</th>\n",
       "      <th>Reviews_filled</th>\n",
       "    </tr>\n",
       "  </thead>\n",
       "  <tbody>\n",
       "    <tr>\n",
       "      <th>0</th>\n",
       "      <td>16</td>\n",
       "      <td>26</td>\n",
       "      <td>47</td>\n",
       "      <td>0</td>\n",
       "      <td>32</td>\n",
       "      <td>84</td>\n",
       "      <td>21</td>\n",
       "      <td>85</td>\n",
       "      <td>102</td>\n",
       "      <td>0</td>\n",
       "      <td>...</td>\n",
       "      <td>5086</td>\n",
       "      <td>200</td>\n",
       "      <td>50</td>\n",
       "      <td>3.5</td>\n",
       "      <td>12.0</td>\n",
       "      <td>4.0</td>\n",
       "      <td>30</td>\n",
       "      <td>3.5</td>\n",
       "      <td>12.0</td>\n",
       "      <td>4.0</td>\n",
       "    </tr>\n",
       "    <tr>\n",
       "      <th>1</th>\n",
       "      <td>56</td>\n",
       "      <td>32</td>\n",
       "      <td>0</td>\n",
       "      <td>0</td>\n",
       "      <td>43</td>\n",
       "      <td>30</td>\n",
       "      <td>0</td>\n",
       "      <td>0</td>\n",
       "      <td>0</td>\n",
       "      <td>0</td>\n",
       "      <td>...</td>\n",
       "      <td>1785</td>\n",
       "      <td>100</td>\n",
       "      <td>50</td>\n",
       "      <td>3.5</td>\n",
       "      <td>11.0</td>\n",
       "      <td>4.0</td>\n",
       "      <td>30</td>\n",
       "      <td>3.5</td>\n",
       "      <td>11.0</td>\n",
       "      <td>4.0</td>\n",
       "    </tr>\n",
       "    <tr>\n",
       "      <th>2</th>\n",
       "      <td>37</td>\n",
       "      <td>0</td>\n",
       "      <td>0</td>\n",
       "      <td>0</td>\n",
       "      <td>48</td>\n",
       "      <td>93</td>\n",
       "      <td>32</td>\n",
       "      <td>0</td>\n",
       "      <td>0</td>\n",
       "      <td>0</td>\n",
       "      <td>...</td>\n",
       "      <td>571</td>\n",
       "      <td>150</td>\n",
       "      <td>50</td>\n",
       "      <td>3.6</td>\n",
       "      <td>99.0</td>\n",
       "      <td>30.0</td>\n",
       "      <td>65</td>\n",
       "      <td>3.6</td>\n",
       "      <td>99.0</td>\n",
       "      <td>30.0</td>\n",
       "    </tr>\n",
       "    <tr>\n",
       "      <th>3</th>\n",
       "      <td>54</td>\n",
       "      <td>43</td>\n",
       "      <td>0</td>\n",
       "      <td>0</td>\n",
       "      <td>69</td>\n",
       "      <td>74</td>\n",
       "      <td>27</td>\n",
       "      <td>0</td>\n",
       "      <td>0</td>\n",
       "      <td>0</td>\n",
       "      <td>...</td>\n",
       "      <td>4708</td>\n",
       "      <td>250</td>\n",
       "      <td>99</td>\n",
       "      <td>3.7</td>\n",
       "      <td>176.0</td>\n",
       "      <td>95.0</td>\n",
       "      <td>30</td>\n",
       "      <td>3.7</td>\n",
       "      <td>176.0</td>\n",
       "      <td>95.0</td>\n",
       "    </tr>\n",
       "    <tr>\n",
       "      <th>4</th>\n",
       "      <td>51</td>\n",
       "      <td>22</td>\n",
       "      <td>65</td>\n",
       "      <td>0</td>\n",
       "      <td>23</td>\n",
       "      <td>15</td>\n",
       "      <td>0</td>\n",
       "      <td>0</td>\n",
       "      <td>0</td>\n",
       "      <td>0</td>\n",
       "      <td>...</td>\n",
       "      <td>4896</td>\n",
       "      <td>200</td>\n",
       "      <td>99</td>\n",
       "      <td>3.2</td>\n",
       "      <td>521.0</td>\n",
       "      <td>235.0</td>\n",
       "      <td>65</td>\n",
       "      <td>3.2</td>\n",
       "      <td>521.0</td>\n",
       "      <td>235.0</td>\n",
       "    </tr>\n",
       "    <tr>\n",
       "      <th>...</th>\n",
       "      <td>...</td>\n",
       "      <td>...</td>\n",
       "      <td>...</td>\n",
       "      <td>...</td>\n",
       "      <td>...</td>\n",
       "      <td>...</td>\n",
       "      <td>...</td>\n",
       "      <td>...</td>\n",
       "      <td>...</td>\n",
       "      <td>...</td>\n",
       "      <td>...</td>\n",
       "      <td>...</td>\n",
       "      <td>...</td>\n",
       "      <td>...</td>\n",
       "      <td>...</td>\n",
       "      <td>...</td>\n",
       "      <td>...</td>\n",
       "      <td>...</td>\n",
       "      <td>...</td>\n",
       "      <td>...</td>\n",
       "      <td>...</td>\n",
       "    </tr>\n",
       "    <tr>\n",
       "      <th>11089</th>\n",
       "      <td>5</td>\n",
       "      <td>15</td>\n",
       "      <td>0</td>\n",
       "      <td>0</td>\n",
       "      <td>99</td>\n",
       "      <td>27</td>\n",
       "      <td>29</td>\n",
       "      <td>68</td>\n",
       "      <td>0</td>\n",
       "      <td>0</td>\n",
       "      <td>...</td>\n",
       "      <td>6772</td>\n",
       "      <td>250</td>\n",
       "      <td>50</td>\n",
       "      <td>4.2</td>\n",
       "      <td>326.0</td>\n",
       "      <td>189.0</td>\n",
       "      <td>30</td>\n",
       "      <td>4.2</td>\n",
       "      <td>326.0</td>\n",
       "      <td>189.0</td>\n",
       "    </tr>\n",
       "    <tr>\n",
       "      <th>11090</th>\n",
       "      <td>55</td>\n",
       "      <td>43</td>\n",
       "      <td>0</td>\n",
       "      <td>0</td>\n",
       "      <td>32</td>\n",
       "      <td>0</td>\n",
       "      <td>0</td>\n",
       "      <td>0</td>\n",
       "      <td>0</td>\n",
       "      <td>0</td>\n",
       "      <td>...</td>\n",
       "      <td>3461</td>\n",
       "      <td>100</td>\n",
       "      <td>50</td>\n",
       "      <td>3.6</td>\n",
       "      <td>36.0</td>\n",
       "      <td>16.0</td>\n",
       "      <td>30</td>\n",
       "      <td>3.6</td>\n",
       "      <td>36.0</td>\n",
       "      <td>16.0</td>\n",
       "    </tr>\n",
       "    <tr>\n",
       "      <th>11091</th>\n",
       "      <td>29</td>\n",
       "      <td>0</td>\n",
       "      <td>0</td>\n",
       "      <td>0</td>\n",
       "      <td>89</td>\n",
       "      <td>27</td>\n",
       "      <td>74</td>\n",
       "      <td>0</td>\n",
       "      <td>0</td>\n",
       "      <td>0</td>\n",
       "      <td>...</td>\n",
       "      <td>2273</td>\n",
       "      <td>100</td>\n",
       "      <td>50</td>\n",
       "      <td>3.5</td>\n",
       "      <td>45.0</td>\n",
       "      <td>18.0</td>\n",
       "      <td>30</td>\n",
       "      <td>3.5</td>\n",
       "      <td>45.0</td>\n",
       "      <td>18.0</td>\n",
       "    </tr>\n",
       "    <tr>\n",
       "      <th>11092</th>\n",
       "      <td>56</td>\n",
       "      <td>32</td>\n",
       "      <td>0</td>\n",
       "      <td>0</td>\n",
       "      <td>74</td>\n",
       "      <td>0</td>\n",
       "      <td>0</td>\n",
       "      <td>0</td>\n",
       "      <td>0</td>\n",
       "      <td>0</td>\n",
       "      <td>...</td>\n",
       "      <td>2970</td>\n",
       "      <td>100</td>\n",
       "      <td>50</td>\n",
       "      <td>3.1</td>\n",
       "      <td>24.0</td>\n",
       "      <td>9.0</td>\n",
       "      <td>30</td>\n",
       "      <td>3.1</td>\n",
       "      <td>24.0</td>\n",
       "      <td>9.0</td>\n",
       "    </tr>\n",
       "    <tr>\n",
       "      <th>11093</th>\n",
       "      <td>59</td>\n",
       "      <td>18</td>\n",
       "      <td>0</td>\n",
       "      <td>0</td>\n",
       "      <td>74</td>\n",
       "      <td>0</td>\n",
       "      <td>0</td>\n",
       "      <td>0</td>\n",
       "      <td>0</td>\n",
       "      <td>0</td>\n",
       "      <td>...</td>\n",
       "      <td>3265</td>\n",
       "      <td>100</td>\n",
       "      <td>50</td>\n",
       "      <td>NaN</td>\n",
       "      <td>NaN</td>\n",
       "      <td>NaN</td>\n",
       "      <td>30</td>\n",
       "      <td>3.6</td>\n",
       "      <td>63.0</td>\n",
       "      <td>26.0</td>\n",
       "    </tr>\n",
       "  </tbody>\n",
       "</table>\n",
       "<p>11094 rows × 22 columns</p>\n",
       "</div>"
      ],
      "text/plain": [
       "       Location_Feature_1  Location_Feature_2  Location_Feature_3  \\\n",
       "0                      16                  26                  47   \n",
       "1                      56                  32                   0   \n",
       "2                      37                   0                   0   \n",
       "3                      54                  43                   0   \n",
       "4                      51                  22                  65   \n",
       "...                   ...                 ...                 ...   \n",
       "11089                   5                  15                   0   \n",
       "11090                  55                  43                   0   \n",
       "11091                  29                   0                   0   \n",
       "11092                  56                  32                   0   \n",
       "11093                  59                  18                   0   \n",
       "\n",
       "       Location_Feature_4  Cuisines_Feature_1  Cuisines_Feature_2  \\\n",
       "0                       0                  32                  84   \n",
       "1                       0                  43                  30   \n",
       "2                       0                  48                  93   \n",
       "3                       0                  69                  74   \n",
       "4                       0                  23                  15   \n",
       "...                   ...                 ...                 ...   \n",
       "11089                   0                  99                  27   \n",
       "11090                   0                  32                   0   \n",
       "11091                   0                  89                  27   \n",
       "11092                   0                  74                   0   \n",
       "11093                   0                  74                   0   \n",
       "\n",
       "       Cuisines_Feature_3  Cuisines_Feature_4  Cuisines_Feature_5  \\\n",
       "0                      21                  85                 102   \n",
       "1                       0                   0                   0   \n",
       "2                      32                   0                   0   \n",
       "3                      27                   0                   0   \n",
       "4                       0                   0                   0   \n",
       "...                   ...                 ...                 ...   \n",
       "11089                  29                  68                   0   \n",
       "11090                   0                   0                   0   \n",
       "11091                  74                   0                   0   \n",
       "11092                   0                   0                   0   \n",
       "11093                   0                   0                   0   \n",
       "\n",
       "       Cuisines_Feature_6  ...  Restaurant  AverageCost  MinimumOrder  Rating  \\\n",
       "0                       0  ...        5086          200            50     3.5   \n",
       "1                       0  ...        1785          100            50     3.5   \n",
       "2                       0  ...         571          150            50     3.6   \n",
       "3                       0  ...        4708          250            99     3.7   \n",
       "4                       0  ...        4896          200            99     3.2   \n",
       "...                   ...  ...         ...          ...           ...     ...   \n",
       "11089                   0  ...        6772          250            50     4.2   \n",
       "11090                   0  ...        3461          100            50     3.6   \n",
       "11091                   0  ...        2273          100            50     3.5   \n",
       "11092                   0  ...        2970          100            50     3.1   \n",
       "11093                   0  ...        3265          100            50     NaN   \n",
       "\n",
       "       Votes  Reviews  DeliveryTime  Rating_filled  Votes_filled  \\\n",
       "0       12.0      4.0            30            3.5          12.0   \n",
       "1       11.0      4.0            30            3.5          11.0   \n",
       "2       99.0     30.0            65            3.6          99.0   \n",
       "3      176.0     95.0            30            3.7         176.0   \n",
       "4      521.0    235.0            65            3.2         521.0   \n",
       "...      ...      ...           ...            ...           ...   \n",
       "11089  326.0    189.0            30            4.2         326.0   \n",
       "11090   36.0     16.0            30            3.6          36.0   \n",
       "11091   45.0     18.0            30            3.5          45.0   \n",
       "11092   24.0      9.0            30            3.1          24.0   \n",
       "11093    NaN      NaN            30            3.6          63.0   \n",
       "\n",
       "       Reviews_filled  \n",
       "0                 4.0  \n",
       "1                 4.0  \n",
       "2                30.0  \n",
       "3                95.0  \n",
       "4               235.0  \n",
       "...               ...  \n",
       "11089           189.0  \n",
       "11090            16.0  \n",
       "11091            18.0  \n",
       "11092             9.0  \n",
       "11093            26.0  \n",
       "\n",
       "[11094 rows x 22 columns]"
      ]
     },
     "execution_count": 198,
     "metadata": {},
     "output_type": "execute_result"
    }
   ],
   "source": [
    "final"
   ]
  },
  {
   "cell_type": "markdown",
   "metadata": {},
   "source": [
    "### 3-4. 데이터 시각화"
   ]
  },
  {
   "cell_type": "code",
   "execution_count": 199,
   "metadata": {},
   "outputs": [
    {
     "data": {
      "image/png": "[encoded data removed]",
      "text/plain": [
       "<Figure size 1620x1620 with 90 Axes>"
      ]
     },
     "metadata": {
      "needs_background": "light"
     },
     "output_type": "display_data"
    }
   ],
   "source": [
    "sns.pairplot(food)\n",
    "plt.show()"
   ]
  },
  {
   "cell_type": "markdown",
   "metadata": {},
   "source": [
    "votes와 review사이에 상관관계가 느껴집니다.\n",
    "그냥 corr_chart으로는 delivery time은 상관관계가 크게 느껴지지는 않네요."
   ]
  },
  {
   "cell_type": "markdown",
   "metadata": {},
   "source": [
    "### 3-5. 데이터 스케일링\n",
    "\n",
    "연속형 변수들 중 rating 말고는 정규분포 형태가 아니라 왼쪽으로 크게 skew된 분포를 보이고 있습니다. 그리고 값의 단위가 많이 다르기 때문에 이것도 스케일링이 필요해 보입니다."
   ]
  },
  {
   "cell_type": "code",
   "execution_count": 200,
   "metadata": {},
   "outputs": [
    {
     "data": {
      "text/plain": [
       "<AxesSubplot:>"
      ]
     },
     "execution_count": 200,
     "metadata": {},
     "output_type": "execute_result"
    },
    {
     "data": {
      "image/png": "[encoded data removed]",
      "text/plain": [
       "<Figure size 432x288 with 1 Axes>"
      ]
     },
     "metadata": {
      "needs_background": "light"
     },
     "output_type": "display_data"
    }
   ],
   "source": [
    "final[\"Reviews_filled\"].hist()"
   ]
  },
  {
   "cell_type": "code",
   "execution_count": 201,
   "metadata": {},
   "outputs": [],
   "source": [
    "final[\"log_Reviews\"] = final[\"Reviews_filled\"].map(lambda x: np.log(x, where=(x!=0)))"
   ]
  },
  {
   "cell_type": "code",
   "execution_count": 202,
   "metadata": {},
   "outputs": [
    {
     "data": {
      "text/plain": [
       "<AxesSubplot:>"
      ]
     },
     "execution_count": 202,
     "metadata": {},
     "output_type": "execute_result"
    },
    {
     "data": {
      "image/png": "[encoded data removed]",
      "text/plain": [
       "<Figure size 432x288 with 1 Axes>"
      ]
     },
     "metadata": {
      "needs_background": "light"
     },
     "output_type": "display_data"
    }
   ],
   "source": [
    "final[\"log_Reviews\"].hist()"
   ]
  },
  {
   "cell_type": "code",
   "execution_count": 203,
   "metadata": {},
   "outputs": [
    {
     "data": {
      "text/plain": [
       "50     10118\n",
       "99       779\n",
       "0        158\n",
       "200        8\n",
       "199        8\n",
       "299        3\n",
       "350        3\n",
       "59         3\n",
       "90         2\n",
       "450        2\n",
       "300        2\n",
       "79         2\n",
       "89         1\n",
       "250        1\n",
       "400        1\n",
       "240        1\n",
       "500        1\n",
       "150        1\n",
       "Name: MinimumOrder, dtype: int64"
      ]
     },
     "execution_count": 203,
     "metadata": {},
     "output_type": "execute_result"
    }
   ],
   "source": [
    "final['MinimumOrder'].value_counts()"
   ]
  },
  {
   "cell_type": "code",
   "execution_count": 204,
   "metadata": {},
   "outputs": [],
   "source": [
    "final[\"log_MinimumOrder\"] = final[\"MinimumOrder\"].map(lambda x: np.log(x, where=(x!=0)))\n",
    "final[\"log_Votes\"] = final[\"Votes_filled\"].map(lambda x: np.log(x, where=(x!=0)))"
   ]
  },
  {
   "cell_type": "code",
   "execution_count": 205,
   "metadata": {},
   "outputs": [
    {
     "data": {
      "image/png": "[encoded data removed]",
      "text/plain": [
       "<Figure size 432x288 with 2 Axes>"
      ]
     },
     "metadata": {
      "needs_background": "light"
     },
     "output_type": "display_data"
    }
   ],
   "source": [
    "ax1 = plt.subplot(121)\n",
    "final[\"log_MinimumOrder\"].hist()\n",
    "ax2 = plt.subplot(122)\n",
    "final[\"log_Votes\"].hist()\n",
    "plt.tight_layout()\n",
    "plt.show()"
   ]
  },
  {
   "cell_type": "markdown",
   "metadata": {},
   "source": [
    "MinimumOrder는 로그한 그림이 별로 예쁘지 않네요."
   ]
  },
  {
   "cell_type": "code",
   "execution_count": 206,
   "metadata": {},
   "outputs": [],
   "source": [
    "#standard scaler\n",
    "from sklearn.preprocessing import StandardScaler\n",
    "st_scaler = StandardScaler()"
   ]
  },
  {
   "cell_type": "code",
   "execution_count": 207,
   "metadata": {},
   "outputs": [],
   "source": [
    "final['st_log_Reviews'] = st_scaler.fit_transform(final['log_Reviews'] .values.reshape(-1,1))\n",
    "final['st_log_MinimumOrder'] = st_scaler.fit_transform(final['log_MinimumOrder'] .values.reshape(-1,1))\n",
    "final['st_log_Votes'] = st_scaler.fit_transform(final['log_Votes'] .values.reshape(-1,1))"
   ]
  },
  {
   "cell_type": "code",
   "execution_count": 208,
   "metadata": {},
   "outputs": [],
   "source": [
    "final['st_Rating'] = st_scaler.fit_transform(final['Rating_filled'] .values.reshape(-1,1))"
   ]
  },
  {
   "cell_type": "code",
   "execution_count": 209,
   "metadata": {},
   "outputs": [
    {
     "data": {
      "text/html": [
       "<div>\n",
       "<style scoped>\n",
       "    .dataframe tbody tr th:only-of-type {\n",
       "        vertical-align: middle;\n",
       "    }\n",
       "\n",
       "    .dataframe tbody tr th {\n",
       "        vertical-align: top;\n",
       "    }\n",
       "\n",
       "    .dataframe thead th {\n",
       "        text-align: right;\n",
       "    }\n",
       "</style>\n",
       "<table border=\"1\" class=\"dataframe\">\n",
       "  <thead>\n",
       "    <tr style=\"text-align: right;\">\n",
       "      <th></th>\n",
       "      <th>st_log_Reviews</th>\n",
       "      <th>st_log_MinimumOrder</th>\n",
       "      <th>st_log_Votes</th>\n",
       "      <th>st_Rating</th>\n",
       "    </tr>\n",
       "  </thead>\n",
       "  <tbody>\n",
       "    <tr>\n",
       "      <th>count</th>\n",
       "      <td>1.109400e+04</td>\n",
       "      <td>1.109400e+04</td>\n",
       "      <td>1.109400e+04</td>\n",
       "      <td>1.109400e+04</td>\n",
       "    </tr>\n",
       "    <tr>\n",
       "      <th>mean</th>\n",
       "      <td>-6.010856e-16</td>\n",
       "      <td>7.493555e-17</td>\n",
       "      <td>-2.273686e-16</td>\n",
       "      <td>-3.032648e-16</td>\n",
       "    </tr>\n",
       "    <tr>\n",
       "      <th>std</th>\n",
       "      <td>1.000045e+00</td>\n",
       "      <td>1.000045e+00</td>\n",
       "      <td>1.000045e+00</td>\n",
       "      <td>1.000045e+00</td>\n",
       "    </tr>\n",
       "    <tr>\n",
       "      <th>min</th>\n",
       "      <td>-2.101938e+00</td>\n",
       "      <td>-7.690261e+00</td>\n",
       "      <td>-2.130737e+00</td>\n",
       "      <td>-4.019743e+00</td>\n",
       "    </tr>\n",
       "    <tr>\n",
       "      <th>25%</th>\n",
       "      <td>-5.718514e-01</td>\n",
       "      <td>5.820536e-03</td>\n",
       "      <td>-6.448184e-01</td>\n",
       "      <td>-5.615062e-01</td>\n",
       "    </tr>\n",
       "    <tr>\n",
       "      <th>50%</th>\n",
       "      <td>-2.296069e-02</td>\n",
       "      <td>5.820536e-03</td>\n",
       "      <td>-3.583273e-02</td>\n",
       "      <td>-2.946966e-02</td>\n",
       "    </tr>\n",
       "    <tr>\n",
       "      <th>75%</th>\n",
       "      <td>5.417784e-01</td>\n",
       "      <td>5.820536e-03</td>\n",
       "      <td>5.924696e-01</td>\n",
       "      <td>5.025668e-01</td>\n",
       "    </tr>\n",
       "    <tr>\n",
       "      <th>max</th>\n",
       "      <td>3.500652e+00</td>\n",
       "      <td>4.535672e+00</td>\n",
       "      <td>3.382478e+00</td>\n",
       "      <td>3.428768e+00</td>\n",
       "    </tr>\n",
       "  </tbody>\n",
       "</table>\n",
       "</div>"
      ],
      "text/plain": [
       "       st_log_Reviews  st_log_MinimumOrder  st_log_Votes     st_Rating\n",
       "count    1.109400e+04         1.109400e+04  1.109400e+04  1.109400e+04\n",
       "mean    -6.010856e-16         7.493555e-17 -2.273686e-16 -3.032648e-16\n",
       "std      1.000045e+00         1.000045e+00  1.000045e+00  1.000045e+00\n",
       "min     -2.101938e+00        -7.690261e+00 -2.130737e+00 -4.019743e+00\n",
       "25%     -5.718514e-01         5.820536e-03 -6.448184e-01 -5.615062e-01\n",
       "50%     -2.296069e-02         5.820536e-03 -3.583273e-02 -2.946966e-02\n",
       "75%      5.417784e-01         5.820536e-03  5.924696e-01  5.025668e-01\n",
       "max      3.500652e+00         4.535672e+00  3.382478e+00  3.428768e+00"
      ]
     },
     "execution_count": 209,
     "metadata": {},
     "output_type": "execute_result"
    }
   ],
   "source": [
    "final[['st_log_Reviews','st_log_MinimumOrder', 'st_log_Votes', 'st_Rating']].describe()"
   ]
  },
  {
   "cell_type": "code",
   "execution_count": 210,
   "metadata": {
    "scrolled": true
   },
   "outputs": [
    {
     "data": {
      "text/html": [
       "<div>\n",
       "<style scoped>\n",
       "    .dataframe tbody tr th:only-of-type {\n",
       "        vertical-align: middle;\n",
       "    }\n",
       "\n",
       "    .dataframe tbody tr th {\n",
       "        vertical-align: top;\n",
       "    }\n",
       "\n",
       "    .dataframe thead th {\n",
       "        text-align: right;\n",
       "    }\n",
       "</style>\n",
       "<table border=\"1\" class=\"dataframe\">\n",
       "  <thead>\n",
       "    <tr style=\"text-align: right;\">\n",
       "      <th></th>\n",
       "      <th>Location_Feature_1</th>\n",
       "      <th>Location_Feature_2</th>\n",
       "      <th>Location_Feature_3</th>\n",
       "      <th>Location_Feature_4</th>\n",
       "      <th>Cuisines_Feature_1</th>\n",
       "      <th>Cuisines_Feature_2</th>\n",
       "      <th>Cuisines_Feature_3</th>\n",
       "      <th>Cuisines_Feature_4</th>\n",
       "      <th>Cuisines_Feature_5</th>\n",
       "      <th>Cuisines_Feature_6</th>\n",
       "      <th>...</th>\n",
       "      <th>Rating_filled</th>\n",
       "      <th>Votes_filled</th>\n",
       "      <th>Reviews_filled</th>\n",
       "      <th>log_Reviews</th>\n",
       "      <th>log_MinimumOrder</th>\n",
       "      <th>log_Votes</th>\n",
       "      <th>st_log_Reviews</th>\n",
       "      <th>st_log_MinimumOrder</th>\n",
       "      <th>st_log_Votes</th>\n",
       "      <th>st_Rating</th>\n",
       "    </tr>\n",
       "  </thead>\n",
       "  <tbody>\n",
       "    <tr>\n",
       "      <th>0</th>\n",
       "      <td>16</td>\n",
       "      <td>26</td>\n",
       "      <td>47</td>\n",
       "      <td>0</td>\n",
       "      <td>32</td>\n",
       "      <td>84</td>\n",
       "      <td>21</td>\n",
       "      <td>85</td>\n",
       "      <td>102</td>\n",
       "      <td>0</td>\n",
       "      <td>...</td>\n",
       "      <td>3.5</td>\n",
       "      <td>12.0</td>\n",
       "      <td>4.0</td>\n",
       "      <td>1.386294</td>\n",
       "      <td>3.912023</td>\n",
       "      <td>2.484907</td>\n",
       "      <td>-1.217350</td>\n",
       "      <td>0.005821</td>\n",
       "      <td>-1.176842</td>\n",
       "      <td>-0.295488</td>\n",
       "    </tr>\n",
       "    <tr>\n",
       "      <th>1</th>\n",
       "      <td>56</td>\n",
       "      <td>32</td>\n",
       "      <td>0</td>\n",
       "      <td>0</td>\n",
       "      <td>43</td>\n",
       "      <td>30</td>\n",
       "      <td>0</td>\n",
       "      <td>0</td>\n",
       "      <td>0</td>\n",
       "      <td>0</td>\n",
       "      <td>...</td>\n",
       "      <td>3.5</td>\n",
       "      <td>11.0</td>\n",
       "      <td>4.0</td>\n",
       "      <td>1.386294</td>\n",
       "      <td>3.912023</td>\n",
       "      <td>2.397895</td>\n",
       "      <td>-1.217350</td>\n",
       "      <td>0.005821</td>\n",
       "      <td>-1.236714</td>\n",
       "      <td>-0.295488</td>\n",
       "    </tr>\n",
       "    <tr>\n",
       "      <th>2</th>\n",
       "      <td>37</td>\n",
       "      <td>0</td>\n",
       "      <td>0</td>\n",
       "      <td>0</td>\n",
       "      <td>48</td>\n",
       "      <td>93</td>\n",
       "      <td>32</td>\n",
       "      <td>0</td>\n",
       "      <td>0</td>\n",
       "      <td>0</td>\n",
       "      <td>...</td>\n",
       "      <td>3.6</td>\n",
       "      <td>99.0</td>\n",
       "      <td>30.0</td>\n",
       "      <td>3.401197</td>\n",
       "      <td>3.912023</td>\n",
       "      <td>4.595120</td>\n",
       "      <td>0.068351</td>\n",
       "      <td>0.005821</td>\n",
       "      <td>0.275174</td>\n",
       "      <td>-0.029470</td>\n",
       "    </tr>\n",
       "    <tr>\n",
       "      <th>3</th>\n",
       "      <td>54</td>\n",
       "      <td>43</td>\n",
       "      <td>0</td>\n",
       "      <td>0</td>\n",
       "      <td>69</td>\n",
       "      <td>74</td>\n",
       "      <td>27</td>\n",
       "      <td>0</td>\n",
       "      <td>0</td>\n",
       "      <td>0</td>\n",
       "      <td>...</td>\n",
       "      <td>3.7</td>\n",
       "      <td>176.0</td>\n",
       "      <td>95.0</td>\n",
       "      <td>4.553877</td>\n",
       "      <td>4.595120</td>\n",
       "      <td>5.170484</td>\n",
       "      <td>0.803871</td>\n",
       "      <td>1.349670</td>\n",
       "      <td>0.671076</td>\n",
       "      <td>0.236549</td>\n",
       "    </tr>\n",
       "    <tr>\n",
       "      <th>4</th>\n",
       "      <td>51</td>\n",
       "      <td>22</td>\n",
       "      <td>65</td>\n",
       "      <td>0</td>\n",
       "      <td>23</td>\n",
       "      <td>15</td>\n",
       "      <td>0</td>\n",
       "      <td>0</td>\n",
       "      <td>0</td>\n",
       "      <td>0</td>\n",
       "      <td>...</td>\n",
       "      <td>3.2</td>\n",
       "      <td>521.0</td>\n",
       "      <td>235.0</td>\n",
       "      <td>5.459586</td>\n",
       "      <td>4.595120</td>\n",
       "      <td>6.255750</td>\n",
       "      <td>1.381800</td>\n",
       "      <td>1.349670</td>\n",
       "      <td>1.417836</td>\n",
       "      <td>-1.093543</td>\n",
       "    </tr>\n",
       "  </tbody>\n",
       "</table>\n",
       "<p>5 rows × 29 columns</p>\n",
       "</div>"
      ],
      "text/plain": [
       "   Location_Feature_1  Location_Feature_2  Location_Feature_3  \\\n",
       "0                  16                  26                  47   \n",
       "1                  56                  32                   0   \n",
       "2                  37                   0                   0   \n",
       "3                  54                  43                   0   \n",
       "4                  51                  22                  65   \n",
       "\n",
       "   Location_Feature_4  Cuisines_Feature_1  Cuisines_Feature_2  \\\n",
       "0                   0                  32                  84   \n",
       "1                   0                  43                  30   \n",
       "2                   0                  48                  93   \n",
       "3                   0                  69                  74   \n",
       "4                   0                  23                  15   \n",
       "\n",
       "   Cuisines_Feature_3  Cuisines_Feature_4  Cuisines_Feature_5  \\\n",
       "0                  21                  85                 102   \n",
       "1                   0                   0                   0   \n",
       "2                  32                   0                   0   \n",
       "3                  27                   0                   0   \n",
       "4                   0                   0                   0   \n",
       "\n",
       "   Cuisines_Feature_6  ...  Rating_filled  Votes_filled  Reviews_filled  \\\n",
       "0                   0  ...            3.5          12.0             4.0   \n",
       "1                   0  ...            3.5          11.0             4.0   \n",
       "2                   0  ...            3.6          99.0            30.0   \n",
       "3                   0  ...            3.7         176.0            95.0   \n",
       "4                   0  ...            3.2         521.0           235.0   \n",
       "\n",
       "   log_Reviews  log_MinimumOrder  log_Votes  st_log_Reviews  \\\n",
       "0     1.386294          3.912023   2.484907       -1.217350   \n",
       "1     1.386294          3.912023   2.397895       -1.217350   \n",
       "2     3.401197          3.912023   4.595120        0.068351   \n",
       "3     4.553877          4.595120   5.170484        0.803871   \n",
       "4     5.459586          4.595120   6.255750        1.381800   \n",
       "\n",
       "   st_log_MinimumOrder  st_log_Votes  st_Rating  \n",
       "0             0.005821     -1.176842  -0.295488  \n",
       "1             0.005821     -1.236714  -0.295488  \n",
       "2             0.005821      0.275174  -0.029470  \n",
       "3             1.349670      0.671076   0.236549  \n",
       "4             1.349670      1.417836  -1.093543  \n",
       "\n",
       "[5 rows x 29 columns]"
      ]
     },
     "execution_count": 210,
     "metadata": {},
     "output_type": "execute_result"
    }
   ],
   "source": [
    "final.head()"
   ]
  },
  {
   "cell_type": "code",
   "execution_count": 215,
   "metadata": {},
   "outputs": [],
   "source": [
    "final.drop([\"Votes\",\"Reviews\", 'Rating',\"Votes_filled\",\"Reviews_filled\", 'log_Reviews', 'log_MinimumOrder','log_Votes'],axis=1,inplace=True)\n"
   ]
  },
  {
   "cell_type": "code",
   "execution_count": 216,
   "metadata": {},
   "outputs": [
    {
     "data": {
      "text/html": [
       "<div>\n",
       "<style scoped>\n",
       "    .dataframe tbody tr th:only-of-type {\n",
       "        vertical-align: middle;\n",
       "    }\n",
       "\n",
       "    .dataframe tbody tr th {\n",
       "        vertical-align: top;\n",
       "    }\n",
       "\n",
       "    .dataframe thead th {\n",
       "        text-align: right;\n",
       "    }\n",
       "</style>\n",
       "<table border=\"1\" class=\"dataframe\">\n",
       "  <thead>\n",
       "    <tr style=\"text-align: right;\">\n",
       "      <th></th>\n",
       "      <th>Location_Feature_1</th>\n",
       "      <th>Location_Feature_2</th>\n",
       "      <th>Location_Feature_3</th>\n",
       "      <th>Location_Feature_4</th>\n",
       "      <th>Cuisines_Feature_1</th>\n",
       "      <th>Cuisines_Feature_2</th>\n",
       "      <th>Cuisines_Feature_3</th>\n",
       "      <th>Cuisines_Feature_4</th>\n",
       "      <th>Cuisines_Feature_5</th>\n",
       "      <th>Cuisines_Feature_6</th>\n",
       "      <th>Cuisines_Feature_7</th>\n",
       "      <th>Cuisines_Feature_8</th>\n",
       "      <th>Restaurant</th>\n",
       "      <th>AverageCost</th>\n",
       "      <th>DeliveryTime</th>\n",
       "      <th>st_log_Reviews</th>\n",
       "      <th>st_log_MinimumOrder</th>\n",
       "      <th>st_log_Votes</th>\n",
       "      <th>st_Rating</th>\n",
       "    </tr>\n",
       "  </thead>\n",
       "  <tbody>\n",
       "    <tr>\n",
       "      <th>0</th>\n",
       "      <td>16</td>\n",
       "      <td>26</td>\n",
       "      <td>47</td>\n",
       "      <td>0</td>\n",
       "      <td>32</td>\n",
       "      <td>84</td>\n",
       "      <td>21</td>\n",
       "      <td>85</td>\n",
       "      <td>102</td>\n",
       "      <td>0</td>\n",
       "      <td>0</td>\n",
       "      <td>0</td>\n",
       "      <td>5086</td>\n",
       "      <td>200</td>\n",
       "      <td>30</td>\n",
       "      <td>-1.217350</td>\n",
       "      <td>0.005821</td>\n",
       "      <td>-1.176842</td>\n",
       "      <td>-0.295488</td>\n",
       "    </tr>\n",
       "    <tr>\n",
       "      <th>1</th>\n",
       "      <td>56</td>\n",
       "      <td>32</td>\n",
       "      <td>0</td>\n",
       "      <td>0</td>\n",
       "      <td>43</td>\n",
       "      <td>30</td>\n",
       "      <td>0</td>\n",
       "      <td>0</td>\n",
       "      <td>0</td>\n",
       "      <td>0</td>\n",
       "      <td>0</td>\n",
       "      <td>0</td>\n",
       "      <td>1785</td>\n",
       "      <td>100</td>\n",
       "      <td>30</td>\n",
       "      <td>-1.217350</td>\n",
       "      <td>0.005821</td>\n",
       "      <td>-1.236714</td>\n",
       "      <td>-0.295488</td>\n",
       "    </tr>\n",
       "    <tr>\n",
       "      <th>2</th>\n",
       "      <td>37</td>\n",
       "      <td>0</td>\n",
       "      <td>0</td>\n",
       "      <td>0</td>\n",
       "      <td>48</td>\n",
       "      <td>93</td>\n",
       "      <td>32</td>\n",
       "      <td>0</td>\n",
       "      <td>0</td>\n",
       "      <td>0</td>\n",
       "      <td>0</td>\n",
       "      <td>0</td>\n",
       "      <td>571</td>\n",
       "      <td>150</td>\n",
       "      <td>65</td>\n",
       "      <td>0.068351</td>\n",
       "      <td>0.005821</td>\n",
       "      <td>0.275174</td>\n",
       "      <td>-0.029470</td>\n",
       "    </tr>\n",
       "    <tr>\n",
       "      <th>3</th>\n",
       "      <td>54</td>\n",
       "      <td>43</td>\n",
       "      <td>0</td>\n",
       "      <td>0</td>\n",
       "      <td>69</td>\n",
       "      <td>74</td>\n",
       "      <td>27</td>\n",
       "      <td>0</td>\n",
       "      <td>0</td>\n",
       "      <td>0</td>\n",
       "      <td>0</td>\n",
       "      <td>0</td>\n",
       "      <td>4708</td>\n",
       "      <td>250</td>\n",
       "      <td>30</td>\n",
       "      <td>0.803871</td>\n",
       "      <td>1.349670</td>\n",
       "      <td>0.671076</td>\n",
       "      <td>0.236549</td>\n",
       "    </tr>\n",
       "    <tr>\n",
       "      <th>4</th>\n",
       "      <td>51</td>\n",
       "      <td>22</td>\n",
       "      <td>65</td>\n",
       "      <td>0</td>\n",
       "      <td>23</td>\n",
       "      <td>15</td>\n",
       "      <td>0</td>\n",
       "      <td>0</td>\n",
       "      <td>0</td>\n",
       "      <td>0</td>\n",
       "      <td>0</td>\n",
       "      <td>0</td>\n",
       "      <td>4896</td>\n",
       "      <td>200</td>\n",
       "      <td>65</td>\n",
       "      <td>1.381800</td>\n",
       "      <td>1.349670</td>\n",
       "      <td>1.417836</td>\n",
       "      <td>-1.093543</td>\n",
       "    </tr>\n",
       "  </tbody>\n",
       "</table>\n",
       "</div>"
      ],
      "text/plain": [
       "   Location_Feature_1  Location_Feature_2  Location_Feature_3  \\\n",
       "0                  16                  26                  47   \n",
       "1                  56                  32                   0   \n",
       "2                  37                   0                   0   \n",
       "3                  54                  43                   0   \n",
       "4                  51                  22                  65   \n",
       "\n",
       "   Location_Feature_4  Cuisines_Feature_1  Cuisines_Feature_2  \\\n",
       "0                   0                  32                  84   \n",
       "1                   0                  43                  30   \n",
       "2                   0                  48                  93   \n",
       "3                   0                  69                  74   \n",
       "4                   0                  23                  15   \n",
       "\n",
       "   Cuisines_Feature_3  Cuisines_Feature_4  Cuisines_Feature_5  \\\n",
       "0                  21                  85                 102   \n",
       "1                   0                   0                   0   \n",
       "2                  32                   0                   0   \n",
       "3                  27                   0                   0   \n",
       "4                   0                   0                   0   \n",
       "\n",
       "   Cuisines_Feature_6  Cuisines_Feature_7  Cuisines_Feature_8  Restaurant  \\\n",
       "0                   0                   0                   0        5086   \n",
       "1                   0                   0                   0        1785   \n",
       "2                   0                   0                   0         571   \n",
       "3                   0                   0                   0        4708   \n",
       "4                   0                   0                   0        4896   \n",
       "\n",
       "   AverageCost  DeliveryTime  st_log_Reviews  st_log_MinimumOrder  \\\n",
       "0          200            30       -1.217350             0.005821   \n",
       "1          100            30       -1.217350             0.005821   \n",
       "2          150            65        0.068351             0.005821   \n",
       "3          250            30        0.803871             1.349670   \n",
       "4          200            65        1.381800             1.349670   \n",
       "\n",
       "   st_log_Votes  st_Rating  \n",
       "0     -1.176842  -0.295488  \n",
       "1     -1.236714  -0.295488  \n",
       "2      0.275174  -0.029470  \n",
       "3      0.671076   0.236549  \n",
       "4      1.417836  -1.093543  "
      ]
     },
     "execution_count": 216,
     "metadata": {},
     "output_type": "execute_result"
    }
   ],
   "source": [
    "final.head()"
   ]
  },
  {
   "cell_type": "markdown",
   "metadata": {},
   "source": [
    "## 4. 머신러닝 알고리즘을 위해 데이터를 준비합니다 (prepare the data for Machine Learning algorithms)."
   ]
  },
  {
   "cell_type": "markdown",
   "metadata": {},
   "source": [
    "### 4-1. 변수 만들기"
   ]
  },
  {
   "cell_type": "code",
   "execution_count": 217,
   "metadata": {},
   "outputs": [
    {
     "data": {
      "text/plain": [
       "(11094, 19)"
      ]
     },
     "execution_count": 217,
     "metadata": {},
     "output_type": "execute_result"
    }
   ],
   "source": [
    "final.shape"
   ]
  },
  {
   "cell_type": "code",
   "execution_count": 218,
   "metadata": {},
   "outputs": [
    {
     "data": {
      "text/plain": [
       "Location_Feature_1     0\n",
       "Location_Feature_2     0\n",
       "Location_Feature_3     0\n",
       "Location_Feature_4     0\n",
       "Cuisines_Feature_1     0\n",
       "Cuisines_Feature_2     0\n",
       "Cuisines_Feature_3     0\n",
       "Cuisines_Feature_4     0\n",
       "Cuisines_Feature_5     0\n",
       "Cuisines_Feature_6     0\n",
       "Cuisines_Feature_7     0\n",
       "Cuisines_Feature_8     0\n",
       "Restaurant             0\n",
       "AverageCost            0\n",
       "DeliveryTime           0\n",
       "st_log_Reviews         0\n",
       "st_log_MinimumOrder    0\n",
       "st_log_Votes           0\n",
       "st_Rating              0\n",
       "dtype: int64"
      ]
     },
     "execution_count": 218,
     "metadata": {},
     "output_type": "execute_result"
    }
   ],
   "source": [
    "final.isnull().sum()"
   ]
  },
  {
   "cell_type": "code",
   "execution_count": 219,
   "metadata": {},
   "outputs": [
    {
     "name": "stdout",
     "output_type": "stream",
     "text": [
      "<class 'pandas.core.frame.DataFrame'>\n",
      "RangeIndex: 11094 entries, 0 to 11093\n",
      "Data columns (total 19 columns):\n",
      " #   Column               Non-Null Count  Dtype  \n",
      "---  ------               --------------  -----  \n",
      " 0   Location_Feature_1   11094 non-null  int64  \n",
      " 1   Location_Feature_2   11094 non-null  int64  \n",
      " 2   Location_Feature_3   11094 non-null  int64  \n",
      " 3   Location_Feature_4   11094 non-null  int64  \n",
      " 4   Cuisines_Feature_1   11094 non-null  int64  \n",
      " 5   Cuisines_Feature_2   11094 non-null  int64  \n",
      " 6   Cuisines_Feature_3   11094 non-null  int64  \n",
      " 7   Cuisines_Feature_4   11094 non-null  int64  \n",
      " 8   Cuisines_Feature_5   11094 non-null  int64  \n",
      " 9   Cuisines_Feature_6   11094 non-null  int64  \n",
      " 10  Cuisines_Feature_7   11094 non-null  int64  \n",
      " 11  Cuisines_Feature_8   11094 non-null  int64  \n",
      " 12  Restaurant           11094 non-null  int64  \n",
      " 13  AverageCost          11094 non-null  int64  \n",
      " 14  DeliveryTime         11094 non-null  int64  \n",
      " 15  st_log_Reviews       11094 non-null  float64\n",
      " 16  st_log_MinimumOrder  11094 non-null  float64\n",
      " 17  st_log_Votes         11094 non-null  float64\n",
      " 18  st_Rating            11094 non-null  float64\n",
      "dtypes: float64(4), int64(15)\n",
      "memory usage: 1.6 MB\n"
     ]
    }
   ],
   "source": [
    "final.info()"
   ]
  },
  {
   "cell_type": "markdown",
   "metadata": {},
   "source": [
    "### 4-2. 트레인-테스트 분리"
   ]
  },
  {
   "cell_type": "code",
   "execution_count": 229,
   "metadata": {},
   "outputs": [],
   "source": [
    "#y label 분리\n",
    "y = final[\"DeliveryTime\"].copy()\n",
    "X = final.drop(\"DeliveryTime\", axis=1) # drop labels for training set\n"
   ]
  },
  {
   "cell_type": "code",
   "execution_count": 230,
   "metadata": {},
   "outputs": [],
   "source": [
    "#train, test 분리\n",
    "from sklearn.model_selection import train_test_split\n",
    "\n",
    "X_train, X_test, y_train, y_test = train_test_split(X,y,test_size=0.2, shuffle=True, random_state=42)"
   ]
  },
  {
   "cell_type": "markdown",
   "metadata": {},
   "source": [
    "## 5. 모델을 선택하고 훈련시킵니다 (select a model and train it)."
   ]
  },
  {
   "cell_type": "markdown",
   "metadata": {},
   "source": [
    "### 5-1. linear regression"
   ]
  },
  {
   "cell_type": "code",
   "execution_count": 232,
   "metadata": {},
   "outputs": [
    {
     "data": {
      "text/plain": [
       "LinearRegression()"
      ]
     },
     "execution_count": 232,
     "metadata": {},
     "output_type": "execute_result"
    }
   ],
   "source": [
    "from sklearn.linear_model import LinearRegression\n",
    "#인스턴스, fit\n",
    "m_lr = LinearRegression()\n",
    "m_lr.fit(X_train, y_train)"
   ]
  },
  {
   "cell_type": "code",
   "execution_count": 233,
   "metadata": {},
   "outputs": [],
   "source": [
    "#predict\n",
    "y_pred = m_lr.predict(X_test)\n"
   ]
  },
  {
   "cell_type": "code",
   "execution_count": 226,
   "metadata": {},
   "outputs": [],
   "source": [
    "\n",
    "from sklearn.metrics import mean_squared_error as mse, r2_score as r2\n",
    "import math"
   ]
  },
  {
   "cell_type": "code",
   "execution_count": 234,
   "metadata": {},
   "outputs": [
    {
     "name": "stdout",
     "output_type": "stream",
     "text": [
      "R^2:  0.1154308062460272\n",
      "RSME:  11.282984939296238\n"
     ]
    }
   ],
   "source": [
    "# 평가 R^2 RMSE구하라\n",
    "print('R^2: ', r2(y_test,y_pred))\n",
    "print('RSME: ',math.sqrt(mse(y_test,y_pred)))"
   ]
  },
  {
   "cell_type": "markdown",
   "metadata": {},
   "source": [
    "규제화 해보기"
   ]
  },
  {
   "cell_type": "code",
   "execution_count": 235,
   "metadata": {},
   "outputs": [],
   "source": [
    "from sklearn.linear_model import Ridge, Lasso"
   ]
  },
  {
   "cell_type": "code",
   "execution_count": 236,
   "metadata": {},
   "outputs": [],
   "source": [
    "#1. 인스턴스화\n",
    "# alpha : 하이퍼 파라미터 규제의 강도\n",
    "ridge_model = Ridge(alpha = 1)\n",
    "# 2. 적합화\n",
    "ridge_model.fit(X_train,y_train)\n",
    "# 3. 예측\n",
    "y_pred = ridge_model.predict(X_test)"
   ]
  },
  {
   "cell_type": "code",
   "execution_count": 238,
   "metadata": {},
   "outputs": [
    {
     "name": "stdout",
     "output_type": "stream",
     "text": [
      "ridge (alpha 1) R^2:  0.11544846655691643\n",
      "ridge (alpha 1) RMSE:  11.282872307057993\n"
     ]
    }
   ],
   "source": [
    "# 4. 평가 RMSE와 R^2\n",
    "#R^2\n",
    "print('ridge (alpha 1) R^2: ', r2(y_test, y_pred))\n",
    "\n",
    "# RMSE\n",
    "print('ridge (alpha 1) RMSE: ', math.sqrt(mse(y_test, y_pred)))"
   ]
  },
  {
   "cell_type": "code",
   "execution_count": 239,
   "metadata": {},
   "outputs": [
    {
     "name": "stdout",
     "output_type": "stream",
     "text": [
      "R^2:  0.09716848295521918\n",
      "RMSE:  11.398861030318445\n"
     ]
    }
   ],
   "source": [
    "#1. 인스턴스화\n",
    "lasso_model = Lasso(alpha = 1)\n",
    "\n",
    "# 2. 적합화(학습)\n",
    "lasso_model.fit(X_train, y_train)\n",
    "\n",
    "# 3. 예측\n",
    "y_pred = lasso_model.predict(X_test)\n",
    "\n",
    "# 4. 평가 RMSE와 R^2\n",
    "\n",
    "#R^2\n",
    "print('lasso (alpha 1) R^2: ', r2(y_test, y_pred))\n",
    "# RMSE\n",
    "print('lasso (alpha 1) RMSE: ', math.sqrt(mse(y_test, y_pred)))"
   ]
  },
  {
   "cell_type": "markdown",
   "metadata": {},
   "source": [
    "### 5-2. Decision Tree"
   ]
  },
  {
   "cell_type": "code",
   "execution_count": 241,
   "metadata": {},
   "outputs": [],
   "source": [
    "from sklearn.tree import DecisionTreeRegressor"
   ]
  },
  {
   "cell_type": "code",
   "execution_count": 242,
   "metadata": {},
   "outputs": [
    {
     "name": "stdout",
     "output_type": "stream",
     "text": [
      "decision tree R^2:  0.20525806332523477\n",
      "decision tree RMSE:  10.694763086160124\n"
     ]
    }
   ],
   "source": [
    "# 인스턴스화 max_depth 조절 가능.\n",
    "dt = DecisionTreeRegressor(max_depth=5, random_state = 42)\n",
    "\n",
    "dt.fit(X_train,y_train)\n",
    "\n",
    "#predict\n",
    "y_pred = dt.predict(X_test)\n",
    "\n",
    "# 4. 평가 RMSE와 R^2\n",
    "#R^2\n",
    "print('decision tree R^2: ', r2(y_test, y_pred))\n",
    "\n",
    "# RMSE\n",
    "print('decision tree RMSE: ', math.sqrt(mse(y_test, y_pred)))"
   ]
  },
  {
   "cell_type": "markdown",
   "metadata": {},
   "source": [
    "### 5-3. Random Forest "
   ]
  },
  {
   "cell_type": "code",
   "execution_count": 245,
   "metadata": {},
   "outputs": [],
   "source": [
    "from sklearn.ensemble import RandomForestRegressor\n"
   ]
  },
  {
   "cell_type": "code",
   "execution_count": 248,
   "metadata": {},
   "outputs": [
    {
     "name": "stdout",
     "output_type": "stream",
     "text": [
      "random forest RMSE: 10.224324370597502\n",
      "random forest R2: 0.2736381401990736\n"
     ]
    }
   ],
   "source": [
    "rf = RandomForestRegressor(n_estimators = 500, max_depth=7, random_state =0)\n",
    "rf.fit(X_train,y_train)\n",
    "y_pred = rf.predict(X_test)\n",
    "print(\"random forest RMSE:\", math.sqrt(mse(y_test,y_pred)))\n",
    "print(\"random forest R2:\", r2(y_test, y_pred))"
   ]
  },
  {
   "cell_type": "code",
   "execution_count": 36,
   "metadata": {},
   "outputs": [],
   "source": []
  },
  {
   "cell_type": "markdown",
   "metadata": {},
   "source": [
    "## 6. 모델을 상세하게 조정합니다 (fine-tune your model)."
   ]
  },
  {
   "cell_type": "markdown",
   "metadata": {},
   "source": [
    "### 6-1. Grid Search "
   ]
  },
  {
   "cell_type": "code",
   "execution_count": null,
   "metadata": {},
   "outputs": [],
   "source": []
  },
  {
   "cell_type": "markdown",
   "metadata": {},
   "source": [
    "### 6-2. Randomized Search"
   ]
  },
  {
   "cell_type": "code",
   "execution_count": null,
   "metadata": {},
   "outputs": [],
   "source": []
  },
  {
   "cell_type": "code",
   "execution_count": null,
   "metadata": {},
   "outputs": [],
   "source": []
  },
  {
   "cell_type": "markdown",
   "metadata": {},
   "source": [
    "## 7. 솔루션을 제시합니다 (present your solution)."
   ]
  },
  {
   "cell_type": "markdown",
   "metadata": {},
   "source": [
    "### 특성 중요도, 에러 분석"
   ]
  },
  {
   "cell_type": "code",
   "execution_count": null,
   "metadata": {},
   "outputs": [],
   "source": []
  },
  {
   "cell_type": "code",
   "execution_count": null,
   "metadata": {},
   "outputs": [],
   "source": []
  },
  {
   "cell_type": "markdown",
   "metadata": {},
   "source": [
    "### 최종 평가"
   ]
  },
  {
   "cell_type": "code",
   "execution_count": null,
   "metadata": {},
   "outputs": [],
   "source": []
  },
  {
   "cell_type": "code",
   "execution_count": null,
   "metadata": {},
   "outputs": [],
   "source": []
  },
  {
   "cell_type": "markdown",
   "metadata": {},
   "source": [
    "## 8. 시스템을 론칭하고 모니터링하고 유지 보수합니다 (launch, monitor, and maintain your system)."
   ]
  },
  {
   "cell_type": "code",
   "execution_count": null,
   "metadata": {},
   "outputs": [],
   "source": []
  },
  {
   "cell_type": "code",
   "execution_count": null,
   "metadata": {},
   "outputs": [],
   "source": []
  },
  {
   "cell_type": "code",
   "execution_count": null,
   "metadata": {},
   "outputs": [],
   "source": []
  },
  {
   "cell_type": "code",
   "execution_count": null,
   "metadata": {},
   "outputs": [],
   "source": []
  },
  {
   "cell_type": "code",
   "execution_count": null,
   "metadata": {},
   "outputs": [],
   "source": []
  },
  {
   "cell_type": "code",
   "execution_count": null,
   "metadata": {},
   "outputs": [],
   "source": []
  }
 ],
 "metadata": {
  "kernelspec": {
   "display_name": "Python 3",
   "language": "python",
   "name": "python3"
  },
  "language_info": {
   "codemirror_mode": {
    "name": "ipython",
    "version": 3
   },
   "file_extension": ".py",
   "mimetype": "text/x-python",
   "name": "python",
   "nbconvert_exporter": "python",
   "pygments_lexer": "ipython3",
   "version": "3.8.5"
  }
 },
 "nbformat": 4,
 "nbformat_minor": 4
}
