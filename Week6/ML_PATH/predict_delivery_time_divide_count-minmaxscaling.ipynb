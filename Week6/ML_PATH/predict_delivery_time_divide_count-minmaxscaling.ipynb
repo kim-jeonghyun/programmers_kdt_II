{
 "cells": [
  {
   "cell_type": "markdown",
   "metadata": {},
   "source": [
    "# Predict Food Delivery Time\n",
    "\n",
    "### 문제설명\n",
    "이번 과제를 통해 여러분은 음식배달 서비스(배민, 쿠팡이츠 등)를 위한 예측모델을 만들게 될 것입니다! 이 모델이 예측하는 값은 “음식배달에 걸리는 시간\"입니다. 배달시간을 정확하게 예측하는 것은 사용자의 경험에 많은 영향을 미치게 됩니다.\\\n",
    "예측된 배달시간보다 실제 배달시간이 더 걸린 경우(under-prediction)가 반대의 경우(over-prediction)보다 두 배로 사용자의 경험에 안 좋은 영향을 준다고 알려져 있습니다.\\\n",
    "가능한 실제 배달시간과 가까운 값을 예측하되 동시에 under-prediction을 최소화하는 것이 좋은 예측모델입니다.\n",
    "\n",
    "### 학습/테스트 데이터\n",
    "파일 “predict_delivery_time.csv”는 다음과 같은 속성들을 가지고 있습니다.\n",
    "\n",
    "- Restaurant, Location, Cuisines, AverageCost, MinimumOrder, Rating, Votes, Reviews 속성들을 모델의 입력속성으로 사용하세요. 모델의 학습목표는 DeliveryTime입니다.\n",
    "- 이 데이터에서 랜덤하게 20%를 추출해서 테스트 데이터로 사용하고 나머지는 학습데이터로 사용하세요.\n",
    "\n",
    "### 제출할 결과물\n",
    "- 간단한 요약문\n",
    "- 데이터 전처리와 속성 생성에 대한 간단한 설명\n",
    "- 학습을 위해서 어떤 모델을 사용했는지 그리고 어떠한 손실함수를 사용했는지를 간단히 설명\n",
    "- 테스트 데이터에 대한 평가지표들 (아래 두가지를 반드시 포함할 것)\n",
    "- Mean Absolute Error (MAE)\n",
    "- Under-prediction의 비율 (under-prediction 개수 / 테스트 데이터의 샘플수)\n",
    "- 모델 학습에 사용한 Jupyter notebook 파일"
   ]
  },
  {
   "cell_type": "markdown",
   "metadata": {},
   "source": [
    "## 1. 큰 그림을 봅니다 (look at the big picture)."
   ]
  },
  {
   "cell_type": "markdown",
   "metadata": {},
   "source": [
    "이번 과제를 통해 여러분은 음식배달 서비스(배민, 쿠팡이츠 등)를 위한 예측모델을 만들게 될 것입니다! \\\n",
    "이 모델이 예측하는 값은 “음식배달에 걸리는 시간\"입니다. 배달시간을 정확하게 예측하는 것은 사용자의 경험에 많은 영향을 미치게 됩니다.\n",
    "\n",
    "예측된 배달시간보다 실제 배달시간이 더 걸린 경우(under-prediction)가 반대의 경우(over-prediction)보다 두 배로 사용자의 경험에 안 좋은 영향을 준다고 알려져 있습니다.\\\n",
    "가능한 실제 배달시간과 가까운 값을 예측하되 동시에 under-prediction을 최소화하는 것이 좋은 예측모델입니다.\n",
    "\n",
    "### 풀어야할 문제 : 음식배달 데이터를 활용해 음식 배달 시간 예측 모델을 만드는 것\n",
    "\n",
    "실제 배달시간과 가까운 값을 예측: 지도학습, 회귀모델\n",
    "동시에 under-prediction을 최소화하는 것이 좋은 예측모델 -> 이건 어떻게 풀 수 있을까?\n",
    "\n",
    "### 성능측정 지표\n",
    "Mean Absolute Error (MAE)\n",
    "Under-prediction의 비율 (under-prediction 개수 / 테스트 데이터의 샘플수)"
   ]
  },
  {
   "cell_type": "markdown",
   "metadata": {},
   "source": [
    "## 2. 데이터를 구합니다 (get the data)."
   ]
  },
  {
   "cell_type": "code",
   "execution_count": 1,
   "metadata": {},
   "outputs": [],
   "source": [
    "# import common libraries\n",
    "import os\n",
    "import numpy as np\n",
    "import pandas as pd\n",
    "%matplotlib inline\n",
    "import matplotlib as mpl\n",
    "import matplotlib.pyplot as plt\n",
    "mpl.rc('axes', labelsize=14)\n",
    "mpl.rc('xtick', labelsize=12)\n",
    "mpl.rc('ytick', labelsize=12)\n",
    "\n",
    "import seaborn as sns\n",
    "\n",
    "\n",
    "# Ignore useless warnings (see SciPy issue #5998)\n",
    "import warnings\n",
    "warnings.filterwarnings(action=\"ignore\", message=\"^internal gelsd\")"
   ]
  },
  {
   "cell_type": "code",
   "execution_count": 2,
   "metadata": {},
   "outputs": [],
   "source": [
    "food = pd.read_csv('predict_delivery_time.csv')"
   ]
  },
  {
   "cell_type": "markdown",
   "metadata": {},
   "source": [
    "### 데이터 톺아보기"
   ]
  },
  {
   "cell_type": "code",
   "execution_count": 3,
   "metadata": {},
   "outputs": [
    {
     "data": {
      "text/html": [
       "<div>\n",
       "<style scoped>\n",
       "    .dataframe tbody tr th:only-of-type {\n",
       "        vertical-align: middle;\n",
       "    }\n",
       "\n",
       "    .dataframe tbody tr th {\n",
       "        vertical-align: top;\n",
       "    }\n",
       "\n",
       "    .dataframe thead th {\n",
       "        text-align: right;\n",
       "    }\n",
       "</style>\n",
       "<table border=\"1\" class=\"dataframe\">\n",
       "  <thead>\n",
       "    <tr style=\"text-align: right;\">\n",
       "      <th></th>\n",
       "      <th>Restaurant</th>\n",
       "      <th>Location</th>\n",
       "      <th>Cuisines</th>\n",
       "      <th>AverageCost</th>\n",
       "      <th>MinimumOrder</th>\n",
       "      <th>Rating</th>\n",
       "      <th>Votes</th>\n",
       "      <th>Reviews</th>\n",
       "      <th>DeliveryTime</th>\n",
       "    </tr>\n",
       "  </thead>\n",
       "  <tbody>\n",
       "    <tr>\n",
       "      <th>0</th>\n",
       "      <td>ID6321</td>\n",
       "      <td>FTI College, Law College Road, Pune</td>\n",
       "      <td>Fast Food, Rolls, Burger, Salad, Wraps</td>\n",
       "      <td>200</td>\n",
       "      <td>50</td>\n",
       "      <td>3.5</td>\n",
       "      <td>12.0</td>\n",
       "      <td>4.0</td>\n",
       "      <td>30</td>\n",
       "    </tr>\n",
       "    <tr>\n",
       "      <th>1</th>\n",
       "      <td>ID2882</td>\n",
       "      <td>Sector 3, Marathalli</td>\n",
       "      <td>Ice Cream, Desserts</td>\n",
       "      <td>100</td>\n",
       "      <td>50</td>\n",
       "      <td>3.5</td>\n",
       "      <td>11.0</td>\n",
       "      <td>4.0</td>\n",
       "      <td>30</td>\n",
       "    </tr>\n",
       "    <tr>\n",
       "      <th>2</th>\n",
       "      <td>ID1595</td>\n",
       "      <td>Mumbai Central</td>\n",
       "      <td>Italian, Street Food, Fast Food</td>\n",
       "      <td>150</td>\n",
       "      <td>50</td>\n",
       "      <td>3.6</td>\n",
       "      <td>99.0</td>\n",
       "      <td>30.0</td>\n",
       "      <td>65</td>\n",
       "    </tr>\n",
       "    <tr>\n",
       "      <th>3</th>\n",
       "      <td>ID5929</td>\n",
       "      <td>Sector 1, Noida</td>\n",
       "      <td>Mughlai, North Indian, Chinese</td>\n",
       "      <td>250</td>\n",
       "      <td>99</td>\n",
       "      <td>3.7</td>\n",
       "      <td>176.0</td>\n",
       "      <td>95.0</td>\n",
       "      <td>30</td>\n",
       "    </tr>\n",
       "    <tr>\n",
       "      <th>4</th>\n",
       "      <td>ID6123</td>\n",
       "      <td>Rmz Centennial, I Gate, Whitefield</td>\n",
       "      <td>Cafe, Beverages</td>\n",
       "      <td>200</td>\n",
       "      <td>99</td>\n",
       "      <td>3.2</td>\n",
       "      <td>521.0</td>\n",
       "      <td>235.0</td>\n",
       "      <td>65</td>\n",
       "    </tr>\n",
       "  </tbody>\n",
       "</table>\n",
       "</div>"
      ],
      "text/plain": [
       "  Restaurant                             Location  \\\n",
       "0     ID6321  FTI College, Law College Road, Pune   \n",
       "1     ID2882                 Sector 3, Marathalli   \n",
       "2     ID1595                       Mumbai Central   \n",
       "3     ID5929                      Sector 1, Noida   \n",
       "4     ID6123   Rmz Centennial, I Gate, Whitefield   \n",
       "\n",
       "                                 Cuisines AverageCost  MinimumOrder Rating  \\\n",
       "0  Fast Food, Rolls, Burger, Salad, Wraps         200            50    3.5   \n",
       "1                     Ice Cream, Desserts         100            50    3.5   \n",
       "2         Italian, Street Food, Fast Food         150            50    3.6   \n",
       "3          Mughlai, North Indian, Chinese         250            99    3.7   \n",
       "4                         Cafe, Beverages         200            99    3.2   \n",
       "\n",
       "   Votes  Reviews  DeliveryTime  \n",
       "0   12.0      4.0            30  \n",
       "1   11.0      4.0            30  \n",
       "2   99.0     30.0            65  \n",
       "3  176.0     95.0            30  \n",
       "4  521.0    235.0            65  "
      ]
     },
     "execution_count": 3,
     "metadata": {},
     "output_type": "execute_result"
    }
   ],
   "source": [
    "food.head()"
   ]
  },
  {
   "cell_type": "markdown",
   "metadata": {},
   "source": [
    "### 여기서 다루는 변수는 다음과 같다.\n",
    "\n",
    "- Restaurant: A unique ID that represents a restaurant.\n",
    "- Location: The location of the restaurant.\n",
    "- Cuisines: The cuisines offered by the restaurant.\n",
    "- Average_Cost: The average cost for one person/order.\n",
    "- Minimum_Order: The minimum order amount.\n",
    "- Rating: Customer rating for the restaurant.\n",
    "- Votes: The total number of customer votes for the restaurant.\n",
    "- Reviews: The number of customer reviews for the restaurant.\n",
    "- Delivery_Time: The order delivery time of the restaurant. (Target Classes)"
   ]
  },
  {
   "cell_type": "code",
   "execution_count": 4,
   "metadata": {
    "scrolled": true
   },
   "outputs": [
    {
     "name": "stdout",
     "output_type": "stream",
     "text": [
      "<class 'pandas.core.frame.DataFrame'>\n",
      "RangeIndex: 11094 entries, 0 to 11093\n",
      "Data columns (total 9 columns):\n",
      " #   Column        Non-Null Count  Dtype  \n",
      "---  ------        --------------  -----  \n",
      " 0   Restaurant    11094 non-null  object \n",
      " 1   Location      11094 non-null  object \n",
      " 2   Cuisines      11094 non-null  object \n",
      " 3   AverageCost   11094 non-null  object \n",
      " 4   MinimumOrder  11094 non-null  int64  \n",
      " 5   Rating        9903 non-null   object \n",
      " 6   Votes         9020 non-null   float64\n",
      " 7   Reviews       8782 non-null   float64\n",
      " 8   DeliveryTime  11094 non-null  int64  \n",
      "dtypes: float64(2), int64(2), object(5)\n",
      "memory usage: 780.2+ KB\n"
     ]
    }
   ],
   "source": [
    "food.info()"
   ]
  },
  {
   "cell_type": "code",
   "execution_count": 5,
   "metadata": {},
   "outputs": [
    {
     "data": {
      "text/plain": [
       "Restaurant         0\n",
       "Location           0\n",
       "Cuisines           0\n",
       "AverageCost        0\n",
       "MinimumOrder       0\n",
       "Rating          1191\n",
       "Votes           2074\n",
       "Reviews         2312\n",
       "DeliveryTime       0\n",
       "dtype: int64"
      ]
     },
     "execution_count": 5,
     "metadata": {},
     "output_type": "execute_result"
    }
   ],
   "source": [
    "food.isnull().sum()"
   ]
  },
  {
   "cell_type": "code",
   "execution_count": 6,
   "metadata": {},
   "outputs": [
    {
     "data": {
      "text/html": [
       "<div>\n",
       "<style scoped>\n",
       "    .dataframe tbody tr th:only-of-type {\n",
       "        vertical-align: middle;\n",
       "    }\n",
       "\n",
       "    .dataframe tbody tr th {\n",
       "        vertical-align: top;\n",
       "    }\n",
       "\n",
       "    .dataframe thead th {\n",
       "        text-align: right;\n",
       "    }\n",
       "</style>\n",
       "<table border=\"1\" class=\"dataframe\">\n",
       "  <thead>\n",
       "    <tr style=\"text-align: right;\">\n",
       "      <th></th>\n",
       "      <th>MinimumOrder</th>\n",
       "      <th>Votes</th>\n",
       "      <th>Reviews</th>\n",
       "      <th>DeliveryTime</th>\n",
       "    </tr>\n",
       "  </thead>\n",
       "  <tbody>\n",
       "    <tr>\n",
       "      <th>count</th>\n",
       "      <td>11094.000000</td>\n",
       "      <td>9020.000000</td>\n",
       "      <td>8782.000000</td>\n",
       "      <td>11094.000000</td>\n",
       "    </tr>\n",
       "    <tr>\n",
       "      <th>mean</th>\n",
       "      <td>53.344511</td>\n",
       "      <td>244.544457</td>\n",
       "      <td>123.247893</td>\n",
       "      <td>37.056066</td>\n",
       "    </tr>\n",
       "    <tr>\n",
       "      <th>std</th>\n",
       "      <td>18.551245</td>\n",
       "      <td>555.094733</td>\n",
       "      <td>321.025216</td>\n",
       "      <td>12.447496</td>\n",
       "    </tr>\n",
       "    <tr>\n",
       "      <th>min</th>\n",
       "      <td>0.000000</td>\n",
       "      <td>3.000000</td>\n",
       "      <td>1.000000</td>\n",
       "      <td>10.000000</td>\n",
       "    </tr>\n",
       "    <tr>\n",
       "      <th>25%</th>\n",
       "      <td>50.000000</td>\n",
       "      <td>19.000000</td>\n",
       "      <td>7.000000</td>\n",
       "      <td>30.000000</td>\n",
       "    </tr>\n",
       "    <tr>\n",
       "      <th>50%</th>\n",
       "      <td>50.000000</td>\n",
       "      <td>63.000000</td>\n",
       "      <td>26.000000</td>\n",
       "      <td>30.000000</td>\n",
       "    </tr>\n",
       "    <tr>\n",
       "      <th>75%</th>\n",
       "      <td>50.000000</td>\n",
       "      <td>216.000000</td>\n",
       "      <td>91.000000</td>\n",
       "      <td>45.000000</td>\n",
       "    </tr>\n",
       "    <tr>\n",
       "      <th>max</th>\n",
       "      <td>500.000000</td>\n",
       "      <td>9054.000000</td>\n",
       "      <td>6504.000000</td>\n",
       "      <td>120.000000</td>\n",
       "    </tr>\n",
       "  </tbody>\n",
       "</table>\n",
       "</div>"
      ],
      "text/plain": [
       "       MinimumOrder        Votes      Reviews  DeliveryTime\n",
       "count  11094.000000  9020.000000  8782.000000  11094.000000\n",
       "mean      53.344511   244.544457   123.247893     37.056066\n",
       "std       18.551245   555.094733   321.025216     12.447496\n",
       "min        0.000000     3.000000     1.000000     10.000000\n",
       "25%       50.000000    19.000000     7.000000     30.000000\n",
       "50%       50.000000    63.000000    26.000000     30.000000\n",
       "75%       50.000000   216.000000    91.000000     45.000000\n",
       "max      500.000000  9054.000000  6504.000000    120.000000"
      ]
     },
     "execution_count": 6,
     "metadata": {},
     "output_type": "execute_result"
    }
   ],
   "source": [
    "food.describe()"
   ]
  },
  {
   "cell_type": "code",
   "execution_count": 7,
   "metadata": {},
   "outputs": [
    {
     "data": {
      "text/html": [
       "<div>\n",
       "<style scoped>\n",
       "    .dataframe tbody tr th:only-of-type {\n",
       "        vertical-align: middle;\n",
       "    }\n",
       "\n",
       "    .dataframe tbody tr th {\n",
       "        vertical-align: top;\n",
       "    }\n",
       "\n",
       "    .dataframe thead th {\n",
       "        text-align: right;\n",
       "    }\n",
       "</style>\n",
       "<table border=\"1\" class=\"dataframe\">\n",
       "  <thead>\n",
       "    <tr style=\"text-align: right;\">\n",
       "      <th></th>\n",
       "      <th>Restaurant</th>\n",
       "      <th>Location</th>\n",
       "      <th>Cuisines</th>\n",
       "      <th>AverageCost</th>\n",
       "      <th>Rating</th>\n",
       "    </tr>\n",
       "  </thead>\n",
       "  <tbody>\n",
       "    <tr>\n",
       "      <th>count</th>\n",
       "      <td>11094</td>\n",
       "      <td>11094</td>\n",
       "      <td>11094</td>\n",
       "      <td>11094</td>\n",
       "      <td>9903</td>\n",
       "    </tr>\n",
       "    <tr>\n",
       "      <th>unique</th>\n",
       "      <td>7480</td>\n",
       "      <td>35</td>\n",
       "      <td>2179</td>\n",
       "      <td>26</td>\n",
       "      <td>32</td>\n",
       "    </tr>\n",
       "    <tr>\n",
       "      <th>top</th>\n",
       "      <td>ID7184</td>\n",
       "      <td>Mico Layout, Stage 2, BTM Layout,Bangalore</td>\n",
       "      <td>North Indian</td>\n",
       "      <td>200</td>\n",
       "      <td>3.7</td>\n",
       "    </tr>\n",
       "    <tr>\n",
       "      <th>freq</th>\n",
       "      <td>22</td>\n",
       "      <td>947</td>\n",
       "      <td>850</td>\n",
       "      <td>3241</td>\n",
       "      <td>869</td>\n",
       "    </tr>\n",
       "  </tbody>\n",
       "</table>\n",
       "</div>"
      ],
      "text/plain": [
       "       Restaurant                                    Location      Cuisines  \\\n",
       "count       11094                                       11094         11094   \n",
       "unique       7480                                          35          2179   \n",
       "top        ID7184  Mico Layout, Stage 2, BTM Layout,Bangalore  North Indian   \n",
       "freq           22                                         947           850   \n",
       "\n",
       "       AverageCost Rating  \n",
       "count        11094   9903  \n",
       "unique          26     32  \n",
       "top            200    3.7  \n",
       "freq          3241    869  "
      ]
     },
     "execution_count": 7,
     "metadata": {},
     "output_type": "execute_result"
    }
   ],
   "source": [
    "food.describe(include='O')"
   ]
  },
  {
   "cell_type": "markdown",
   "metadata": {},
   "source": [
    "- 간략하게 훑어보고 알 수 있는 사실\n",
    "1. target label: DeliveryTime 연속변수이며, 최소 10에서 120까지 분포되어 있어 분 단위일 것으로 예상됩니다.\n",
    "2. AverageCost, Rating 은 numerical 같이 생겼는데 object라고 뜹니다. 어떤 value들이 들어가 있는지 잘 봐야할 것 같습니다.\n",
    "3. Rating, Votes, Reviews에는 결측치가 상당수 있습니다.\n",
    "4. Reviews의 분포와 feature에 대한 설명을 보니 점수가 아니라 리뷰의 갯수인 것 같습니다. negative/positive 내용이 구분되어있지 않습니다.\n",
    "5. Votes 역시 feature의 설명을 보니 긍정적인 의미의 vote의 갯수인지, 그냥 투표를 한 갯수를 의미하는 건지 잘 모르겠네요.\n",
    "6. object인 변수도 간단하게 살펴보았는데, unique 값이 26개인 feature 부터 7480개인 feature까지 다양합니다. AverageCost와 Rating은 빈출값만 봐도 numerical 한 데이터 같은데 왜 object인지 살펴볼 필요가 있습니다."
   ]
  },
  {
   "cell_type": "markdown",
   "metadata": {},
   "source": [
    "## 3. 데이터로부터 통찰을 얻기 위해 탐색하고 시각화합니다 (discover and visualize the data to gain insights)."
   ]
  },
  {
   "cell_type": "markdown",
   "metadata": {},
   "source": [
    "### 3-1. 데이터 탐색"
   ]
  },
  {
   "cell_type": "markdown",
   "metadata": {},
   "source": [
    "각 feature들을 범주형 / 연속형으로 나누어 특성에 맞게 살펴보겠습니다."
   ]
  },
  {
   "cell_type": "code",
   "execution_count": 8,
   "metadata": {},
   "outputs": [
    {
     "data": {
      "text/plain": [
       "Index(['Restaurant', 'Location', 'Cuisines', 'AverageCost', 'MinimumOrder',\n",
       "       'Rating', 'Votes', 'Reviews', 'DeliveryTime'],\n",
       "      dtype='object')"
      ]
     },
     "execution_count": 8,
     "metadata": {},
     "output_type": "execute_result"
    }
   ],
   "source": [
    "food.columns"
   ]
  },
  {
   "cell_type": "code",
   "execution_count": 9,
   "metadata": {},
   "outputs": [],
   "source": [
    "num_col = []\n",
    "cat_col = []\n",
    "for i in food.columns:\n",
    "    if food[i].dtypes == 'int64' or food[i].dtypes == 'float64':\n",
    "        num_col.append(i)\n",
    "    else: cat_col.append(i)"
   ]
  },
  {
   "cell_type": "code",
   "execution_count": 10,
   "metadata": {},
   "outputs": [
    {
     "name": "stdout",
     "output_type": "stream",
     "text": [
      "numerical columns: ['MinimumOrder', 'Votes', 'Reviews', 'DeliveryTime']\n",
      "categorical columns: ['Restaurant', 'Location', 'Cuisines', 'AverageCost', 'Rating']\n"
     ]
    }
   ],
   "source": [
    "print(\"numerical columns:\", num_col)\n",
    "print(\"categorical columns:\", cat_col)"
   ]
  },
  {
   "cell_type": "markdown",
   "metadata": {},
   "source": [
    "범주형 데이터에 어떤 values들이 들어있는지 보겠습니다."
   ]
  },
  {
   "cell_type": "code",
   "execution_count": 11,
   "metadata": {},
   "outputs": [
    {
     "data": {
      "text/plain": [
       "ID7184    22\n",
       "ID7295    20\n",
       "ID4625    20\n",
       "ID5538    19\n",
       "ID5321    19\n",
       "          ..\n",
       "ID5287     1\n",
       "ID90       1\n",
       "ID3190     1\n",
       "ID4325     1\n",
       "ID3740     1\n",
       "Name: Restaurant, Length: 7480, dtype: int64"
      ]
     },
     "execution_count": 11,
     "metadata": {},
     "output_type": "execute_result"
    }
   ],
   "source": [
    "food['Restaurant'].value_counts()"
   ]
  },
  {
   "cell_type": "markdown",
   "metadata": {},
   "source": [
    "무려 7480개의 레스토랑이 있습니다. 그 중에 빈도가 20회가 넘는 레스토랑들도 있는 반면, 1회인 레스토랑도 많네요."
   ]
  },
  {
   "cell_type": "code",
   "execution_count": 12,
   "metadata": {},
   "outputs": [
    {
     "data": {
      "text/plain": [
       "Mico Layout, Stage 2, BTM Layout,Bangalore          947\n",
       "DBlock, Sector 63, Noida                            806\n",
       "Sector 1, Noida                                     791\n",
       "FTI College, Law College Road, Pune                 584\n",
       "Delhi UniversityGTB Nagar                           545\n",
       "Laxman Vihar Industrial Area, Sector 3A, Gurgoan    493\n",
       "Sector 14, Noida                                    489\n",
       "Delhi Administration Flats, Timarpur                472\n",
       "Mumbai Central                                      459\n",
       "Rmz Centennial, I Gate, Whitefield                  457\n",
       "Delhi High Court, India Gate                        411\n",
       "MG Road, Pune                                       402\n",
       "Nathan Road, Mangaldas Road, Pune                   372\n",
       "Sandhurst Road, Mumbai CST Area                     370\n",
       "Sector 3, Marathalli                                366\n",
       "Majestic                                            334\n",
       "Delhi Cantt.                                        326\n",
       "Yerawada, Pune, Maharashtra                         307\n",
       "Dockyard Road, Mumbai CST Area                      291\n",
       "Babarpur, New Delhi, Delhi                          282\n",
       "Pune University                                     278\n",
       "Sector 63A,Gurgaon                                  260\n",
       "Moulali, Kolkata                                    137\n",
       "Chandni Chowk, Kolkata                              126\n",
       "Tejas Nagar Colony, Wadala West, Mumbai             109\n",
       "Raja Bazar, Kolkata                                 108\n",
       "Tiretti, Kolkata                                     96\n",
       "Hyderabad Public School, Begumpet                    81\n",
       "Gora Bazar, Rajbari, North Dumdum, Kolkata           79\n",
       "Noorkhan Bazaar, Malakpet, Hyderabad                 68\n",
       "Musi Nagar, Malakpet, Hyderabad                      68\n",
       "Panjetan Colony, Malakpet, Hyderabad                 56\n",
       "Chatta Bazaar, Malakpet, Hyderabad                   54\n",
       "Jaya Nagar, Saidabad, Hyderabad                      48\n",
       "BTM Layout 1, Electronic City                        22\n",
       "Name: Location, dtype: int64"
      ]
     },
     "execution_count": 12,
     "metadata": {},
     "output_type": "execute_result"
    }
   ],
   "source": [
    "food['Location'].value_counts()"
   ]
  },
  {
   "cell_type": "markdown",
   "metadata": {},
   "source": [
    "location feature는 의외로 values의 종류가 많지는 않습니다. 구글지도에서 몇 군데를 검색해본 결과 대부분은 인도 각 도시의 distirct를 가리키는 주소였습니다."
   ]
  },
  {
   "cell_type": "code",
   "execution_count": 13,
   "metadata": {},
   "outputs": [
    {
     "data": {
      "text/plain": [
       "North Indian                                                850\n",
       "North Indian, Chinese                                       614\n",
       "Fast Food                                                   434\n",
       "South Indian                                                270\n",
       "Chinese                                                     245\n",
       "                                                           ... \n",
       "South Indian, North Indian, Chinese, Desserts, Beverages      1\n",
       "Continental, Fast Food, North Indian, Chinese                 1\n",
       "Chinese, Seafood, Thai, North Indian                          1\n",
       "Lebanese, Kebab                                               1\n",
       "Korean, Momos, Asian                                          1\n",
       "Name: Cuisines, Length: 2179, dtype: int64"
      ]
     },
     "execution_count": 13,
     "metadata": {},
     "output_type": "execute_result"
    }
   ],
   "source": [
    "food['Cuisines'].value_counts()"
   ]
  },
  {
   "cell_type": "code",
   "execution_count": 14,
   "metadata": {
    "scrolled": true
   },
   "outputs": [
    {
     "data": {
      "text/plain": [
       "200      3241\n",
       "100      2557\n",
       "150      2462\n",
       "250       881\n",
       "300       537\n",
       "350       283\n",
       "400       282\n",
       "50        265\n",
       "600       154\n",
       "500       101\n",
       "450        63\n",
       "550        60\n",
       "650        55\n",
       "800        44\n",
       "750        38\n",
       "900        15\n",
       "700        15\n",
       "1,000      12\n",
       "850        12\n",
       "1,200       8\n",
       "950         4\n",
       "1,100       1\n",
       "for         1\n",
       "2,050       1\n",
       "1,150       1\n",
       "1,400       1\n",
       "Name: AverageCost, dtype: int64"
      ]
     },
     "execution_count": 14,
     "metadata": {},
     "output_type": "execute_result"
    }
   ],
   "source": [
    "food['AverageCost'].value_counts()"
   ]
  },
  {
   "cell_type": "markdown",
   "metadata": {},
   "source": [
    "'for' 하나 때문에 numerical feature가 안된 것 같다."
   ]
  },
  {
   "cell_type": "code",
   "execution_count": 15,
   "metadata": {},
   "outputs": [
    {
     "data": {
      "text/plain": [
       "array(['3.5', '3.6', '3.7', '3.2', '3.8', '4.0', '3.9', '4.2', nan, '2.8',\n",
       "       '3.0', '3.3', '3.1', '4.7', '3.4', '4.1', 'NEW', '2.9', '4.6',\n",
       "       '4.3', '2.6', '4.5', '4.4', '4.8', '2.4', '2.7', '2.5',\n",
       "       'Opening Soon', '2.2', '4.9', '2.3', '2.1', 'Temporarily Closed'],\n",
       "      dtype=object)"
      ]
     },
     "execution_count": 15,
     "metadata": {},
     "output_type": "execute_result"
    }
   ],
   "source": [
    "food['Rating'].unique()"
   ]
  },
  {
   "cell_type": "markdown",
   "metadata": {},
   "source": [
    "'New', Opening Soon', 'Temporarily Closed' 같은 변수들은 사실 Rating이 없다고 봐야할 것 같다."
   ]
  },
  {
   "cell_type": "markdown",
   "metadata": {},
   "source": [
    "연속형 데이터들의 분포를 보겠습니다."
   ]
  },
  {
   "cell_type": "code",
   "execution_count": 16,
   "metadata": {},
   "outputs": [
    {
     "data": {
      "image/png": "[encoded data removed]",
      "text/plain": [
       "<Figure size 720x432 with 4 Axes>"
      ]
     },
     "metadata": {
      "needs_background": "light"
     },
     "output_type": "display_data"
    }
   ],
   "source": [
    "food.hist(figsize=(10,6))\n",
    "plt.show()"
   ]
  },
  {
   "cell_type": "markdown",
   "metadata": {},
   "source": [
    "고르게 분포되어있지 않은 모습입니다."
   ]
  },
  {
   "cell_type": "markdown",
   "metadata": {},
   "source": [
    "### 3-2. 데이터 cleaning"
   ]
  },
  {
   "cell_type": "markdown",
   "metadata": {},
   "source": [
    "cleaning을 거칠 features 들\n",
    "\n",
    "1. AverageCost, Rating : 숫자 타입이 아닌 value들 처리하고, 타입 변환\n",
    "2. Location & Cuisines : 범주형 변수. encoding 전에 처리해야할 부분이 있는지 확인, 처리"
   ]
  },
  {
   "cell_type": "markdown",
   "metadata": {},
   "source": [
    "1. AverageCost : 특이값을 처리하고, 타입 변환"
   ]
  },
  {
   "cell_type": "code",
   "execution_count": 17,
   "metadata": {},
   "outputs": [
    {
     "name": "stderr",
     "output_type": "stream",
     "text": [
      "<ipython-input-17-5ff5ac6342f1>:2: SettingWithCopyWarning: \n",
      "A value is trying to be set on a copy of a slice from a DataFrame\n",
      "\n",
      "See the caveats in the documentation: https://pandas.pydata.org/pandas-docs/stable/user_guide/indexing.html#returning-a-view-versus-a-copy\n",
      "  food[\"AverageCost\"][food['AverageCost'] == 'for'] = 200\n"
     ]
    }
   ],
   "source": [
    "# 아까 찾았던 이상한 value row를 최빈값으로 대체\n",
    "food[\"AverageCost\"][food['AverageCost'] == 'for'] = 200"
   ]
  },
  {
   "cell_type": "code",
   "execution_count": 18,
   "metadata": {},
   "outputs": [
    {
     "data": {
      "text/html": [
       "<div>\n",
       "<style scoped>\n",
       "    .dataframe tbody tr th:only-of-type {\n",
       "        vertical-align: middle;\n",
       "    }\n",
       "\n",
       "    .dataframe tbody tr th {\n",
       "        vertical-align: top;\n",
       "    }\n",
       "\n",
       "    .dataframe thead th {\n",
       "        text-align: right;\n",
       "    }\n",
       "</style>\n",
       "<table border=\"1\" class=\"dataframe\">\n",
       "  <thead>\n",
       "    <tr style=\"text-align: right;\">\n",
       "      <th></th>\n",
       "      <th>Restaurant</th>\n",
       "      <th>Location</th>\n",
       "      <th>Cuisines</th>\n",
       "      <th>AverageCost</th>\n",
       "      <th>MinimumOrder</th>\n",
       "      <th>Rating</th>\n",
       "      <th>Votes</th>\n",
       "      <th>Reviews</th>\n",
       "      <th>DeliveryTime</th>\n",
       "    </tr>\n",
       "  </thead>\n",
       "  <tbody>\n",
       "  </tbody>\n",
       "</table>\n",
       "</div>"
      ],
      "text/plain": [
       "Empty DataFrame\n",
       "Columns: [Restaurant, Location, Cuisines, AverageCost, MinimumOrder, Rating, Votes, Reviews, DeliveryTime]\n",
       "Index: []"
      ]
     },
     "execution_count": 18,
     "metadata": {},
     "output_type": "execute_result"
    }
   ],
   "source": [
    "food[food['AverageCost'] == 'for']"
   ]
  },
  {
   "cell_type": "code",
   "execution_count": 19,
   "metadata": {},
   "outputs": [
    {
     "data": {
      "text/plain": [
       "dtype('O')"
      ]
     },
     "execution_count": 19,
     "metadata": {},
     "output_type": "execute_result"
    }
   ],
   "source": [
    "food['AverageCost'].dtypes"
   ]
  },
  {
   "cell_type": "code",
   "execution_count": 20,
   "metadata": {},
   "outputs": [
    {
     "data": {
      "text/plain": [
       "array(['200', '100', '150', '250', '650', '350', '800', '50', '400',\n",
       "       '600', '300', '750', '450', '550', '1,000', '500', '900', '1,200',\n",
       "       '950', '850', '700', '1,150', 200, '1,100', '1,400', '2,050'],\n",
       "      dtype=object)"
      ]
     },
     "execution_count": 20,
     "metadata": {},
     "output_type": "execute_result"
    }
   ],
   "source": [
    "food['AverageCost'].unique()"
   ]
  },
  {
   "cell_type": "markdown",
   "metadata": {},
   "source": [
    "쉼표때문에 숫자로 인식이 안되는 것 같다. 정규표형식으로 빼주려 한다."
   ]
  },
  {
   "cell_type": "code",
   "execution_count": 21,
   "metadata": {},
   "outputs": [
    {
     "data": {
      "text/plain": [
       "dtype('int64')"
      ]
     },
     "execution_count": 21,
     "metadata": {},
     "output_type": "execute_result"
    }
   ],
   "source": [
    "import re\n",
    "\n",
    "food['AverageCost'] = food['AverageCost'].apply(lambda x: int(re.sub(\"[^0-9]\", \"\", str(x))))\n",
    "\n",
    "food['AverageCost'].dtypes"
   ]
  },
  {
   "cell_type": "markdown",
   "metadata": {},
   "source": [
    "2. Rating : 숫자 타입이 아닌 value들 처리 후 타입 변환"
   ]
  },
  {
   "cell_type": "code",
   "execution_count": 22,
   "metadata": {},
   "outputs": [
    {
     "data": {
      "text/plain": [
       "0    3.7\n",
       "dtype: object"
      ]
     },
     "execution_count": 22,
     "metadata": {},
     "output_type": "execute_result"
    }
   ],
   "source": [
    "food['Rating'].mode()"
   ]
  },
  {
   "cell_type": "code",
   "execution_count": 23,
   "metadata": {},
   "outputs": [
    {
     "data": {
      "text/html": [
       "<div>\n",
       "<style scoped>\n",
       "    .dataframe tbody tr th:only-of-type {\n",
       "        vertical-align: middle;\n",
       "    }\n",
       "\n",
       "    .dataframe tbody tr th {\n",
       "        vertical-align: top;\n",
       "    }\n",
       "\n",
       "    .dataframe thead th {\n",
       "        text-align: right;\n",
       "    }\n",
       "</style>\n",
       "<table border=\"1\" class=\"dataframe\">\n",
       "  <thead>\n",
       "    <tr style=\"text-align: right;\">\n",
       "      <th></th>\n",
       "      <th>Restaurant</th>\n",
       "      <th>Location</th>\n",
       "      <th>Cuisines</th>\n",
       "      <th>AverageCost</th>\n",
       "      <th>MinimumOrder</th>\n",
       "      <th>Rating</th>\n",
       "      <th>Votes</th>\n",
       "      <th>Reviews</th>\n",
       "      <th>DeliveryTime</th>\n",
       "    </tr>\n",
       "  </thead>\n",
       "  <tbody>\n",
       "    <tr>\n",
       "      <th>12</th>\n",
       "      <td>ID1156</td>\n",
       "      <td>Sector 1, Noida</td>\n",
       "      <td>Burger, Fast Food, Desserts, Beverages</td>\n",
       "      <td>150</td>\n",
       "      <td>50</td>\n",
       "      <td>NaN</td>\n",
       "      <td>NaN</td>\n",
       "      <td>NaN</td>\n",
       "      <td>30</td>\n",
       "    </tr>\n",
       "    <tr>\n",
       "      <th>16</th>\n",
       "      <td>ID2141</td>\n",
       "      <td>Sector 1, Noida</td>\n",
       "      <td>Italian</td>\n",
       "      <td>100</td>\n",
       "      <td>50</td>\n",
       "      <td>NaN</td>\n",
       "      <td>NaN</td>\n",
       "      <td>NaN</td>\n",
       "      <td>30</td>\n",
       "    </tr>\n",
       "    <tr>\n",
       "      <th>18</th>\n",
       "      <td>ID5262</td>\n",
       "      <td>Pune University</td>\n",
       "      <td>Kerala, Bihari</td>\n",
       "      <td>150</td>\n",
       "      <td>50</td>\n",
       "      <td>NaN</td>\n",
       "      <td>NaN</td>\n",
       "      <td>NaN</td>\n",
       "      <td>30</td>\n",
       "    </tr>\n",
       "    <tr>\n",
       "      <th>25</th>\n",
       "      <td>ID4944</td>\n",
       "      <td>Mico Layout, Stage 2, BTM Layout,Bangalore</td>\n",
       "      <td>Desserts, Ice Cream</td>\n",
       "      <td>100</td>\n",
       "      <td>50</td>\n",
       "      <td>NaN</td>\n",
       "      <td>NaN</td>\n",
       "      <td>NaN</td>\n",
       "      <td>45</td>\n",
       "    </tr>\n",
       "    <tr>\n",
       "      <th>47</th>\n",
       "      <td>ID2809</td>\n",
       "      <td>Mico Layout, Stage 2, BTM Layout,Bangalore</td>\n",
       "      <td>Chinese</td>\n",
       "      <td>200</td>\n",
       "      <td>50</td>\n",
       "      <td>NEW</td>\n",
       "      <td>NaN</td>\n",
       "      <td>NaN</td>\n",
       "      <td>30</td>\n",
       "    </tr>\n",
       "    <tr>\n",
       "      <th>...</th>\n",
       "      <td>...</td>\n",
       "      <td>...</td>\n",
       "      <td>...</td>\n",
       "      <td>...</td>\n",
       "      <td>...</td>\n",
       "      <td>...</td>\n",
       "      <td>...</td>\n",
       "      <td>...</td>\n",
       "      <td>...</td>\n",
       "    </tr>\n",
       "    <tr>\n",
       "      <th>11082</th>\n",
       "      <td>ID1434</td>\n",
       "      <td>Laxman Vihar Industrial Area, Sector 3A, Gurgoan</td>\n",
       "      <td>North Indian, Chinese, Mughlai</td>\n",
       "      <td>200</td>\n",
       "      <td>50</td>\n",
       "      <td>NaN</td>\n",
       "      <td>NaN</td>\n",
       "      <td>NaN</td>\n",
       "      <td>120</td>\n",
       "    </tr>\n",
       "    <tr>\n",
       "      <th>11084</th>\n",
       "      <td>ID968</td>\n",
       "      <td>Delhi Administration Flats, Timarpur</td>\n",
       "      <td>North Indian, Asian</td>\n",
       "      <td>200</td>\n",
       "      <td>50</td>\n",
       "      <td>NEW</td>\n",
       "      <td>NaN</td>\n",
       "      <td>NaN</td>\n",
       "      <td>30</td>\n",
       "    </tr>\n",
       "    <tr>\n",
       "      <th>11085</th>\n",
       "      <td>ID2394</td>\n",
       "      <td>Majestic</td>\n",
       "      <td>Street Food</td>\n",
       "      <td>100</td>\n",
       "      <td>50</td>\n",
       "      <td>NaN</td>\n",
       "      <td>NaN</td>\n",
       "      <td>NaN</td>\n",
       "      <td>30</td>\n",
       "    </tr>\n",
       "    <tr>\n",
       "      <th>11086</th>\n",
       "      <td>ID2050</td>\n",
       "      <td>FTI College, Law College Road, Pune</td>\n",
       "      <td>North Indian, Fast Food</td>\n",
       "      <td>300</td>\n",
       "      <td>50</td>\n",
       "      <td>NaN</td>\n",
       "      <td>NaN</td>\n",
       "      <td>NaN</td>\n",
       "      <td>30</td>\n",
       "    </tr>\n",
       "    <tr>\n",
       "      <th>11093</th>\n",
       "      <td>ID4417</td>\n",
       "      <td>Sector 63A,Gurgaon</td>\n",
       "      <td>North Indian</td>\n",
       "      <td>100</td>\n",
       "      <td>50</td>\n",
       "      <td>NEW</td>\n",
       "      <td>NaN</td>\n",
       "      <td>NaN</td>\n",
       "      <td>30</td>\n",
       "    </tr>\n",
       "  </tbody>\n",
       "</table>\n",
       "<p>2312 rows × 9 columns</p>\n",
       "</div>"
      ],
      "text/plain": [
       "      Restaurant                                          Location  \\\n",
       "12        ID1156                                   Sector 1, Noida   \n",
       "16        ID2141                                   Sector 1, Noida   \n",
       "18        ID5262                                   Pune University   \n",
       "25        ID4944        Mico Layout, Stage 2, BTM Layout,Bangalore   \n",
       "47        ID2809        Mico Layout, Stage 2, BTM Layout,Bangalore   \n",
       "...          ...                                               ...   \n",
       "11082     ID1434  Laxman Vihar Industrial Area, Sector 3A, Gurgoan   \n",
       "11084      ID968              Delhi Administration Flats, Timarpur   \n",
       "11085     ID2394                                          Majestic   \n",
       "11086     ID2050               FTI College, Law College Road, Pune   \n",
       "11093     ID4417                                Sector 63A,Gurgaon   \n",
       "\n",
       "                                     Cuisines  AverageCost  MinimumOrder  \\\n",
       "12     Burger, Fast Food, Desserts, Beverages          150            50   \n",
       "16                                    Italian          100            50   \n",
       "18                             Kerala, Bihari          150            50   \n",
       "25                        Desserts, Ice Cream          100            50   \n",
       "47                                    Chinese          200            50   \n",
       "...                                       ...          ...           ...   \n",
       "11082          North Indian, Chinese, Mughlai          200            50   \n",
       "11084                     North Indian, Asian          200            50   \n",
       "11085                             Street Food          100            50   \n",
       "11086                 North Indian, Fast Food          300            50   \n",
       "11093                            North Indian          100            50   \n",
       "\n",
       "      Rating  Votes  Reviews  DeliveryTime  \n",
       "12       NaN    NaN      NaN            30  \n",
       "16       NaN    NaN      NaN            30  \n",
       "18       NaN    NaN      NaN            30  \n",
       "25       NaN    NaN      NaN            45  \n",
       "47       NEW    NaN      NaN            30  \n",
       "...      ...    ...      ...           ...  \n",
       "11082    NaN    NaN      NaN           120  \n",
       "11084    NEW    NaN      NaN            30  \n",
       "11085    NaN    NaN      NaN            30  \n",
       "11086    NaN    NaN      NaN            30  \n",
       "11093    NEW    NaN      NaN            30  \n",
       "\n",
       "[2312 rows x 9 columns]"
      ]
     },
     "execution_count": 23,
     "metadata": {},
     "output_type": "execute_result"
    }
   ],
   "source": [
    "rating_dropna_sampling = food[food.isnull().any(axis=1)]\n",
    "rating_dropna_sampling "
   ]
  },
  {
   "cell_type": "code",
   "execution_count": 24,
   "metadata": {
    "scrolled": true
   },
   "outputs": [],
   "source": [
    "#Rating : 일단 text로 되어 있는 애들은 새로 열었거나 일시적으로 문을 닫은 상태라는 의미이니, nan으로 만들어줌\n",
    "food['Rating']=pd.to_numeric(food['Rating'].apply(lambda x : np.nan if x in ['Temporarily Closed','Opening Soon','-','NEW'] else x))"
   ]
  },
  {
   "cell_type": "code",
   "execution_count": 25,
   "metadata": {
    "scrolled": true
   },
   "outputs": [
    {
     "data": {
      "text/plain": [
       "dtype('float64')"
      ]
     },
     "execution_count": 25,
     "metadata": {},
     "output_type": "execute_result"
    }
   ],
   "source": [
    "food['Rating'].dtypes"
   ]
  },
  {
   "cell_type": "code",
   "execution_count": 26,
   "metadata": {},
   "outputs": [
    {
     "data": {
      "image/png": "[encoded data removed]",
      "text/plain": [
       "<Figure size 1440x216 with 3 Axes>"
      ]
     },
     "metadata": {
      "needs_background": "light"
     },
     "output_type": "display_data"
    }
   ],
   "source": [
    "plt.figure(figsize=(20, 3))\n",
    "\n",
    "ax1 = plt.subplot(131)\n",
    "food['Rating'].hist()\n",
    "plt.xlabel('Rating')\n",
    "\n",
    "ax2 = plt.subplot(132)\n",
    "food['Reviews'].hist()\n",
    "plt.xlabel('Reviews')\n",
    "\n",
    "ax3 = plt.subplot(133)\n",
    "food['Votes'].hist()\n",
    "plt.xlabel('Votes')\n",
    "\n",
    "plt.show()"
   ]
  },
  {
   "cell_type": "markdown",
   "metadata": {},
   "source": [
    "Rating은 얼추 정규분포 비슷한 형태\n",
    "Votes와 Reviews는 표나 리뷰를 작성한 갯수라서 대부분은 0에 붙어 있는 작은 값이지만 엄청 큰 outliers들이 있는 분포다.\n",
    "-> scaling 또는 categorization 필요"
   ]
  },
  {
   "cell_type": "markdown",
   "metadata": {},
   "source": [
    "2. Location & Cuisines : 범주형 변수. encoding 전에 처리해야할 부분이 있는지 확인, 처리\n",
    "\n",
    "Location과 Cuisine variable의 가장 큰 특징은 그냥 범주형 변수가 아니라, 한 column안에서 , 를 기준으로 여러 개의 value가 들어가 있다는 점이다."
   ]
  },
  {
   "cell_type": "markdown",
   "metadata": {},
   "source": [
    "크게는 8개의 value가 들어가 있다. 이걸 어떻게 처리할까?\n",
    "1. one hot encoding\n",
    "2. label encoding\n",
    "3. multilabel binarizer\n",
    "4. text count vectorizer\n",
    "\n",
    "*참고*\n",
    "https://stackoverflow.com/questions/50473381/scikit-learns-labelbinarizer-vs-onehotencoder"
   ]
  },
  {
   "cell_type": "code",
   "execution_count": 27,
   "metadata": {
    "scrolled": true
   },
   "outputs": [
    {
     "data": {
      "text/plain": [
       "\"\\n1. one hot encoding\\ndummied = pd.get_dummies(food['Location'])\\ndummied\\n\""
      ]
     },
     "execution_count": 27,
     "metadata": {},
     "output_type": "execute_result"
    }
   ],
   "source": [
    "'''\n",
    "1. one hot encoding\n",
    "dummied = pd.get_dummies(food['Location'])\n",
    "dummied\n",
    "'''"
   ]
  },
  {
   "cell_type": "code",
   "execution_count": 28,
   "metadata": {},
   "outputs": [],
   "source": [
    "# countvectorizer 써보자\n",
    "from sklearn.feature_extraction.text import CountVectorizer\n",
    "\n"
   ]
  },
  {
   "cell_type": "code",
   "execution_count": 29,
   "metadata": {},
   "outputs": [],
   "source": [
    "food['Cuisines']=food['Cuisines'].str.lower()"
   ]
  },
  {
   "cell_type": "code",
   "execution_count": 30,
   "metadata": {},
   "outputs": [
    {
     "data": {
      "text/plain": [
       "north indian                                                 850\n",
       "north indian, chinese                                        614\n",
       "fast food                                                    434\n",
       "south indian                                                 270\n",
       "chinese                                                      245\n",
       "                                                            ... \n",
       "south indian, fast food, beverages                             1\n",
       "healthy food, salad, north indian, continental, beverages      1\n",
       "chinese, fast food, beverages, north indian                    1\n",
       "north indian, italian, continental, finger food                1\n",
       "fast food, raw meats                                           1\n",
       "Name: Cuisines, Length: 2179, dtype: int64"
      ]
     },
     "execution_count": 30,
     "metadata": {},
     "output_type": "execute_result"
    }
   ],
   "source": [
    "food['Cuisines'].value_counts()"
   ]
  },
  {
   "cell_type": "code",
   "execution_count": 31,
   "metadata": {
    "scrolled": true
   },
   "outputs": [
    {
     "data": {
      "text/plain": [
       "(11094, 107)"
      ]
     },
     "execution_count": 31,
     "metadata": {},
     "output_type": "execute_result"
    }
   ],
   "source": [
    "count_vect = CountVectorizer()\n",
    "cuisines_vector = count_vect.fit_transform(food['Cuisines'])\n",
    "cuisines_vector.shape"
   ]
  },
  {
   "cell_type": "code",
   "execution_count": 32,
   "metadata": {
    "scrolled": true
   },
   "outputs": [
    {
     "data": {
      "text/plain": [
       "array([[0, 0, 0, ..., 0, 1, 0],\n",
       "       [0, 0, 0, ..., 0, 0, 0],\n",
       "       [0, 0, 0, ..., 0, 0, 0],\n",
       "       ...,\n",
       "       [0, 0, 0, ..., 0, 0, 0],\n",
       "       [0, 0, 0, ..., 0, 0, 0],\n",
       "       [0, 0, 0, ..., 0, 0, 0]])"
      ]
     },
     "execution_count": 32,
     "metadata": {},
     "output_type": "execute_result"
    }
   ],
   "source": [
    "cuisines_vector.toarray()"
   ]
  },
  {
   "cell_type": "code",
   "execution_count": 33,
   "metadata": {},
   "outputs": [
    {
     "data": {
      "text/html": [
       "<div>\n",
       "<style scoped>\n",
       "    .dataframe tbody tr th:only-of-type {\n",
       "        vertical-align: middle;\n",
       "    }\n",
       "\n",
       "    .dataframe tbody tr th {\n",
       "        vertical-align: top;\n",
       "    }\n",
       "\n",
       "    .dataframe thead th {\n",
       "        text-align: right;\n",
       "    }\n",
       "</style>\n",
       "<table border=\"1\" class=\"dataframe\">\n",
       "  <thead>\n",
       "    <tr style=\"text-align: right;\">\n",
       "      <th></th>\n",
       "      <th>0</th>\n",
       "      <th>1</th>\n",
       "      <th>2</th>\n",
       "      <th>3</th>\n",
       "      <th>4</th>\n",
       "      <th>5</th>\n",
       "      <th>6</th>\n",
       "      <th>7</th>\n",
       "      <th>8</th>\n",
       "      <th>9</th>\n",
       "      <th>...</th>\n",
       "      <th>97</th>\n",
       "      <th>98</th>\n",
       "      <th>99</th>\n",
       "      <th>100</th>\n",
       "      <th>101</th>\n",
       "      <th>102</th>\n",
       "      <th>103</th>\n",
       "      <th>104</th>\n",
       "      <th>105</th>\n",
       "      <th>106</th>\n",
       "    </tr>\n",
       "  </thead>\n",
       "  <tbody>\n",
       "    <tr>\n",
       "      <th>0</th>\n",
       "      <td>0</td>\n",
       "      <td>0</td>\n",
       "      <td>0</td>\n",
       "      <td>0</td>\n",
       "      <td>0</td>\n",
       "      <td>0</td>\n",
       "      <td>0</td>\n",
       "      <td>0</td>\n",
       "      <td>0</td>\n",
       "      <td>0</td>\n",
       "      <td>...</td>\n",
       "      <td>0</td>\n",
       "      <td>0</td>\n",
       "      <td>0</td>\n",
       "      <td>0</td>\n",
       "      <td>0</td>\n",
       "      <td>0</td>\n",
       "      <td>0</td>\n",
       "      <td>0</td>\n",
       "      <td>1</td>\n",
       "      <td>0</td>\n",
       "    </tr>\n",
       "    <tr>\n",
       "      <th>1</th>\n",
       "      <td>0</td>\n",
       "      <td>0</td>\n",
       "      <td>0</td>\n",
       "      <td>0</td>\n",
       "      <td>0</td>\n",
       "      <td>0</td>\n",
       "      <td>0</td>\n",
       "      <td>0</td>\n",
       "      <td>0</td>\n",
       "      <td>0</td>\n",
       "      <td>...</td>\n",
       "      <td>0</td>\n",
       "      <td>0</td>\n",
       "      <td>0</td>\n",
       "      <td>0</td>\n",
       "      <td>0</td>\n",
       "      <td>0</td>\n",
       "      <td>0</td>\n",
       "      <td>0</td>\n",
       "      <td>0</td>\n",
       "      <td>0</td>\n",
       "    </tr>\n",
       "    <tr>\n",
       "      <th>2</th>\n",
       "      <td>0</td>\n",
       "      <td>0</td>\n",
       "      <td>0</td>\n",
       "      <td>0</td>\n",
       "      <td>0</td>\n",
       "      <td>0</td>\n",
       "      <td>0</td>\n",
       "      <td>0</td>\n",
       "      <td>0</td>\n",
       "      <td>0</td>\n",
       "      <td>...</td>\n",
       "      <td>0</td>\n",
       "      <td>0</td>\n",
       "      <td>0</td>\n",
       "      <td>0</td>\n",
       "      <td>0</td>\n",
       "      <td>0</td>\n",
       "      <td>0</td>\n",
       "      <td>0</td>\n",
       "      <td>0</td>\n",
       "      <td>0</td>\n",
       "    </tr>\n",
       "    <tr>\n",
       "      <th>3</th>\n",
       "      <td>0</td>\n",
       "      <td>0</td>\n",
       "      <td>0</td>\n",
       "      <td>0</td>\n",
       "      <td>0</td>\n",
       "      <td>0</td>\n",
       "      <td>0</td>\n",
       "      <td>0</td>\n",
       "      <td>0</td>\n",
       "      <td>0</td>\n",
       "      <td>...</td>\n",
       "      <td>0</td>\n",
       "      <td>0</td>\n",
       "      <td>0</td>\n",
       "      <td>0</td>\n",
       "      <td>0</td>\n",
       "      <td>0</td>\n",
       "      <td>0</td>\n",
       "      <td>0</td>\n",
       "      <td>0</td>\n",
       "      <td>0</td>\n",
       "    </tr>\n",
       "    <tr>\n",
       "      <th>4</th>\n",
       "      <td>0</td>\n",
       "      <td>0</td>\n",
       "      <td>0</td>\n",
       "      <td>0</td>\n",
       "      <td>0</td>\n",
       "      <td>0</td>\n",
       "      <td>0</td>\n",
       "      <td>0</td>\n",
       "      <td>0</td>\n",
       "      <td>0</td>\n",
       "      <td>...</td>\n",
       "      <td>0</td>\n",
       "      <td>0</td>\n",
       "      <td>0</td>\n",
       "      <td>0</td>\n",
       "      <td>0</td>\n",
       "      <td>0</td>\n",
       "      <td>0</td>\n",
       "      <td>0</td>\n",
       "      <td>0</td>\n",
       "      <td>0</td>\n",
       "    </tr>\n",
       "    <tr>\n",
       "      <th>...</th>\n",
       "      <td>...</td>\n",
       "      <td>...</td>\n",
       "      <td>...</td>\n",
       "      <td>...</td>\n",
       "      <td>...</td>\n",
       "      <td>...</td>\n",
       "      <td>...</td>\n",
       "      <td>...</td>\n",
       "      <td>...</td>\n",
       "      <td>...</td>\n",
       "      <td>...</td>\n",
       "      <td>...</td>\n",
       "      <td>...</td>\n",
       "      <td>...</td>\n",
       "      <td>...</td>\n",
       "      <td>...</td>\n",
       "      <td>...</td>\n",
       "      <td>...</td>\n",
       "      <td>...</td>\n",
       "      <td>...</td>\n",
       "      <td>...</td>\n",
       "    </tr>\n",
       "    <tr>\n",
       "      <th>11089</th>\n",
       "      <td>0</td>\n",
       "      <td>0</td>\n",
       "      <td>0</td>\n",
       "      <td>0</td>\n",
       "      <td>0</td>\n",
       "      <td>0</td>\n",
       "      <td>0</td>\n",
       "      <td>0</td>\n",
       "      <td>0</td>\n",
       "      <td>0</td>\n",
       "      <td>...</td>\n",
       "      <td>0</td>\n",
       "      <td>0</td>\n",
       "      <td>0</td>\n",
       "      <td>0</td>\n",
       "      <td>0</td>\n",
       "      <td>1</td>\n",
       "      <td>0</td>\n",
       "      <td>0</td>\n",
       "      <td>0</td>\n",
       "      <td>0</td>\n",
       "    </tr>\n",
       "    <tr>\n",
       "      <th>11090</th>\n",
       "      <td>0</td>\n",
       "      <td>0</td>\n",
       "      <td>0</td>\n",
       "      <td>0</td>\n",
       "      <td>0</td>\n",
       "      <td>0</td>\n",
       "      <td>0</td>\n",
       "      <td>0</td>\n",
       "      <td>0</td>\n",
       "      <td>0</td>\n",
       "      <td>...</td>\n",
       "      <td>0</td>\n",
       "      <td>0</td>\n",
       "      <td>0</td>\n",
       "      <td>0</td>\n",
       "      <td>0</td>\n",
       "      <td>0</td>\n",
       "      <td>0</td>\n",
       "      <td>0</td>\n",
       "      <td>0</td>\n",
       "      <td>0</td>\n",
       "    </tr>\n",
       "    <tr>\n",
       "      <th>11091</th>\n",
       "      <td>0</td>\n",
       "      <td>0</td>\n",
       "      <td>0</td>\n",
       "      <td>0</td>\n",
       "      <td>0</td>\n",
       "      <td>0</td>\n",
       "      <td>0</td>\n",
       "      <td>0</td>\n",
       "      <td>0</td>\n",
       "      <td>0</td>\n",
       "      <td>...</td>\n",
       "      <td>0</td>\n",
       "      <td>0</td>\n",
       "      <td>0</td>\n",
       "      <td>0</td>\n",
       "      <td>0</td>\n",
       "      <td>0</td>\n",
       "      <td>0</td>\n",
       "      <td>0</td>\n",
       "      <td>0</td>\n",
       "      <td>0</td>\n",
       "    </tr>\n",
       "    <tr>\n",
       "      <th>11092</th>\n",
       "      <td>0</td>\n",
       "      <td>0</td>\n",
       "      <td>0</td>\n",
       "      <td>0</td>\n",
       "      <td>0</td>\n",
       "      <td>0</td>\n",
       "      <td>0</td>\n",
       "      <td>0</td>\n",
       "      <td>0</td>\n",
       "      <td>0</td>\n",
       "      <td>...</td>\n",
       "      <td>0</td>\n",
       "      <td>0</td>\n",
       "      <td>0</td>\n",
       "      <td>0</td>\n",
       "      <td>0</td>\n",
       "      <td>0</td>\n",
       "      <td>0</td>\n",
       "      <td>0</td>\n",
       "      <td>0</td>\n",
       "      <td>0</td>\n",
       "    </tr>\n",
       "    <tr>\n",
       "      <th>11093</th>\n",
       "      <td>0</td>\n",
       "      <td>0</td>\n",
       "      <td>0</td>\n",
       "      <td>0</td>\n",
       "      <td>0</td>\n",
       "      <td>0</td>\n",
       "      <td>0</td>\n",
       "      <td>0</td>\n",
       "      <td>0</td>\n",
       "      <td>0</td>\n",
       "      <td>...</td>\n",
       "      <td>0</td>\n",
       "      <td>0</td>\n",
       "      <td>0</td>\n",
       "      <td>0</td>\n",
       "      <td>0</td>\n",
       "      <td>0</td>\n",
       "      <td>0</td>\n",
       "      <td>0</td>\n",
       "      <td>0</td>\n",
       "      <td>0</td>\n",
       "    </tr>\n",
       "  </tbody>\n",
       "</table>\n",
       "<p>11094 rows × 107 columns</p>\n",
       "</div>"
      ],
      "text/plain": [
       "       0    1    2    3    4    5    6    7    8    9    ...  97   98   99   \\\n",
       "0        0    0    0    0    0    0    0    0    0    0  ...    0    0    0   \n",
       "1        0    0    0    0    0    0    0    0    0    0  ...    0    0    0   \n",
       "2        0    0    0    0    0    0    0    0    0    0  ...    0    0    0   \n",
       "3        0    0    0    0    0    0    0    0    0    0  ...    0    0    0   \n",
       "4        0    0    0    0    0    0    0    0    0    0  ...    0    0    0   \n",
       "...    ...  ...  ...  ...  ...  ...  ...  ...  ...  ...  ...  ...  ...  ...   \n",
       "11089    0    0    0    0    0    0    0    0    0    0  ...    0    0    0   \n",
       "11090    0    0    0    0    0    0    0    0    0    0  ...    0    0    0   \n",
       "11091    0    0    0    0    0    0    0    0    0    0  ...    0    0    0   \n",
       "11092    0    0    0    0    0    0    0    0    0    0  ...    0    0    0   \n",
       "11093    0    0    0    0    0    0    0    0    0    0  ...    0    0    0   \n",
       "\n",
       "       100  101  102  103  104  105  106  \n",
       "0        0    0    0    0    0    1    0  \n",
       "1        0    0    0    0    0    0    0  \n",
       "2        0    0    0    0    0    0    0  \n",
       "3        0    0    0    0    0    0    0  \n",
       "4        0    0    0    0    0    0    0  \n",
       "...    ...  ...  ...  ...  ...  ...  ...  \n",
       "11089    0    0    1    0    0    0    0  \n",
       "11090    0    0    0    0    0    0    0  \n",
       "11091    0    0    0    0    0    0    0  \n",
       "11092    0    0    0    0    0    0    0  \n",
       "11093    0    0    0    0    0    0    0  \n",
       "\n",
       "[11094 rows x 107 columns]"
      ]
     },
     "execution_count": 33,
     "metadata": {},
     "output_type": "execute_result"
    }
   ],
   "source": [
    "cus_df = pd.DataFrame(cuisines_vector.toarray())\n",
    "cus_df"
   ]
  },
  {
   "cell_type": "code",
   "execution_count": 34,
   "metadata": {
    "scrolled": true
   },
   "outputs": [
    {
     "data": {
      "text/plain": [
       "35"
      ]
     },
     "execution_count": 34,
     "metadata": {},
     "output_type": "execute_result"
    }
   ],
   "source": [
    "len(food['Location'].unique())"
   ]
  },
  {
   "cell_type": "markdown",
   "metadata": {},
   "source": [
    "그래도 location은 갯수가 많지 않으니 one-hot encoding으로"
   ]
  },
  {
   "cell_type": "code",
   "execution_count": 35,
   "metadata": {},
   "outputs": [
    {
     "data": {
      "text/html": [
       "<div>\n",
       "<style scoped>\n",
       "    .dataframe tbody tr th:only-of-type {\n",
       "        vertical-align: middle;\n",
       "    }\n",
       "\n",
       "    .dataframe tbody tr th {\n",
       "        vertical-align: top;\n",
       "    }\n",
       "\n",
       "    .dataframe thead th {\n",
       "        text-align: right;\n",
       "    }\n",
       "</style>\n",
       "<table border=\"1\" class=\"dataframe\">\n",
       "  <thead>\n",
       "    <tr style=\"text-align: right;\">\n",
       "      <th></th>\n",
       "      <th>BTM Layout 1, Electronic City</th>\n",
       "      <th>Babarpur, New Delhi, Delhi</th>\n",
       "      <th>Chandni Chowk, Kolkata</th>\n",
       "      <th>Chatta Bazaar, Malakpet, Hyderabad</th>\n",
       "      <th>DBlock, Sector 63, Noida</th>\n",
       "      <th>Delhi Administration Flats, Timarpur</th>\n",
       "      <th>Delhi Cantt.</th>\n",
       "      <th>Delhi High Court, India Gate</th>\n",
       "      <th>Delhi UniversityGTB Nagar</th>\n",
       "      <th>Dockyard Road, Mumbai CST Area</th>\n",
       "      <th>...</th>\n",
       "      <th>Raja Bazar, Kolkata</th>\n",
       "      <th>Rmz Centennial, I Gate, Whitefield</th>\n",
       "      <th>Sandhurst Road, Mumbai CST Area</th>\n",
       "      <th>Sector 1, Noida</th>\n",
       "      <th>Sector 14, Noida</th>\n",
       "      <th>Sector 3, Marathalli</th>\n",
       "      <th>Sector 63A,Gurgaon</th>\n",
       "      <th>Tejas Nagar Colony, Wadala West, Mumbai</th>\n",
       "      <th>Tiretti, Kolkata</th>\n",
       "      <th>Yerawada, Pune, Maharashtra</th>\n",
       "    </tr>\n",
       "  </thead>\n",
       "  <tbody>\n",
       "    <tr>\n",
       "      <th>0</th>\n",
       "      <td>0</td>\n",
       "      <td>0</td>\n",
       "      <td>0</td>\n",
       "      <td>0</td>\n",
       "      <td>0</td>\n",
       "      <td>0</td>\n",
       "      <td>0</td>\n",
       "      <td>0</td>\n",
       "      <td>0</td>\n",
       "      <td>0</td>\n",
       "      <td>...</td>\n",
       "      <td>0</td>\n",
       "      <td>0</td>\n",
       "      <td>0</td>\n",
       "      <td>0</td>\n",
       "      <td>0</td>\n",
       "      <td>0</td>\n",
       "      <td>0</td>\n",
       "      <td>0</td>\n",
       "      <td>0</td>\n",
       "      <td>0</td>\n",
       "    </tr>\n",
       "    <tr>\n",
       "      <th>1</th>\n",
       "      <td>0</td>\n",
       "      <td>0</td>\n",
       "      <td>0</td>\n",
       "      <td>0</td>\n",
       "      <td>0</td>\n",
       "      <td>0</td>\n",
       "      <td>0</td>\n",
       "      <td>0</td>\n",
       "      <td>0</td>\n",
       "      <td>0</td>\n",
       "      <td>...</td>\n",
       "      <td>0</td>\n",
       "      <td>0</td>\n",
       "      <td>0</td>\n",
       "      <td>0</td>\n",
       "      <td>0</td>\n",
       "      <td>1</td>\n",
       "      <td>0</td>\n",
       "      <td>0</td>\n",
       "      <td>0</td>\n",
       "      <td>0</td>\n",
       "    </tr>\n",
       "    <tr>\n",
       "      <th>2</th>\n",
       "      <td>0</td>\n",
       "      <td>0</td>\n",
       "      <td>0</td>\n",
       "      <td>0</td>\n",
       "      <td>0</td>\n",
       "      <td>0</td>\n",
       "      <td>0</td>\n",
       "      <td>0</td>\n",
       "      <td>0</td>\n",
       "      <td>0</td>\n",
       "      <td>...</td>\n",
       "      <td>0</td>\n",
       "      <td>0</td>\n",
       "      <td>0</td>\n",
       "      <td>0</td>\n",
       "      <td>0</td>\n",
       "      <td>0</td>\n",
       "      <td>0</td>\n",
       "      <td>0</td>\n",
       "      <td>0</td>\n",
       "      <td>0</td>\n",
       "    </tr>\n",
       "    <tr>\n",
       "      <th>3</th>\n",
       "      <td>0</td>\n",
       "      <td>0</td>\n",
       "      <td>0</td>\n",
       "      <td>0</td>\n",
       "      <td>0</td>\n",
       "      <td>0</td>\n",
       "      <td>0</td>\n",
       "      <td>0</td>\n",
       "      <td>0</td>\n",
       "      <td>0</td>\n",
       "      <td>...</td>\n",
       "      <td>0</td>\n",
       "      <td>0</td>\n",
       "      <td>0</td>\n",
       "      <td>1</td>\n",
       "      <td>0</td>\n",
       "      <td>0</td>\n",
       "      <td>0</td>\n",
       "      <td>0</td>\n",
       "      <td>0</td>\n",
       "      <td>0</td>\n",
       "    </tr>\n",
       "    <tr>\n",
       "      <th>4</th>\n",
       "      <td>0</td>\n",
       "      <td>0</td>\n",
       "      <td>0</td>\n",
       "      <td>0</td>\n",
       "      <td>0</td>\n",
       "      <td>0</td>\n",
       "      <td>0</td>\n",
       "      <td>0</td>\n",
       "      <td>0</td>\n",
       "      <td>0</td>\n",
       "      <td>...</td>\n",
       "      <td>0</td>\n",
       "      <td>1</td>\n",
       "      <td>0</td>\n",
       "      <td>0</td>\n",
       "      <td>0</td>\n",
       "      <td>0</td>\n",
       "      <td>0</td>\n",
       "      <td>0</td>\n",
       "      <td>0</td>\n",
       "      <td>0</td>\n",
       "    </tr>\n",
       "    <tr>\n",
       "      <th>...</th>\n",
       "      <td>...</td>\n",
       "      <td>...</td>\n",
       "      <td>...</td>\n",
       "      <td>...</td>\n",
       "      <td>...</td>\n",
       "      <td>...</td>\n",
       "      <td>...</td>\n",
       "      <td>...</td>\n",
       "      <td>...</td>\n",
       "      <td>...</td>\n",
       "      <td>...</td>\n",
       "      <td>...</td>\n",
       "      <td>...</td>\n",
       "      <td>...</td>\n",
       "      <td>...</td>\n",
       "      <td>...</td>\n",
       "      <td>...</td>\n",
       "      <td>...</td>\n",
       "      <td>...</td>\n",
       "      <td>...</td>\n",
       "      <td>...</td>\n",
       "    </tr>\n",
       "    <tr>\n",
       "      <th>11089</th>\n",
       "      <td>1</td>\n",
       "      <td>0</td>\n",
       "      <td>0</td>\n",
       "      <td>0</td>\n",
       "      <td>0</td>\n",
       "      <td>0</td>\n",
       "      <td>0</td>\n",
       "      <td>0</td>\n",
       "      <td>0</td>\n",
       "      <td>0</td>\n",
       "      <td>...</td>\n",
       "      <td>0</td>\n",
       "      <td>0</td>\n",
       "      <td>0</td>\n",
       "      <td>0</td>\n",
       "      <td>0</td>\n",
       "      <td>0</td>\n",
       "      <td>0</td>\n",
       "      <td>0</td>\n",
       "      <td>0</td>\n",
       "      <td>0</td>\n",
       "    </tr>\n",
       "    <tr>\n",
       "      <th>11090</th>\n",
       "      <td>0</td>\n",
       "      <td>0</td>\n",
       "      <td>0</td>\n",
       "      <td>0</td>\n",
       "      <td>0</td>\n",
       "      <td>0</td>\n",
       "      <td>0</td>\n",
       "      <td>0</td>\n",
       "      <td>0</td>\n",
       "      <td>0</td>\n",
       "      <td>...</td>\n",
       "      <td>0</td>\n",
       "      <td>0</td>\n",
       "      <td>0</td>\n",
       "      <td>0</td>\n",
       "      <td>1</td>\n",
       "      <td>0</td>\n",
       "      <td>0</td>\n",
       "      <td>0</td>\n",
       "      <td>0</td>\n",
       "      <td>0</td>\n",
       "    </tr>\n",
       "    <tr>\n",
       "      <th>11091</th>\n",
       "      <td>0</td>\n",
       "      <td>0</td>\n",
       "      <td>0</td>\n",
       "      <td>0</td>\n",
       "      <td>0</td>\n",
       "      <td>0</td>\n",
       "      <td>0</td>\n",
       "      <td>0</td>\n",
       "      <td>0</td>\n",
       "      <td>0</td>\n",
       "      <td>...</td>\n",
       "      <td>0</td>\n",
       "      <td>0</td>\n",
       "      <td>0</td>\n",
       "      <td>0</td>\n",
       "      <td>0</td>\n",
       "      <td>0</td>\n",
       "      <td>0</td>\n",
       "      <td>0</td>\n",
       "      <td>0</td>\n",
       "      <td>0</td>\n",
       "    </tr>\n",
       "    <tr>\n",
       "      <th>11092</th>\n",
       "      <td>0</td>\n",
       "      <td>0</td>\n",
       "      <td>0</td>\n",
       "      <td>0</td>\n",
       "      <td>0</td>\n",
       "      <td>0</td>\n",
       "      <td>0</td>\n",
       "      <td>0</td>\n",
       "      <td>0</td>\n",
       "      <td>0</td>\n",
       "      <td>...</td>\n",
       "      <td>0</td>\n",
       "      <td>0</td>\n",
       "      <td>0</td>\n",
       "      <td>0</td>\n",
       "      <td>0</td>\n",
       "      <td>1</td>\n",
       "      <td>0</td>\n",
       "      <td>0</td>\n",
       "      <td>0</td>\n",
       "      <td>0</td>\n",
       "    </tr>\n",
       "    <tr>\n",
       "      <th>11093</th>\n",
       "      <td>0</td>\n",
       "      <td>0</td>\n",
       "      <td>0</td>\n",
       "      <td>0</td>\n",
       "      <td>0</td>\n",
       "      <td>0</td>\n",
       "      <td>0</td>\n",
       "      <td>0</td>\n",
       "      <td>0</td>\n",
       "      <td>0</td>\n",
       "      <td>...</td>\n",
       "      <td>0</td>\n",
       "      <td>0</td>\n",
       "      <td>0</td>\n",
       "      <td>0</td>\n",
       "      <td>0</td>\n",
       "      <td>0</td>\n",
       "      <td>1</td>\n",
       "      <td>0</td>\n",
       "      <td>0</td>\n",
       "      <td>0</td>\n",
       "    </tr>\n",
       "  </tbody>\n",
       "</table>\n",
       "<p>11094 rows × 35 columns</p>\n",
       "</div>"
      ],
      "text/plain": [
       "       BTM Layout 1, Electronic City  Babarpur, New Delhi, Delhi  \\\n",
       "0                                  0                           0   \n",
       "1                                  0                           0   \n",
       "2                                  0                           0   \n",
       "3                                  0                           0   \n",
       "4                                  0                           0   \n",
       "...                              ...                         ...   \n",
       "11089                              1                           0   \n",
       "11090                              0                           0   \n",
       "11091                              0                           0   \n",
       "11092                              0                           0   \n",
       "11093                              0                           0   \n",
       "\n",
       "       Chandni Chowk, Kolkata  Chatta Bazaar, Malakpet, Hyderabad  \\\n",
       "0                           0                                   0   \n",
       "1                           0                                   0   \n",
       "2                           0                                   0   \n",
       "3                           0                                   0   \n",
       "4                           0                                   0   \n",
       "...                       ...                                 ...   \n",
       "11089                       0                                   0   \n",
       "11090                       0                                   0   \n",
       "11091                       0                                   0   \n",
       "11092                       0                                   0   \n",
       "11093                       0                                   0   \n",
       "\n",
       "       DBlock, Sector 63, Noida  Delhi Administration Flats, Timarpur  \\\n",
       "0                             0                                     0   \n",
       "1                             0                                     0   \n",
       "2                             0                                     0   \n",
       "3                             0                                     0   \n",
       "4                             0                                     0   \n",
       "...                         ...                                   ...   \n",
       "11089                         0                                     0   \n",
       "11090                         0                                     0   \n",
       "11091                         0                                     0   \n",
       "11092                         0                                     0   \n",
       "11093                         0                                     0   \n",
       "\n",
       "       Delhi Cantt.  Delhi High Court, India Gate  Delhi UniversityGTB Nagar  \\\n",
       "0                 0                             0                          0   \n",
       "1                 0                             0                          0   \n",
       "2                 0                             0                          0   \n",
       "3                 0                             0                          0   \n",
       "4                 0                             0                          0   \n",
       "...             ...                           ...                        ...   \n",
       "11089             0                             0                          0   \n",
       "11090             0                             0                          0   \n",
       "11091             0                             0                          0   \n",
       "11092             0                             0                          0   \n",
       "11093             0                             0                          0   \n",
       "\n",
       "       Dockyard Road, Mumbai CST Area  ...  Raja Bazar, Kolkata  \\\n",
       "0                                   0  ...                    0   \n",
       "1                                   0  ...                    0   \n",
       "2                                   0  ...                    0   \n",
       "3                                   0  ...                    0   \n",
       "4                                   0  ...                    0   \n",
       "...                               ...  ...                  ...   \n",
       "11089                               0  ...                    0   \n",
       "11090                               0  ...                    0   \n",
       "11091                               0  ...                    0   \n",
       "11092                               0  ...                    0   \n",
       "11093                               0  ...                    0   \n",
       "\n",
       "       Rmz Centennial, I Gate, Whitefield  Sandhurst Road, Mumbai CST Area  \\\n",
       "0                                       0                                0   \n",
       "1                                       0                                0   \n",
       "2                                       0                                0   \n",
       "3                                       0                                0   \n",
       "4                                       1                                0   \n",
       "...                                   ...                              ...   \n",
       "11089                                   0                                0   \n",
       "11090                                   0                                0   \n",
       "11091                                   0                                0   \n",
       "11092                                   0                                0   \n",
       "11093                                   0                                0   \n",
       "\n",
       "       Sector 1, Noida  Sector 14, Noida  Sector 3, Marathalli  \\\n",
       "0                    0                 0                     0   \n",
       "1                    0                 0                     1   \n",
       "2                    0                 0                     0   \n",
       "3                    1                 0                     0   \n",
       "4                    0                 0                     0   \n",
       "...                ...               ...                   ...   \n",
       "11089                0                 0                     0   \n",
       "11090                0                 1                     0   \n",
       "11091                0                 0                     0   \n",
       "11092                0                 0                     1   \n",
       "11093                0                 0                     0   \n",
       "\n",
       "       Sector 63A,Gurgaon  Tejas Nagar Colony, Wadala West, Mumbai  \\\n",
       "0                       0                                        0   \n",
       "1                       0                                        0   \n",
       "2                       0                                        0   \n",
       "3                       0                                        0   \n",
       "4                       0                                        0   \n",
       "...                   ...                                      ...   \n",
       "11089                   0                                        0   \n",
       "11090                   0                                        0   \n",
       "11091                   0                                        0   \n",
       "11092                   0                                        0   \n",
       "11093                   1                                        0   \n",
       "\n",
       "       Tiretti, Kolkata  Yerawada, Pune, Maharashtra  \n",
       "0                     0                            0  \n",
       "1                     0                            0  \n",
       "2                     0                            0  \n",
       "3                     0                            0  \n",
       "4                     0                            0  \n",
       "...                 ...                          ...  \n",
       "11089                 0                            0  \n",
       "11090                 0                            0  \n",
       "11091                 0                            0  \n",
       "11092                 0                            0  \n",
       "11093                 0                            0  \n",
       "\n",
       "[11094 rows x 35 columns]"
      ]
     },
     "execution_count": 35,
     "metadata": {},
     "output_type": "execute_result"
    }
   ],
   "source": [
    "dummied = pd.get_dummies(food['Location'])\n",
    "dummied"
   ]
  },
  {
   "cell_type": "code",
   "execution_count": 36,
   "metadata": {},
   "outputs": [
    {
     "data": {
      "text/html": [
       "<div>\n",
       "<style scoped>\n",
       "    .dataframe tbody tr th:only-of-type {\n",
       "        vertical-align: middle;\n",
       "    }\n",
       "\n",
       "    .dataframe tbody tr th {\n",
       "        vertical-align: top;\n",
       "    }\n",
       "\n",
       "    .dataframe thead th {\n",
       "        text-align: right;\n",
       "    }\n",
       "</style>\n",
       "<table border=\"1\" class=\"dataframe\">\n",
       "  <thead>\n",
       "    <tr style=\"text-align: right;\">\n",
       "      <th></th>\n",
       "      <th>BTM Layout 1, Electronic City</th>\n",
       "      <th>Babarpur, New Delhi, Delhi</th>\n",
       "      <th>Chandni Chowk, Kolkata</th>\n",
       "      <th>Chatta Bazaar, Malakpet, Hyderabad</th>\n",
       "      <th>DBlock, Sector 63, Noida</th>\n",
       "      <th>Delhi Administration Flats, Timarpur</th>\n",
       "      <th>Delhi Cantt.</th>\n",
       "      <th>Delhi High Court, India Gate</th>\n",
       "      <th>Delhi UniversityGTB Nagar</th>\n",
       "      <th>Dockyard Road, Mumbai CST Area</th>\n",
       "      <th>...</th>\n",
       "      <th>Raja Bazar, Kolkata</th>\n",
       "      <th>Rmz Centennial, I Gate, Whitefield</th>\n",
       "      <th>Sandhurst Road, Mumbai CST Area</th>\n",
       "      <th>Sector 1, Noida</th>\n",
       "      <th>Sector 14, Noida</th>\n",
       "      <th>Sector 3, Marathalli</th>\n",
       "      <th>Sector 63A,Gurgaon</th>\n",
       "      <th>Tejas Nagar Colony, Wadala West, Mumbai</th>\n",
       "      <th>Tiretti, Kolkata</th>\n",
       "      <th>Yerawada, Pune, Maharashtra</th>\n",
       "    </tr>\n",
       "  </thead>\n",
       "  <tbody>\n",
       "    <tr>\n",
       "      <th>0</th>\n",
       "      <td>0</td>\n",
       "      <td>0</td>\n",
       "      <td>0</td>\n",
       "      <td>0</td>\n",
       "      <td>0</td>\n",
       "      <td>0</td>\n",
       "      <td>0</td>\n",
       "      <td>0</td>\n",
       "      <td>0</td>\n",
       "      <td>0</td>\n",
       "      <td>...</td>\n",
       "      <td>0</td>\n",
       "      <td>0</td>\n",
       "      <td>0</td>\n",
       "      <td>0</td>\n",
       "      <td>0</td>\n",
       "      <td>0</td>\n",
       "      <td>0</td>\n",
       "      <td>0</td>\n",
       "      <td>0</td>\n",
       "      <td>0</td>\n",
       "    </tr>\n",
       "    <tr>\n",
       "      <th>1</th>\n",
       "      <td>0</td>\n",
       "      <td>0</td>\n",
       "      <td>0</td>\n",
       "      <td>0</td>\n",
       "      <td>0</td>\n",
       "      <td>0</td>\n",
       "      <td>0</td>\n",
       "      <td>0</td>\n",
       "      <td>0</td>\n",
       "      <td>0</td>\n",
       "      <td>...</td>\n",
       "      <td>0</td>\n",
       "      <td>0</td>\n",
       "      <td>0</td>\n",
       "      <td>0</td>\n",
       "      <td>0</td>\n",
       "      <td>1</td>\n",
       "      <td>0</td>\n",
       "      <td>0</td>\n",
       "      <td>0</td>\n",
       "      <td>0</td>\n",
       "    </tr>\n",
       "    <tr>\n",
       "      <th>2</th>\n",
       "      <td>0</td>\n",
       "      <td>0</td>\n",
       "      <td>0</td>\n",
       "      <td>0</td>\n",
       "      <td>0</td>\n",
       "      <td>0</td>\n",
       "      <td>0</td>\n",
       "      <td>0</td>\n",
       "      <td>0</td>\n",
       "      <td>0</td>\n",
       "      <td>...</td>\n",
       "      <td>0</td>\n",
       "      <td>0</td>\n",
       "      <td>0</td>\n",
       "      <td>0</td>\n",
       "      <td>0</td>\n",
       "      <td>0</td>\n",
       "      <td>0</td>\n",
       "      <td>0</td>\n",
       "      <td>0</td>\n",
       "      <td>0</td>\n",
       "    </tr>\n",
       "    <tr>\n",
       "      <th>3</th>\n",
       "      <td>0</td>\n",
       "      <td>0</td>\n",
       "      <td>0</td>\n",
       "      <td>0</td>\n",
       "      <td>0</td>\n",
       "      <td>0</td>\n",
       "      <td>0</td>\n",
       "      <td>0</td>\n",
       "      <td>0</td>\n",
       "      <td>0</td>\n",
       "      <td>...</td>\n",
       "      <td>0</td>\n",
       "      <td>0</td>\n",
       "      <td>0</td>\n",
       "      <td>1</td>\n",
       "      <td>0</td>\n",
       "      <td>0</td>\n",
       "      <td>0</td>\n",
       "      <td>0</td>\n",
       "      <td>0</td>\n",
       "      <td>0</td>\n",
       "    </tr>\n",
       "    <tr>\n",
       "      <th>4</th>\n",
       "      <td>0</td>\n",
       "      <td>0</td>\n",
       "      <td>0</td>\n",
       "      <td>0</td>\n",
       "      <td>0</td>\n",
       "      <td>0</td>\n",
       "      <td>0</td>\n",
       "      <td>0</td>\n",
       "      <td>0</td>\n",
       "      <td>0</td>\n",
       "      <td>...</td>\n",
       "      <td>0</td>\n",
       "      <td>1</td>\n",
       "      <td>0</td>\n",
       "      <td>0</td>\n",
       "      <td>0</td>\n",
       "      <td>0</td>\n",
       "      <td>0</td>\n",
       "      <td>0</td>\n",
       "      <td>0</td>\n",
       "      <td>0</td>\n",
       "    </tr>\n",
       "    <tr>\n",
       "      <th>...</th>\n",
       "      <td>...</td>\n",
       "      <td>...</td>\n",
       "      <td>...</td>\n",
       "      <td>...</td>\n",
       "      <td>...</td>\n",
       "      <td>...</td>\n",
       "      <td>...</td>\n",
       "      <td>...</td>\n",
       "      <td>...</td>\n",
       "      <td>...</td>\n",
       "      <td>...</td>\n",
       "      <td>...</td>\n",
       "      <td>...</td>\n",
       "      <td>...</td>\n",
       "      <td>...</td>\n",
       "      <td>...</td>\n",
       "      <td>...</td>\n",
       "      <td>...</td>\n",
       "      <td>...</td>\n",
       "      <td>...</td>\n",
       "      <td>...</td>\n",
       "    </tr>\n",
       "    <tr>\n",
       "      <th>11089</th>\n",
       "      <td>1</td>\n",
       "      <td>0</td>\n",
       "      <td>0</td>\n",
       "      <td>0</td>\n",
       "      <td>0</td>\n",
       "      <td>0</td>\n",
       "      <td>0</td>\n",
       "      <td>0</td>\n",
       "      <td>0</td>\n",
       "      <td>0</td>\n",
       "      <td>...</td>\n",
       "      <td>0</td>\n",
       "      <td>0</td>\n",
       "      <td>0</td>\n",
       "      <td>0</td>\n",
       "      <td>0</td>\n",
       "      <td>0</td>\n",
       "      <td>0</td>\n",
       "      <td>0</td>\n",
       "      <td>0</td>\n",
       "      <td>0</td>\n",
       "    </tr>\n",
       "    <tr>\n",
       "      <th>11090</th>\n",
       "      <td>0</td>\n",
       "      <td>0</td>\n",
       "      <td>0</td>\n",
       "      <td>0</td>\n",
       "      <td>0</td>\n",
       "      <td>0</td>\n",
       "      <td>0</td>\n",
       "      <td>0</td>\n",
       "      <td>0</td>\n",
       "      <td>0</td>\n",
       "      <td>...</td>\n",
       "      <td>0</td>\n",
       "      <td>0</td>\n",
       "      <td>0</td>\n",
       "      <td>0</td>\n",
       "      <td>1</td>\n",
       "      <td>0</td>\n",
       "      <td>0</td>\n",
       "      <td>0</td>\n",
       "      <td>0</td>\n",
       "      <td>0</td>\n",
       "    </tr>\n",
       "    <tr>\n",
       "      <th>11091</th>\n",
       "      <td>0</td>\n",
       "      <td>0</td>\n",
       "      <td>0</td>\n",
       "      <td>0</td>\n",
       "      <td>0</td>\n",
       "      <td>0</td>\n",
       "      <td>0</td>\n",
       "      <td>0</td>\n",
       "      <td>0</td>\n",
       "      <td>0</td>\n",
       "      <td>...</td>\n",
       "      <td>0</td>\n",
       "      <td>0</td>\n",
       "      <td>0</td>\n",
       "      <td>0</td>\n",
       "      <td>0</td>\n",
       "      <td>0</td>\n",
       "      <td>0</td>\n",
       "      <td>0</td>\n",
       "      <td>0</td>\n",
       "      <td>0</td>\n",
       "    </tr>\n",
       "    <tr>\n",
       "      <th>11092</th>\n",
       "      <td>0</td>\n",
       "      <td>0</td>\n",
       "      <td>0</td>\n",
       "      <td>0</td>\n",
       "      <td>0</td>\n",
       "      <td>0</td>\n",
       "      <td>0</td>\n",
       "      <td>0</td>\n",
       "      <td>0</td>\n",
       "      <td>0</td>\n",
       "      <td>...</td>\n",
       "      <td>0</td>\n",
       "      <td>0</td>\n",
       "      <td>0</td>\n",
       "      <td>0</td>\n",
       "      <td>0</td>\n",
       "      <td>1</td>\n",
       "      <td>0</td>\n",
       "      <td>0</td>\n",
       "      <td>0</td>\n",
       "      <td>0</td>\n",
       "    </tr>\n",
       "    <tr>\n",
       "      <th>11093</th>\n",
       "      <td>0</td>\n",
       "      <td>0</td>\n",
       "      <td>0</td>\n",
       "      <td>0</td>\n",
       "      <td>0</td>\n",
       "      <td>0</td>\n",
       "      <td>0</td>\n",
       "      <td>0</td>\n",
       "      <td>0</td>\n",
       "      <td>0</td>\n",
       "      <td>...</td>\n",
       "      <td>0</td>\n",
       "      <td>0</td>\n",
       "      <td>0</td>\n",
       "      <td>0</td>\n",
       "      <td>0</td>\n",
       "      <td>0</td>\n",
       "      <td>1</td>\n",
       "      <td>0</td>\n",
       "      <td>0</td>\n",
       "      <td>0</td>\n",
       "    </tr>\n",
       "  </tbody>\n",
       "</table>\n",
       "<p>11094 rows × 35 columns</p>\n",
       "</div>"
      ],
      "text/plain": [
       "       BTM Layout 1, Electronic City  Babarpur, New Delhi, Delhi  \\\n",
       "0                                  0                           0   \n",
       "1                                  0                           0   \n",
       "2                                  0                           0   \n",
       "3                                  0                           0   \n",
       "4                                  0                           0   \n",
       "...                              ...                         ...   \n",
       "11089                              1                           0   \n",
       "11090                              0                           0   \n",
       "11091                              0                           0   \n",
       "11092                              0                           0   \n",
       "11093                              0                           0   \n",
       "\n",
       "       Chandni Chowk, Kolkata  Chatta Bazaar, Malakpet, Hyderabad  \\\n",
       "0                           0                                   0   \n",
       "1                           0                                   0   \n",
       "2                           0                                   0   \n",
       "3                           0                                   0   \n",
       "4                           0                                   0   \n",
       "...                       ...                                 ...   \n",
       "11089                       0                                   0   \n",
       "11090                       0                                   0   \n",
       "11091                       0                                   0   \n",
       "11092                       0                                   0   \n",
       "11093                       0                                   0   \n",
       "\n",
       "       DBlock, Sector 63, Noida  Delhi Administration Flats, Timarpur  \\\n",
       "0                             0                                     0   \n",
       "1                             0                                     0   \n",
       "2                             0                                     0   \n",
       "3                             0                                     0   \n",
       "4                             0                                     0   \n",
       "...                         ...                                   ...   \n",
       "11089                         0                                     0   \n",
       "11090                         0                                     0   \n",
       "11091                         0                                     0   \n",
       "11092                         0                                     0   \n",
       "11093                         0                                     0   \n",
       "\n",
       "       Delhi Cantt.  Delhi High Court, India Gate  Delhi UniversityGTB Nagar  \\\n",
       "0                 0                             0                          0   \n",
       "1                 0                             0                          0   \n",
       "2                 0                             0                          0   \n",
       "3                 0                             0                          0   \n",
       "4                 0                             0                          0   \n",
       "...             ...                           ...                        ...   \n",
       "11089             0                             0                          0   \n",
       "11090             0                             0                          0   \n",
       "11091             0                             0                          0   \n",
       "11092             0                             0                          0   \n",
       "11093             0                             0                          0   \n",
       "\n",
       "       Dockyard Road, Mumbai CST Area  ...  Raja Bazar, Kolkata  \\\n",
       "0                                   0  ...                    0   \n",
       "1                                   0  ...                    0   \n",
       "2                                   0  ...                    0   \n",
       "3                                   0  ...                    0   \n",
       "4                                   0  ...                    0   \n",
       "...                               ...  ...                  ...   \n",
       "11089                               0  ...                    0   \n",
       "11090                               0  ...                    0   \n",
       "11091                               0  ...                    0   \n",
       "11092                               0  ...                    0   \n",
       "11093                               0  ...                    0   \n",
       "\n",
       "       Rmz Centennial, I Gate, Whitefield  Sandhurst Road, Mumbai CST Area  \\\n",
       "0                                       0                                0   \n",
       "1                                       0                                0   \n",
       "2                                       0                                0   \n",
       "3                                       0                                0   \n",
       "4                                       1                                0   \n",
       "...                                   ...                              ...   \n",
       "11089                                   0                                0   \n",
       "11090                                   0                                0   \n",
       "11091                                   0                                0   \n",
       "11092                                   0                                0   \n",
       "11093                                   0                                0   \n",
       "\n",
       "       Sector 1, Noida  Sector 14, Noida  Sector 3, Marathalli  \\\n",
       "0                    0                 0                     0   \n",
       "1                    0                 0                     1   \n",
       "2                    0                 0                     0   \n",
       "3                    1                 0                     0   \n",
       "4                    0                 0                     0   \n",
       "...                ...               ...                   ...   \n",
       "11089                0                 0                     0   \n",
       "11090                0                 1                     0   \n",
       "11091                0                 0                     0   \n",
       "11092                0                 0                     1   \n",
       "11093                0                 0                     0   \n",
       "\n",
       "       Sector 63A,Gurgaon  Tejas Nagar Colony, Wadala West, Mumbai  \\\n",
       "0                       0                                        0   \n",
       "1                       0                                        0   \n",
       "2                       0                                        0   \n",
       "3                       0                                        0   \n",
       "4                       0                                        0   \n",
       "...                   ...                                      ...   \n",
       "11089                   0                                        0   \n",
       "11090                   0                                        0   \n",
       "11091                   0                                        0   \n",
       "11092                   0                                        0   \n",
       "11093                   1                                        0   \n",
       "\n",
       "       Tiretti, Kolkata  Yerawada, Pune, Maharashtra  \n",
       "0                     0                            0  \n",
       "1                     0                            0  \n",
       "2                     0                            0  \n",
       "3                     0                            0  \n",
       "4                     0                            0  \n",
       "...                 ...                          ...  \n",
       "11089                 0                            0  \n",
       "11090                 0                            0  \n",
       "11091                 0                            0  \n",
       "11092                 0                            0  \n",
       "11093                 0                            0  \n",
       "\n",
       "[11094 rows x 35 columns]"
      ]
     },
     "execution_count": 36,
     "metadata": {},
     "output_type": "execute_result"
    }
   ],
   "source": [
    "loc_df = pd.DataFrame(dummied)\n",
    "loc_df"
   ]
  },
  {
   "cell_type": "code",
   "execution_count": 37,
   "metadata": {},
   "outputs": [
    {
     "data": {
      "text/plain": [
       "\"\\nfrom sklearn.preprocessing import MultiLabelBinarizer\\n\\nfood['Cuisines']\\n\\nmb_cuisines = MultiLabelBinarizer()\\n\\nc_values = [_c.split(', ') for _c in food.Cuisines.values]\\nc_values\\n\\ny_df = mb_cuisines.fit_transform(c_values)\\n\\ny_df = pd.DataFrame(y_df)\\ny_df.head()\\n\""
      ]
     },
     "execution_count": 37,
     "metadata": {},
     "output_type": "execute_result"
    }
   ],
   "source": [
    "'''\n",
    "from sklearn.preprocessing import MultiLabelBinarizer\n",
    "\n",
    "food['Cuisines']\n",
    "\n",
    "mb_cuisines = MultiLabelBinarizer()\n",
    "\n",
    "c_values = [_c.split(', ') for _c in food.Cuisines.values]\n",
    "c_values\n",
    "\n",
    "y_df = mb_cuisines.fit_transform(c_values)\n",
    "\n",
    "y_df = pd.DataFrame(y_df)\n",
    "y_df.head()\n",
    "'''"
   ]
  },
  {
   "cell_type": "markdown",
   "metadata": {},
   "source": [
    "### 3-3. 결측치 처리"
   ]
  },
  {
   "cell_type": "markdown",
   "metadata": {},
   "source": [
    "1. 연속형 변수들의 결측치 처리"
   ]
  },
  {
   "cell_type": "code",
   "execution_count": 38,
   "metadata": {
    "scrolled": true
   },
   "outputs": [
    {
     "data": {
      "text/plain": [
       "Restaurant         0\n",
       "Location           0\n",
       "Cuisines           0\n",
       "AverageCost        0\n",
       "MinimumOrder       0\n",
       "Rating          1963\n",
       "Votes           2074\n",
       "Reviews         2312\n",
       "DeliveryTime       0\n",
       "dtype: int64"
      ]
     },
     "execution_count": 38,
     "metadata": {},
     "output_type": "execute_result"
    }
   ],
   "source": [
    "food.isnull().sum()"
   ]
  },
  {
   "cell_type": "markdown",
   "metadata": {},
   "source": [
    "결측치가 상당히 많아서 버리긴 아깝다.\n",
    "\n",
    "1. mean\n",
    "2. median\n",
    "3. mode\n",
    "4. 특징에 따라 가까운 값 넣기\n",
    "\n",
    "\n",
    "-> 일단은 median 값으로 결측치 처리해보기\n"
   ]
  },
  {
   "cell_type": "code",
   "execution_count": 39,
   "metadata": {},
   "outputs": [],
   "source": [
    "def fillnawithmedian(data, var):\n",
    "    data[f\"{var}_filled\"] = data[var].fillna(data[var].median())\n",
    "    return data[f\"{var}_filled\"]"
   ]
  },
  {
   "cell_type": "code",
   "execution_count": 40,
   "metadata": {},
   "outputs": [
    {
     "data": {
      "text/plain": [
       "0          4.0\n",
       "1          4.0\n",
       "2         30.0\n",
       "3         95.0\n",
       "4        235.0\n",
       "         ...  \n",
       "11089    189.0\n",
       "11090     16.0\n",
       "11091     18.0\n",
       "11092      9.0\n",
       "11093     26.0\n",
       "Name: Reviews_filled, Length: 11094, dtype: float64"
      ]
     },
     "execution_count": 40,
     "metadata": {},
     "output_type": "execute_result"
    }
   ],
   "source": [
    "fillnawithmedian(food, 'Rating')\n",
    "fillnawithmedian(food, 'Votes')\n",
    "fillnawithmedian(food, 'Reviews')"
   ]
  },
  {
   "cell_type": "code",
   "execution_count": 41,
   "metadata": {},
   "outputs": [
    {
     "data": {
      "text/plain": [
       "Restaurant           0\n",
       "Location             0\n",
       "Cuisines             0\n",
       "AverageCost          0\n",
       "MinimumOrder         0\n",
       "Rating            1963\n",
       "Votes             2074\n",
       "Reviews           2312\n",
       "DeliveryTime         0\n",
       "Rating_filled        0\n",
       "Votes_filled         0\n",
       "Reviews_filled       0\n",
       "dtype: int64"
      ]
     },
     "execution_count": 41,
     "metadata": {},
     "output_type": "execute_result"
    }
   ],
   "source": [
    "food.isnull().sum()"
   ]
  },
  {
   "cell_type": "markdown",
   "metadata": {},
   "source": [
    "Restaurant 변수는 모두 고유값이라면, 그냥 index로 보고 탈락시킬 텐데, restaurant이 중복 등장한 경우도 있습니다. 고유값이 7000개가 넘다보니 역시 label encoding을 하도록 하겠습니다."
   ]
  },
  {
   "cell_type": "code",
   "execution_count": 42,
   "metadata": {},
   "outputs": [],
   "source": [
    "unique_restaurant = list(set(list(food['Restaurant'])))"
   ]
  },
  {
   "cell_type": "code",
   "execution_count": 43,
   "metadata": {},
   "outputs": [
    {
     "data": {
      "text/plain": [
       "7480"
      ]
     },
     "execution_count": 43,
     "metadata": {},
     "output_type": "execute_result"
    }
   ],
   "source": [
    "len(unique_restaurant)"
   ]
  },
  {
   "cell_type": "markdown",
   "metadata": {},
   "source": [
    "이제 모델링할 정제된 fianl dataframe을 만들기 위해 기존 df를 copy해서 작업하겠습니다."
   ]
  },
  {
   "cell_type": "code",
   "execution_count": 44,
   "metadata": {},
   "outputs": [],
   "source": [
    "final = food.copy()"
   ]
  },
  {
   "cell_type": "code",
   "execution_count": 45,
   "metadata": {},
   "outputs": [],
   "source": [
    "from sklearn.preprocessing import LabelEncoder"
   ]
  },
  {
   "cell_type": "code",
   "execution_count": 46,
   "metadata": {},
   "outputs": [],
   "source": [
    "le_restaurant = LabelEncoder().fit(unique_restaurant)\n",
    "final['Restaurant'] = le_restaurant.transform(final['Restaurant'])"
   ]
  },
  {
   "cell_type": "code",
   "execution_count": 47,
   "metadata": {
    "scrolled": true
   },
   "outputs": [
    {
     "data": {
      "text/html": [
       "<div>\n",
       "<style scoped>\n",
       "    .dataframe tbody tr th:only-of-type {\n",
       "        vertical-align: middle;\n",
       "    }\n",
       "\n",
       "    .dataframe tbody tr th {\n",
       "        vertical-align: top;\n",
       "    }\n",
       "\n",
       "    .dataframe thead th {\n",
       "        text-align: right;\n",
       "    }\n",
       "</style>\n",
       "<table border=\"1\" class=\"dataframe\">\n",
       "  <thead>\n",
       "    <tr style=\"text-align: right;\">\n",
       "      <th></th>\n",
       "      <th>Restaurant</th>\n",
       "      <th>Location</th>\n",
       "      <th>Cuisines</th>\n",
       "      <th>AverageCost</th>\n",
       "      <th>MinimumOrder</th>\n",
       "      <th>Rating</th>\n",
       "      <th>Votes</th>\n",
       "      <th>Reviews</th>\n",
       "      <th>DeliveryTime</th>\n",
       "      <th>Rating_filled</th>\n",
       "      <th>Votes_filled</th>\n",
       "      <th>Reviews_filled</th>\n",
       "    </tr>\n",
       "  </thead>\n",
       "  <tbody>\n",
       "    <tr>\n",
       "      <th>0</th>\n",
       "      <td>5086</td>\n",
       "      <td>FTI College, Law College Road, Pune</td>\n",
       "      <td>fast food, rolls, burger, salad, wraps</td>\n",
       "      <td>200</td>\n",
       "      <td>50</td>\n",
       "      <td>3.5</td>\n",
       "      <td>12.0</td>\n",
       "      <td>4.0</td>\n",
       "      <td>30</td>\n",
       "      <td>3.5</td>\n",
       "      <td>12.0</td>\n",
       "      <td>4.0</td>\n",
       "    </tr>\n",
       "    <tr>\n",
       "      <th>1</th>\n",
       "      <td>1785</td>\n",
       "      <td>Sector 3, Marathalli</td>\n",
       "      <td>ice cream, desserts</td>\n",
       "      <td>100</td>\n",
       "      <td>50</td>\n",
       "      <td>3.5</td>\n",
       "      <td>11.0</td>\n",
       "      <td>4.0</td>\n",
       "      <td>30</td>\n",
       "      <td>3.5</td>\n",
       "      <td>11.0</td>\n",
       "      <td>4.0</td>\n",
       "    </tr>\n",
       "    <tr>\n",
       "      <th>2</th>\n",
       "      <td>571</td>\n",
       "      <td>Mumbai Central</td>\n",
       "      <td>italian, street food, fast food</td>\n",
       "      <td>150</td>\n",
       "      <td>50</td>\n",
       "      <td>3.6</td>\n",
       "      <td>99.0</td>\n",
       "      <td>30.0</td>\n",
       "      <td>65</td>\n",
       "      <td>3.6</td>\n",
       "      <td>99.0</td>\n",
       "      <td>30.0</td>\n",
       "    </tr>\n",
       "    <tr>\n",
       "      <th>3</th>\n",
       "      <td>4708</td>\n",
       "      <td>Sector 1, Noida</td>\n",
       "      <td>mughlai, north indian, chinese</td>\n",
       "      <td>250</td>\n",
       "      <td>99</td>\n",
       "      <td>3.7</td>\n",
       "      <td>176.0</td>\n",
       "      <td>95.0</td>\n",
       "      <td>30</td>\n",
       "      <td>3.7</td>\n",
       "      <td>176.0</td>\n",
       "      <td>95.0</td>\n",
       "    </tr>\n",
       "    <tr>\n",
       "      <th>4</th>\n",
       "      <td>4896</td>\n",
       "      <td>Rmz Centennial, I Gate, Whitefield</td>\n",
       "      <td>cafe, beverages</td>\n",
       "      <td>200</td>\n",
       "      <td>99</td>\n",
       "      <td>3.2</td>\n",
       "      <td>521.0</td>\n",
       "      <td>235.0</td>\n",
       "      <td>65</td>\n",
       "      <td>3.2</td>\n",
       "      <td>521.0</td>\n",
       "      <td>235.0</td>\n",
       "    </tr>\n",
       "    <tr>\n",
       "      <th>...</th>\n",
       "      <td>...</td>\n",
       "      <td>...</td>\n",
       "      <td>...</td>\n",
       "      <td>...</td>\n",
       "      <td>...</td>\n",
       "      <td>...</td>\n",
       "      <td>...</td>\n",
       "      <td>...</td>\n",
       "      <td>...</td>\n",
       "      <td>...</td>\n",
       "      <td>...</td>\n",
       "      <td>...</td>\n",
       "    </tr>\n",
       "    <tr>\n",
       "      <th>11089</th>\n",
       "      <td>6772</td>\n",
       "      <td>BTM Layout 1, Electronic City</td>\n",
       "      <td>tibetan, chinese, continental, momos</td>\n",
       "      <td>250</td>\n",
       "      <td>50</td>\n",
       "      <td>4.2</td>\n",
       "      <td>326.0</td>\n",
       "      <td>189.0</td>\n",
       "      <td>30</td>\n",
       "      <td>4.2</td>\n",
       "      <td>326.0</td>\n",
       "      <td>189.0</td>\n",
       "    </tr>\n",
       "    <tr>\n",
       "      <th>11090</th>\n",
       "      <td>3461</td>\n",
       "      <td>Sector 14, Noida</td>\n",
       "      <td>fast food</td>\n",
       "      <td>100</td>\n",
       "      <td>50</td>\n",
       "      <td>3.6</td>\n",
       "      <td>36.0</td>\n",
       "      <td>16.0</td>\n",
       "      <td>30</td>\n",
       "      <td>3.6</td>\n",
       "      <td>36.0</td>\n",
       "      <td>16.0</td>\n",
       "    </tr>\n",
       "    <tr>\n",
       "      <th>11091</th>\n",
       "      <td>2273</td>\n",
       "      <td>Majestic</td>\n",
       "      <td>south indian, chinese, north indian</td>\n",
       "      <td>100</td>\n",
       "      <td>50</td>\n",
       "      <td>3.5</td>\n",
       "      <td>45.0</td>\n",
       "      <td>18.0</td>\n",
       "      <td>30</td>\n",
       "      <td>3.5</td>\n",
       "      <td>45.0</td>\n",
       "      <td>18.0</td>\n",
       "    </tr>\n",
       "    <tr>\n",
       "      <th>11092</th>\n",
       "      <td>2970</td>\n",
       "      <td>Sector 3, Marathalli</td>\n",
       "      <td>north indian</td>\n",
       "      <td>100</td>\n",
       "      <td>50</td>\n",
       "      <td>3.1</td>\n",
       "      <td>24.0</td>\n",
       "      <td>9.0</td>\n",
       "      <td>30</td>\n",
       "      <td>3.1</td>\n",
       "      <td>24.0</td>\n",
       "      <td>9.0</td>\n",
       "    </tr>\n",
       "    <tr>\n",
       "      <th>11093</th>\n",
       "      <td>3265</td>\n",
       "      <td>Sector 63A,Gurgaon</td>\n",
       "      <td>north indian</td>\n",
       "      <td>100</td>\n",
       "      <td>50</td>\n",
       "      <td>NaN</td>\n",
       "      <td>NaN</td>\n",
       "      <td>NaN</td>\n",
       "      <td>30</td>\n",
       "      <td>3.6</td>\n",
       "      <td>63.0</td>\n",
       "      <td>26.0</td>\n",
       "    </tr>\n",
       "  </tbody>\n",
       "</table>\n",
       "<p>11094 rows × 12 columns</p>\n",
       "</div>"
      ],
      "text/plain": [
       "       Restaurant                             Location  \\\n",
       "0            5086  FTI College, Law College Road, Pune   \n",
       "1            1785                 Sector 3, Marathalli   \n",
       "2             571                       Mumbai Central   \n",
       "3            4708                      Sector 1, Noida   \n",
       "4            4896   Rmz Centennial, I Gate, Whitefield   \n",
       "...           ...                                  ...   \n",
       "11089        6772        BTM Layout 1, Electronic City   \n",
       "11090        3461                     Sector 14, Noida   \n",
       "11091        2273                             Majestic   \n",
       "11092        2970                 Sector 3, Marathalli   \n",
       "11093        3265                   Sector 63A,Gurgaon   \n",
       "\n",
       "                                     Cuisines  AverageCost  MinimumOrder  \\\n",
       "0      fast food, rolls, burger, salad, wraps          200            50   \n",
       "1                         ice cream, desserts          100            50   \n",
       "2             italian, street food, fast food          150            50   \n",
       "3              mughlai, north indian, chinese          250            99   \n",
       "4                             cafe, beverages          200            99   \n",
       "...                                       ...          ...           ...   \n",
       "11089    tibetan, chinese, continental, momos          250            50   \n",
       "11090                               fast food          100            50   \n",
       "11091     south indian, chinese, north indian          100            50   \n",
       "11092                            north indian          100            50   \n",
       "11093                            north indian          100            50   \n",
       "\n",
       "       Rating  Votes  Reviews  DeliveryTime  Rating_filled  Votes_filled  \\\n",
       "0         3.5   12.0      4.0            30            3.5          12.0   \n",
       "1         3.5   11.0      4.0            30            3.5          11.0   \n",
       "2         3.6   99.0     30.0            65            3.6          99.0   \n",
       "3         3.7  176.0     95.0            30            3.7         176.0   \n",
       "4         3.2  521.0    235.0            65            3.2         521.0   \n",
       "...       ...    ...      ...           ...            ...           ...   \n",
       "11089     4.2  326.0    189.0            30            4.2         326.0   \n",
       "11090     3.6   36.0     16.0            30            3.6          36.0   \n",
       "11091     3.5   45.0     18.0            30            3.5          45.0   \n",
       "11092     3.1   24.0      9.0            30            3.1          24.0   \n",
       "11093     NaN    NaN      NaN            30            3.6          63.0   \n",
       "\n",
       "       Reviews_filled  \n",
       "0                 4.0  \n",
       "1                 4.0  \n",
       "2                30.0  \n",
       "3                95.0  \n",
       "4               235.0  \n",
       "...               ...  \n",
       "11089           189.0  \n",
       "11090            16.0  \n",
       "11091            18.0  \n",
       "11092             9.0  \n",
       "11093            26.0  \n",
       "\n",
       "[11094 rows x 12 columns]"
      ]
     },
     "execution_count": 47,
     "metadata": {},
     "output_type": "execute_result"
    }
   ],
   "source": [
    "final"
   ]
  },
  {
   "cell_type": "code",
   "execution_count": 48,
   "metadata": {},
   "outputs": [],
   "source": [
    "final.drop([\"Location\",\"Cuisines\",'Rating','Votes','Reviews'],axis=1,inplace=True)"
   ]
  },
  {
   "cell_type": "markdown",
   "metadata": {},
   "source": [
    "### 3-4. 데이터 시각화"
   ]
  },
  {
   "cell_type": "code",
   "execution_count": 49,
   "metadata": {},
   "outputs": [
    {
     "data": {
      "image/png": "[encoded data removed]",
      "text/plain": [
       "<Figure size 1260x1260 with 56 Axes>"
      ]
     },
     "metadata": {
      "needs_background": "light"
     },
     "output_type": "display_data"
    }
   ],
   "source": [
    "sns.pairplot(final)\n",
    "plt.show()"
   ]
  },
  {
   "cell_type": "markdown",
   "metadata": {},
   "source": [
    "votes와 review사이에 상관관계가 느껴집니다.\n",
    "그냥 corr_chart으로는 delivery time와 상관관계가 느껴지는 변수는 잘 보이지 않네요."
   ]
  },
  {
   "cell_type": "markdown",
   "metadata": {},
   "source": [
    "### 3-5. 데이터 스케일링\n",
    "\n",
    "연속형 변수들 중 rating 말고는 정규분포 형태가 아니라 왼쪽으로 크게 skew된 분포를 보이고 있습니다. 그리고 값의 단위가 많이 다르기 때문에 이것도 스케일링이 필요해 보입니다."
   ]
  },
  {
   "cell_type": "code",
   "execution_count": 50,
   "metadata": {},
   "outputs": [
    {
     "data": {
      "text/plain": [
       "<AxesSubplot:>"
      ]
     },
     "execution_count": 50,
     "metadata": {},
     "output_type": "execute_result"
    },
    {
     "data": {
      "image/png": "[encoded data removed]",
      "text/plain": [
       "<Figure size 432x288 with 1 Axes>"
      ]
     },
     "metadata": {
      "needs_background": "light"
     },
     "output_type": "display_data"
    }
   ],
   "source": [
    "final[\"Reviews_filled\"].hist()"
   ]
  },
  {
   "cell_type": "code",
   "execution_count": 51,
   "metadata": {},
   "outputs": [],
   "source": [
    "final[\"log_Reviews\"] = final[\"Reviews_filled\"].map(lambda x: np.log(x, where=(x!=0)))"
   ]
  },
  {
   "cell_type": "code",
   "execution_count": 52,
   "metadata": {},
   "outputs": [
    {
     "data": {
      "text/plain": [
       "<AxesSubplot:>"
      ]
     },
     "execution_count": 52,
     "metadata": {},
     "output_type": "execute_result"
    },
    {
     "data": {
      "image/png": "[encoded data removed]",
      "text/plain": [
       "<Figure size 432x288 with 1 Axes>"
      ]
     },
     "metadata": {
      "needs_background": "light"
     },
     "output_type": "display_data"
    }
   ],
   "source": [
    "final[\"log_Reviews\"].hist()"
   ]
  },
  {
   "cell_type": "code",
   "execution_count": 53,
   "metadata": {},
   "outputs": [
    {
     "data": {
      "text/plain": [
       "50     10118\n",
       "99       779\n",
       "0        158\n",
       "200        8\n",
       "199        8\n",
       "299        3\n",
       "350        3\n",
       "59         3\n",
       "90         2\n",
       "450        2\n",
       "300        2\n",
       "79         2\n",
       "89         1\n",
       "250        1\n",
       "400        1\n",
       "240        1\n",
       "500        1\n",
       "150        1\n",
       "Name: MinimumOrder, dtype: int64"
      ]
     },
     "execution_count": 53,
     "metadata": {},
     "output_type": "execute_result"
    }
   ],
   "source": [
    "final['MinimumOrder'].value_counts()"
   ]
  },
  {
   "cell_type": "code",
   "execution_count": 54,
   "metadata": {},
   "outputs": [],
   "source": [
    "final[\"log_MinimumOrder\"] = final[\"MinimumOrder\"].map(lambda x: np.log(x, where=(x!=0)))\n",
    "final[\"log_Votes\"] = final[\"Votes_filled\"].map(lambda x: np.log(x, where=(x!=0)))"
   ]
  },
  {
   "cell_type": "code",
   "execution_count": 55,
   "metadata": {},
   "outputs": [
    {
     "data": {
      "image/png": "[encoded data removed]",
      "text/plain": [
       "<Figure size 432x288 with 2 Axes>"
      ]
     },
     "metadata": {
      "needs_background": "light"
     },
     "output_type": "display_data"
    }
   ],
   "source": [
    "ax1 = plt.subplot(121)\n",
    "final[\"log_MinimumOrder\"].hist()\n",
    "ax2 = plt.subplot(122)\n",
    "final[\"log_Votes\"].hist()\n",
    "plt.tight_layout()\n",
    "plt.show()"
   ]
  },
  {
   "cell_type": "markdown",
   "metadata": {},
   "source": [
    "MinimumOrder는 로그한 그림이 별로 예쁘지 않네요."
   ]
  },
  {
   "cell_type": "code",
   "execution_count": 56,
   "metadata": {},
   "outputs": [],
   "source": [
    "#standard scaler\n",
    "from sklearn.preprocessing import MinMaxScaler\n",
    "mm_scaler = MinMaxScaler()"
   ]
  },
  {
   "cell_type": "code",
   "execution_count": 57,
   "metadata": {},
   "outputs": [],
   "source": [
    "final['mm_log_Reviews'] = mm_scaler.fit_transform(final['log_Reviews'] .values.reshape(-1,1))\n",
    "final['mm_log_MinimumOrder'] = mm_scaler.fit_transform(final['log_MinimumOrder'] .values.reshape(-1,1))\n",
    "final['mm_log_Votes'] = mm_scaler.fit_transform(final['log_Votes'] .values.reshape(-1,1))"
   ]
  },
  {
   "cell_type": "code",
   "execution_count": 58,
   "metadata": {},
   "outputs": [],
   "source": [
    "final['mm_Rating'] = mm_scaler.fit_transform(final['Rating_filled'] .values.reshape(-1,1))\n",
    "final['mm_AverageCost'] = mm_scaler.fit_transform(final['AverageCost'] .values.reshape(-1,1))"
   ]
  },
  {
   "cell_type": "code",
   "execution_count": 59,
   "metadata": {},
   "outputs": [
    {
     "data": {
      "text/html": [
       "<div>\n",
       "<style scoped>\n",
       "    .dataframe tbody tr th:only-of-type {\n",
       "        vertical-align: middle;\n",
       "    }\n",
       "\n",
       "    .dataframe tbody tr th {\n",
       "        vertical-align: top;\n",
       "    }\n",
       "\n",
       "    .dataframe thead th {\n",
       "        text-align: right;\n",
       "    }\n",
       "</style>\n",
       "<table border=\"1\" class=\"dataframe\">\n",
       "  <thead>\n",
       "    <tr style=\"text-align: right;\">\n",
       "      <th></th>\n",
       "      <th>mm_log_Reviews</th>\n",
       "      <th>mm_log_MinimumOrder</th>\n",
       "      <th>mm_log_Votes</th>\n",
       "      <th>mm_Rating</th>\n",
       "      <th>mm_AverageCost</th>\n",
       "    </tr>\n",
       "  </thead>\n",
       "  <tbody>\n",
       "    <tr>\n",
       "      <th>count</th>\n",
       "      <td>11094.000000</td>\n",
       "      <td>11094.000000</td>\n",
       "      <td>11094.000000</td>\n",
       "      <td>11094.000000</td>\n",
       "      <td>11094.000000</td>\n",
       "    </tr>\n",
       "    <tr>\n",
       "      <th>mean</th>\n",
       "      <td>0.375173</td>\n",
       "      <td>0.629012</td>\n",
       "      <td>0.386478</td>\n",
       "      <td>0.539671</td>\n",
       "      <td>0.076354</td>\n",
       "    </tr>\n",
       "    <tr>\n",
       "      <th>std</th>\n",
       "      <td>0.178497</td>\n",
       "      <td>0.081797</td>\n",
       "      <td>0.181391</td>\n",
       "      <td>0.134261</td>\n",
       "      <td>0.064917</td>\n",
       "    </tr>\n",
       "    <tr>\n",
       "      <th>min</th>\n",
       "      <td>0.000000</td>\n",
       "      <td>0.000000</td>\n",
       "      <td>0.000000</td>\n",
       "      <td>0.000000</td>\n",
       "      <td>0.000000</td>\n",
       "    </tr>\n",
       "    <tr>\n",
       "      <th>25%</th>\n",
       "      <td>0.273103</td>\n",
       "      <td>0.629488</td>\n",
       "      <td>0.269519</td>\n",
       "      <td>0.464286</td>\n",
       "      <td>0.025000</td>\n",
       "    </tr>\n",
       "    <tr>\n",
       "      <th>50%</th>\n",
       "      <td>0.371074</td>\n",
       "      <td>0.629488</td>\n",
       "      <td>0.379979</td>\n",
       "      <td>0.535714</td>\n",
       "      <td>0.075000</td>\n",
       "    </tr>\n",
       "    <tr>\n",
       "      <th>75%</th>\n",
       "      <td>0.471874</td>\n",
       "      <td>0.629488</td>\n",
       "      <td>0.493942</td>\n",
       "      <td>0.607143</td>\n",
       "      <td>0.075000</td>\n",
       "    </tr>\n",
       "    <tr>\n",
       "      <th>max</th>\n",
       "      <td>1.000000</td>\n",
       "      <td>1.000000</td>\n",
       "      <td>1.000000</td>\n",
       "      <td>1.000000</td>\n",
       "      <td>1.000000</td>\n",
       "    </tr>\n",
       "  </tbody>\n",
       "</table>\n",
       "</div>"
      ],
      "text/plain": [
       "       mm_log_Reviews  mm_log_MinimumOrder  mm_log_Votes     mm_Rating  \\\n",
       "count    11094.000000         11094.000000  11094.000000  11094.000000   \n",
       "mean         0.375173             0.629012      0.386478      0.539671   \n",
       "std          0.178497             0.081797      0.181391      0.134261   \n",
       "min          0.000000             0.000000      0.000000      0.000000   \n",
       "25%          0.273103             0.629488      0.269519      0.464286   \n",
       "50%          0.371074             0.629488      0.379979      0.535714   \n",
       "75%          0.471874             0.629488      0.493942      0.607143   \n",
       "max          1.000000             1.000000      1.000000      1.000000   \n",
       "\n",
       "       mm_AverageCost  \n",
       "count    11094.000000  \n",
       "mean         0.076354  \n",
       "std          0.064917  \n",
       "min          0.000000  \n",
       "25%          0.025000  \n",
       "50%          0.075000  \n",
       "75%          0.075000  \n",
       "max          1.000000  "
      ]
     },
     "execution_count": 59,
     "metadata": {},
     "output_type": "execute_result"
    }
   ],
   "source": [
    "final[['mm_log_Reviews','mm_log_MinimumOrder', 'mm_log_Votes', 'mm_Rating','mm_AverageCost']].describe()"
   ]
  },
  {
   "cell_type": "code",
   "execution_count": 62,
   "metadata": {
    "scrolled": true
   },
   "outputs": [
    {
     "data": {
      "text/html": [
       "<div>\n",
       "<style scoped>\n",
       "    .dataframe tbody tr th:only-of-type {\n",
       "        vertical-align: middle;\n",
       "    }\n",
       "\n",
       "    .dataframe tbody tr th {\n",
       "        vertical-align: top;\n",
       "    }\n",
       "\n",
       "    .dataframe thead th {\n",
       "        text-align: right;\n",
       "    }\n",
       "</style>\n",
       "<table border=\"1\" class=\"dataframe\">\n",
       "  <thead>\n",
       "    <tr style=\"text-align: right;\">\n",
       "      <th></th>\n",
       "      <th>Restaurant</th>\n",
       "      <th>AverageCost</th>\n",
       "      <th>MinimumOrder</th>\n",
       "      <th>DeliveryTime</th>\n",
       "      <th>Rating_filled</th>\n",
       "      <th>Votes_filled</th>\n",
       "      <th>Reviews_filled</th>\n",
       "      <th>log_Reviews</th>\n",
       "      <th>log_MinimumOrder</th>\n",
       "      <th>log_Votes</th>\n",
       "      <th>mm_log_Reviews</th>\n",
       "      <th>mm_log_MinimumOrder</th>\n",
       "      <th>mm_log_Votes</th>\n",
       "      <th>mm_Rating</th>\n",
       "      <th>mm_AverageCost</th>\n",
       "    </tr>\n",
       "  </thead>\n",
       "  <tbody>\n",
       "    <tr>\n",
       "      <th>0</th>\n",
       "      <td>5086</td>\n",
       "      <td>200</td>\n",
       "      <td>50</td>\n",
       "      <td>30</td>\n",
       "      <td>3.5</td>\n",
       "      <td>12.0</td>\n",
       "      <td>4.0</td>\n",
       "      <td>1.386294</td>\n",
       "      <td>3.912023</td>\n",
       "      <td>2.484907</td>\n",
       "      <td>0.157889</td>\n",
       "      <td>0.629488</td>\n",
       "      <td>0.173020</td>\n",
       "      <td>0.500000</td>\n",
       "      <td>0.075</td>\n",
       "    </tr>\n",
       "    <tr>\n",
       "      <th>1</th>\n",
       "      <td>1785</td>\n",
       "      <td>100</td>\n",
       "      <td>50</td>\n",
       "      <td>30</td>\n",
       "      <td>3.5</td>\n",
       "      <td>11.0</td>\n",
       "      <td>4.0</td>\n",
       "      <td>1.386294</td>\n",
       "      <td>3.912023</td>\n",
       "      <td>2.397895</td>\n",
       "      <td>0.157889</td>\n",
       "      <td>0.629488</td>\n",
       "      <td>0.162160</td>\n",
       "      <td>0.500000</td>\n",
       "      <td>0.025</td>\n",
       "    </tr>\n",
       "    <tr>\n",
       "      <th>2</th>\n",
       "      <td>571</td>\n",
       "      <td>150</td>\n",
       "      <td>50</td>\n",
       "      <td>65</td>\n",
       "      <td>3.6</td>\n",
       "      <td>99.0</td>\n",
       "      <td>30.0</td>\n",
       "      <td>3.401197</td>\n",
       "      <td>3.912023</td>\n",
       "      <td>4.595120</td>\n",
       "      <td>0.387372</td>\n",
       "      <td>0.629488</td>\n",
       "      <td>0.436390</td>\n",
       "      <td>0.535714</td>\n",
       "      <td>0.050</td>\n",
       "    </tr>\n",
       "    <tr>\n",
       "      <th>3</th>\n",
       "      <td>4708</td>\n",
       "      <td>250</td>\n",
       "      <td>99</td>\n",
       "      <td>30</td>\n",
       "      <td>3.7</td>\n",
       "      <td>176.0</td>\n",
       "      <td>95.0</td>\n",
       "      <td>4.553877</td>\n",
       "      <td>4.595120</td>\n",
       "      <td>5.170484</td>\n",
       "      <td>0.518655</td>\n",
       "      <td>0.739406</td>\n",
       "      <td>0.508199</td>\n",
       "      <td>0.571429</td>\n",
       "      <td>0.100</td>\n",
       "    </tr>\n",
       "    <tr>\n",
       "      <th>4</th>\n",
       "      <td>4896</td>\n",
       "      <td>200</td>\n",
       "      <td>99</td>\n",
       "      <td>65</td>\n",
       "      <td>3.2</td>\n",
       "      <td>521.0</td>\n",
       "      <td>235.0</td>\n",
       "      <td>5.459586</td>\n",
       "      <td>4.595120</td>\n",
       "      <td>6.255750</td>\n",
       "      <td>0.621808</td>\n",
       "      <td>0.739406</td>\n",
       "      <td>0.643649</td>\n",
       "      <td>0.392857</td>\n",
       "      <td>0.075</td>\n",
       "    </tr>\n",
       "  </tbody>\n",
       "</table>\n",
       "</div>"
      ],
      "text/plain": [
       "   Restaurant  AverageCost  MinimumOrder  DeliveryTime  Rating_filled  \\\n",
       "0        5086          200            50            30            3.5   \n",
       "1        1785          100            50            30            3.5   \n",
       "2         571          150            50            65            3.6   \n",
       "3        4708          250            99            30            3.7   \n",
       "4        4896          200            99            65            3.2   \n",
       "\n",
       "   Votes_filled  Reviews_filled  log_Reviews  log_MinimumOrder  log_Votes  \\\n",
       "0          12.0             4.0     1.386294          3.912023   2.484907   \n",
       "1          11.0             4.0     1.386294          3.912023   2.397895   \n",
       "2          99.0            30.0     3.401197          3.912023   4.595120   \n",
       "3         176.0            95.0     4.553877          4.595120   5.170484   \n",
       "4         521.0           235.0     5.459586          4.595120   6.255750   \n",
       "\n",
       "   mm_log_Reviews  mm_log_MinimumOrder  mm_log_Votes  mm_Rating  \\\n",
       "0        0.157889             0.629488      0.173020   0.500000   \n",
       "1        0.157889             0.629488      0.162160   0.500000   \n",
       "2        0.387372             0.629488      0.436390   0.535714   \n",
       "3        0.518655             0.739406      0.508199   0.571429   \n",
       "4        0.621808             0.739406      0.643649   0.392857   \n",
       "\n",
       "   mm_AverageCost  \n",
       "0           0.075  \n",
       "1           0.025  \n",
       "2           0.050  \n",
       "3           0.100  \n",
       "4           0.075  "
      ]
     },
     "execution_count": 62,
     "metadata": {},
     "output_type": "execute_result"
    }
   ],
   "source": [
    "final.head()"
   ]
  },
  {
   "cell_type": "code",
   "execution_count": 107,
   "metadata": {},
   "outputs": [],
   "source": [
    "final = final[['DeliveryTime', 'mm_log_Reviews','mm_log_MinimumOrder', 'mm_log_Votes', 'mm_Rating','mm_AverageCost']]"
   ]
  },
  {
   "cell_type": "code",
   "execution_count": 108,
   "metadata": {},
   "outputs": [
    {
     "data": {
      "text/html": [
       "<div>\n",
       "<style scoped>\n",
       "    .dataframe tbody tr th:only-of-type {\n",
       "        vertical-align: middle;\n",
       "    }\n",
       "\n",
       "    .dataframe tbody tr th {\n",
       "        vertical-align: top;\n",
       "    }\n",
       "\n",
       "    .dataframe thead th {\n",
       "        text-align: right;\n",
       "    }\n",
       "</style>\n",
       "<table border=\"1\" class=\"dataframe\">\n",
       "  <thead>\n",
       "    <tr style=\"text-align: right;\">\n",
       "      <th></th>\n",
       "      <th>DeliveryTime</th>\n",
       "      <th>mm_log_Reviews</th>\n",
       "      <th>mm_log_MinimumOrder</th>\n",
       "      <th>mm_log_Votes</th>\n",
       "      <th>mm_Rating</th>\n",
       "      <th>mm_AverageCost</th>\n",
       "    </tr>\n",
       "  </thead>\n",
       "  <tbody>\n",
       "    <tr>\n",
       "      <th>0</th>\n",
       "      <td>30</td>\n",
       "      <td>0.157889</td>\n",
       "      <td>0.629488</td>\n",
       "      <td>0.173020</td>\n",
       "      <td>0.500000</td>\n",
       "      <td>0.075</td>\n",
       "    </tr>\n",
       "    <tr>\n",
       "      <th>1</th>\n",
       "      <td>30</td>\n",
       "      <td>0.157889</td>\n",
       "      <td>0.629488</td>\n",
       "      <td>0.162160</td>\n",
       "      <td>0.500000</td>\n",
       "      <td>0.025</td>\n",
       "    </tr>\n",
       "    <tr>\n",
       "      <th>2</th>\n",
       "      <td>65</td>\n",
       "      <td>0.387372</td>\n",
       "      <td>0.629488</td>\n",
       "      <td>0.436390</td>\n",
       "      <td>0.535714</td>\n",
       "      <td>0.050</td>\n",
       "    </tr>\n",
       "    <tr>\n",
       "      <th>3</th>\n",
       "      <td>30</td>\n",
       "      <td>0.518655</td>\n",
       "      <td>0.739406</td>\n",
       "      <td>0.508199</td>\n",
       "      <td>0.571429</td>\n",
       "      <td>0.100</td>\n",
       "    </tr>\n",
       "    <tr>\n",
       "      <th>4</th>\n",
       "      <td>65</td>\n",
       "      <td>0.621808</td>\n",
       "      <td>0.739406</td>\n",
       "      <td>0.643649</td>\n",
       "      <td>0.392857</td>\n",
       "      <td>0.075</td>\n",
       "    </tr>\n",
       "  </tbody>\n",
       "</table>\n",
       "</div>"
      ],
      "text/plain": [
       "   DeliveryTime  mm_log_Reviews  mm_log_MinimumOrder  mm_log_Votes  mm_Rating  \\\n",
       "0            30        0.157889             0.629488      0.173020   0.500000   \n",
       "1            30        0.157889             0.629488      0.162160   0.500000   \n",
       "2            65        0.387372             0.629488      0.436390   0.535714   \n",
       "3            30        0.518655             0.739406      0.508199   0.571429   \n",
       "4            65        0.621808             0.739406      0.643649   0.392857   \n",
       "\n",
       "   mm_AverageCost  \n",
       "0           0.075  \n",
       "1           0.025  \n",
       "2           0.050  \n",
       "3           0.100  \n",
       "4           0.075  "
      ]
     },
     "execution_count": 108,
     "metadata": {},
     "output_type": "execute_result"
    }
   ],
   "source": [
    "final.head()"
   ]
  },
  {
   "cell_type": "code",
   "execution_count": null,
   "metadata": {},
   "outputs": [],
   "source": []
  },
  {
   "cell_type": "markdown",
   "metadata": {},
   "source": [
    "## 4. 머신러닝 알고리즘을 위해 데이터를 준비합니다 (prepare the data for Machine Learning algorithms)."
   ]
  },
  {
   "cell_type": "markdown",
   "metadata": {},
   "source": [
    "### 4-1. 변수 만들기"
   ]
  },
  {
   "cell_type": "code",
   "execution_count": 109,
   "metadata": {},
   "outputs": [
    {
     "data": {
      "text/plain": [
       "(11094, 6)"
      ]
     },
     "execution_count": 109,
     "metadata": {},
     "output_type": "execute_result"
    }
   ],
   "source": [
    "final.shape"
   ]
  },
  {
   "cell_type": "code",
   "execution_count": 110,
   "metadata": {},
   "outputs": [
    {
     "data": {
      "text/plain": [
       "DeliveryTime           0\n",
       "mm_log_Reviews         0\n",
       "mm_log_MinimumOrder    0\n",
       "mm_log_Votes           0\n",
       "mm_Rating              0\n",
       "mm_AverageCost         0\n",
       "dtype: int64"
      ]
     },
     "execution_count": 110,
     "metadata": {},
     "output_type": "execute_result"
    }
   ],
   "source": [
    "final.isnull().sum()"
   ]
  },
  {
   "cell_type": "code",
   "execution_count": 111,
   "metadata": {},
   "outputs": [
    {
     "name": "stdout",
     "output_type": "stream",
     "text": [
      "<class 'pandas.core.frame.DataFrame'>\n",
      "RangeIndex: 11094 entries, 0 to 11093\n",
      "Data columns (total 6 columns):\n",
      " #   Column               Non-Null Count  Dtype  \n",
      "---  ------               --------------  -----  \n",
      " 0   DeliveryTime         11094 non-null  int64  \n",
      " 1   mm_log_Reviews       11094 non-null  float64\n",
      " 2   mm_log_MinimumOrder  11094 non-null  float64\n",
      " 3   mm_log_Votes         11094 non-null  float64\n",
      " 4   mm_Rating            11094 non-null  float64\n",
      " 5   mm_AverageCost       11094 non-null  float64\n",
      "dtypes: float64(5), int64(1)\n",
      "memory usage: 520.2 KB\n"
     ]
    }
   ],
   "source": [
    "final.info()"
   ]
  },
  {
   "cell_type": "code",
   "execution_count": 112,
   "metadata": {},
   "outputs": [],
   "source": [
    "#마지막으로 인코딩한 categorical columns들을 붙입니다."
   ]
  },
  {
   "cell_type": "code",
   "execution_count": 113,
   "metadata": {},
   "outputs": [],
   "source": [
    "final = pd.concat([pd.DataFrame(loc_df), pd.DataFrame(cus_df),final],sort=False,axis = 1)"
   ]
  },
  {
   "cell_type": "markdown",
   "metadata": {},
   "source": [
    "### 4-2. 트레인-테스트 분리"
   ]
  },
  {
   "cell_type": "code",
   "execution_count": 114,
   "metadata": {},
   "outputs": [],
   "source": [
    "#y label 분리\n",
    "y = final[\"DeliveryTime\"].copy()\n",
    "X = final.drop(\"DeliveryTime\", axis=1) # drop labels for training set\n"
   ]
  },
  {
   "cell_type": "code",
   "execution_count": 115,
   "metadata": {},
   "outputs": [],
   "source": [
    "#train, test 분리\n",
    "from sklearn.model_selection import train_test_split\n",
    "\n",
    "X_train, X_test, y_train, y_test = train_test_split(X,y,test_size=0.2, shuffle=True, random_state=42)"
   ]
  },
  {
   "cell_type": "markdown",
   "metadata": {},
   "source": [
    "## 5. 모델을 선택하고 훈련시킵니다 (select a model and train it)."
   ]
  },
  {
   "cell_type": "markdown",
   "metadata": {},
   "source": [
    "### 5-1. linear regression"
   ]
  },
  {
   "cell_type": "code",
   "execution_count": 116,
   "metadata": {},
   "outputs": [
    {
     "data": {
      "text/plain": [
       "LinearRegression()"
      ]
     },
     "execution_count": 116,
     "metadata": {},
     "output_type": "execute_result"
    }
   ],
   "source": [
    "from sklearn.linear_model import LinearRegression\n",
    "#인스턴스, fit\n",
    "m_lr = LinearRegression()\n",
    "m_lr.fit(X_train, y_train)"
   ]
  },
  {
   "cell_type": "code",
   "execution_count": 117,
   "metadata": {},
   "outputs": [],
   "source": [
    "#predict\n",
    "y_pred = m_lr.predict(X_test)\n"
   ]
  },
  {
   "cell_type": "code",
   "execution_count": 118,
   "metadata": {},
   "outputs": [],
   "source": [
    "\n",
    "from sklearn.metrics import mean_absolute_error as mae, r2_score as r2\n"
   ]
  },
  {
   "cell_type": "code",
   "execution_count": 119,
   "metadata": {
    "scrolled": true
   },
   "outputs": [
    {
     "name": "stdout",
     "output_type": "stream",
     "text": [
      "R^2:  -6.546292004646012e+20\n",
      "MAE:  9214932049.394396\n"
     ]
    }
   ],
   "source": [
    "\n",
    "# 4. 평가 MAE와 R^2\n",
    "\n",
    "print('R^2: ', r2(y_test,y_pred))\n",
    "print('MAE: ',(mae(y_test,y_pred)))"
   ]
  },
  {
   "cell_type": "code",
   "execution_count": 120,
   "metadata": {
    "scrolled": true
   },
   "outputs": [
    {
     "data": {
      "text/plain": [
       "array([41.30859375, 36.67578125, 44.91015625, ..., 28.23046875,\n",
       "       40.62890625, 30.5234375 ])"
      ]
     },
     "execution_count": 120,
     "metadata": {},
     "output_type": "execute_result"
    }
   ],
   "source": [
    "### under-prediction vs. over-prediction\n",
    "y_pred"
   ]
  },
  {
   "cell_type": "code",
   "execution_count": 121,
   "metadata": {},
   "outputs": [
    {
     "data": {
      "text/plain": [
       "1891      65\n",
       "9166      45\n",
       "5909      65\n",
       "8144     120\n",
       "883       30\n",
       "        ... \n",
       "9030      30\n",
       "2344      30\n",
       "10961     30\n",
       "1508      45\n",
       "7628      45\n",
       "Name: DeliveryTime, Length: 2219, dtype: int64"
      ]
     },
     "execution_count": 121,
     "metadata": {},
     "output_type": "execute_result"
    }
   ],
   "source": [
    "y_test"
   ]
  },
  {
   "cell_type": "code",
   "execution_count": 122,
   "metadata": {
    "scrolled": true
   },
   "outputs": [
    {
     "data": {
      "text/plain": [
       "0.3465525011266336"
      ]
     },
     "execution_count": 122,
     "metadata": {},
     "output_type": "execute_result"
    }
   ],
   "source": [
    "underpredic_bool = y_test-y_pred > 0\n",
    "len(underpredic_bool[underpredic_bool ==True])/len(underpredic_bool)"
   ]
  },
  {
   "cell_type": "markdown",
   "metadata": {},
   "source": [
    "약 28%가 예측값보다 실제 도착 시간이 더 오래 걸린 것으로 보입니다.  \n",
    "함수로 만들어 보도록 하겠습니다."
   ]
  },
  {
   "cell_type": "code",
   "execution_count": 123,
   "metadata": {},
   "outputs": [],
   "source": [
    "def underpredic_ratio (y_test, y_pred):\n",
    "    underpredic_bool = y_test-y_pred > 0\n",
    "    return len(underpredic_bool[underpredic_bool ==True])/len(underpredic_bool)"
   ]
  },
  {
   "cell_type": "code",
   "execution_count": 124,
   "metadata": {},
   "outputs": [
    {
     "data": {
      "text/plain": [
       "0.3465525011266336"
      ]
     },
     "execution_count": 124,
     "metadata": {},
     "output_type": "execute_result"
    }
   ],
   "source": [
    "underpredic_ratio (y_test, y_pred)"
   ]
  },
  {
   "cell_type": "code",
   "execution_count": 125,
   "metadata": {},
   "outputs": [
    {
     "data": {
      "text/plain": [
       "<AxesSubplot:>"
      ]
     },
     "execution_count": 125,
     "metadata": {},
     "output_type": "execute_result"
    },
    {
     "data": {
      "image/png": "[encoded data removed]",
      "text/plain": [
       "<Figure size 576x1440 with 1 Axes>"
      ]
     },
     "metadata": {
      "needs_background": "light"
     },
     "output_type": "display_data"
    }
   ],
   "source": [
    "#예측력이 별로 좋지는 않습니다. 어떤 feature들이 설명력이 높았는지 찾아봅시다.\n",
    "coef = pd.Series(m_lr.coef_, index = X_train.columns)\n",
    "coef_sort = coef.sort_values(ascending=False)\n",
    "\n",
    "plt.figure(figsize=(8, 20))\n",
    "sns.barplot(x=coef_sort.values, y=coef_sort.index)"
   ]
  },
  {
   "cell_type": "markdown",
   "metadata": {},
   "source": [
    "규제화 해보기"
   ]
  },
  {
   "cell_type": "code",
   "execution_count": 126,
   "metadata": {},
   "outputs": [],
   "source": [
    "from sklearn.linear_model import Ridge, Lasso"
   ]
  },
  {
   "cell_type": "code",
   "execution_count": 127,
   "metadata": {},
   "outputs": [],
   "source": [
    "#1. 인스턴스화\n",
    "# alpha : 하이퍼 파라미터 규제의 강도\n",
    "ridge_model = Ridge(alpha = 1)\n",
    "# 2. 적합화\n",
    "ridge_model.fit(X_train,y_train)\n",
    "# 3. 예측\n",
    "y_pred = ridge_model.predict(X_test)"
   ]
  },
  {
   "cell_type": "code",
   "execution_count": 128,
   "metadata": {},
   "outputs": [
    {
     "name": "stdout",
     "output_type": "stream",
     "text": [
      "ridge (alpha 1) R^2:  0.15718270680207358\n",
      "ridge (alpha 1) MAE:  7.673774544470501\n"
     ]
    }
   ],
   "source": [
    "\n",
    "# 4. 평가 MAE와 R^2\n",
    "#R^2\n",
    "print('ridge (alpha 1) R^2: ', r2(y_test, y_pred))\n",
    "\n",
    "# MAE\n",
    "print('ridge (alpha 1) MAE: ', mae(y_test, y_pred))"
   ]
  },
  {
   "cell_type": "code",
   "execution_count": 129,
   "metadata": {
    "scrolled": true
   },
   "outputs": [
    {
     "name": "stdout",
     "output_type": "stream",
     "text": [
      "lasso (alpha 1) R^2:  -0.0011507414206157751\n",
      "lasso (alpha 1) MAE:  9.35971564402186\n"
     ]
    }
   ],
   "source": [
    "#1. 인스턴스화\n",
    "lasso_model = Lasso(alpha = 1)\n",
    "\n",
    "# 2. 적합화(학습)\n",
    "lasso_model.fit(X_train, y_train)\n",
    "\n",
    "# 3. 예측\n",
    "y_pred = lasso_model.predict(X_test)\n",
    "\n",
    "\n",
    "# 4. 평가 MAE와 R^2\n",
    "\n",
    "#R^2\n",
    "print('lasso (alpha 1) R^2: ', r2(y_test, y_pred))\n",
    "# MAE\n",
    "print('lasso (alpha 1) MAE: ', mae(y_test, y_pred))"
   ]
  },
  {
   "cell_type": "markdown",
   "metadata": {},
   "source": [
    "ridge나 lasso 모델로 예측치 상승이 크게 늘어날 것 같지는 않습니다."
   ]
  },
  {
   "cell_type": "markdown",
   "metadata": {},
   "source": [
    "### 5-2. Decision Tree"
   ]
  },
  {
   "cell_type": "code",
   "execution_count": 130,
   "metadata": {},
   "outputs": [],
   "source": [
    "from sklearn.tree import DecisionTreeRegressor"
   ]
  },
  {
   "cell_type": "code",
   "execution_count": 131,
   "metadata": {},
   "outputs": [
    {
     "name": "stdout",
     "output_type": "stream",
     "text": [
      "decision tree R^2:  0.2298002963882817\n",
      "decision tree MAE:  6.773868996311736\n",
      "decision tree underpredict ratio:  0.28886885984677785\n"
     ]
    }
   ],
   "source": [
    "# 인스턴스화 max_depth 조절 가능.\n",
    "dt = DecisionTreeRegressor(max_depth=5, random_state = 42)\n",
    "\n",
    "dt.fit(X_train,y_train)\n",
    "\n",
    "#predict\n",
    "y_pred = dt.predict(X_test)\n",
    "\n",
    "\n",
    "# 4. 평가 MAE와 R^2\n",
    "\n",
    "#R^2\n",
    "print('decision tree R^2: ', r2(y_test, y_pred))\n",
    "\n",
    "# MAE\n",
    "print('decision tree MAE: ', mae(y_test, y_pred))\n",
    "\n",
    "# underpredict ratio\n",
    "print('decision tree underpredict ratio: ', underpredic_ratio (y_test, y_pred))"
   ]
  },
  {
   "cell_type": "markdown",
   "metadata": {},
   "source": [
    "### 5-3. Random Forest "
   ]
  },
  {
   "cell_type": "code",
   "execution_count": 132,
   "metadata": {},
   "outputs": [],
   "source": [
    "from sklearn.ensemble import RandomForestRegressor\n"
   ]
  },
  {
   "cell_type": "code",
   "execution_count": 133,
   "metadata": {
    "scrolled": true
   },
   "outputs": [
    {
     "name": "stdout",
     "output_type": "stream",
     "text": [
      "random forest R2: 0.27650498367381227\n",
      "random forest MAE: 6.541015267770307\n",
      "random forest underpredict ratio:  0.273997296079315\n"
     ]
    }
   ],
   "source": [
    "rf = RandomForestRegressor(n_estimators = 500, max_depth=7, random_state =0)\n",
    "rf.fit(X_train,y_train)\n",
    "y_pred = rf.predict(X_test)\n",
    "\n",
    "\n",
    "#평가\n",
    "print(\"random forest R2:\", r2(y_test, y_pred))\n",
    "print(\"random forest MAE:\", mae(y_test,y_pred))\n",
    "print('random forest underpredict ratio: ', underpredic_ratio (y_test, y_pred))"
   ]
  },
  {
   "cell_type": "markdown",
   "metadata": {},
   "source": [
    "예측력이 그다지 높지 않습니다. 무엇이 문제일까요?\\\n",
    "혹시 y-labels의 분포가 왼쪽으로 skew되서일까요? log를 해서 y를 넣은 다음 다시 변환하는 방법을 사용해 보겠습니다.\\\n",
    "참고: https://github.com/wikibook/ml-definitive-guide/blob/master/5%EC%9E%A5/5.9%20Regression%EC%8B%A4%EC%8A%B5-Bike%20Sharing%20Demand.ipynb"
   ]
  },
  {
   "cell_type": "code",
   "execution_count": 134,
   "metadata": {
    "scrolled": true
   },
   "outputs": [
    {
     "data": {
      "text/plain": [
       "<AxesSubplot:>"
      ]
     },
     "execution_count": 134,
     "metadata": {},
     "output_type": "execute_result"
    },
    {
     "data": {
      "image/png": "[encoded data removed]",
      "text/plain": [
       "<Figure size 432x288 with 1 Axes>"
      ]
     },
     "metadata": {
      "needs_background": "light"
     },
     "output_type": "display_data"
    }
   ],
   "source": [
    "y_log_transform = np.log1p(y)\n",
    "y_log_transform.hist()"
   ]
  },
  {
   "cell_type": "code",
   "execution_count": 135,
   "metadata": {},
   "outputs": [
    {
     "name": "stdout",
     "output_type": "stream",
     "text": [
      "y_log lr R^2:  0.14931804689437933\n",
      "y_log lr MAE:  7.247549790840543\n",
      "y_log lr underpredict ratio:  0.3618747183415953\n"
     ]
    }
   ],
   "source": [
    "# 타깃 칼럼인 count값을 log1p로 로그 변환\n",
    "y_target_log = np.log1p(y)\n",
    "\n",
    "# 로그 변환된 y_target_log를 반영하여 학습/테스트 데이터 셋 분할\n",
    "X_train, X_test, y_train, y_test = train_test_split(X, y_target_log, test_size=0.2, random_state=42)\n",
    "\n",
    "#linear regression modeling\n",
    "lr_reg = LinearRegression()\n",
    "lr_reg.fit(X_train, y_train)\n",
    "pred = lr_reg.predict(X_test)\n",
    "\n",
    "# 테스트 데이터 셋의 Target 값은 Log 변환되었으므로 다시 expm1를 이용하여 원래 scale로 변환\n",
    "y_test_exp = np.expm1(y_test)\n",
    "\n",
    "# 예측 값 역시 Log 변환된 타겟 기반으로 학습되어 예측되었으므로 다시 exmpl으로 scale변환\n",
    "pred_exp = np.expm1(pred)\n",
    "\n",
    "# 4. 평가 MAE와 R^2, underpredict ratio\n",
    "\n",
    "print('y_log lr R^2: ', r2(y_test_exp, pred_exp))\n",
    "\n",
    "print('y_log lr MAE: ', mae(y_test_exp, pred_exp))\n",
    "print('y_log lr underpredict ratio: ', underpredic_ratio (y_test_exp, pred_exp))"
   ]
  },
  {
   "cell_type": "code",
   "execution_count": 136,
   "metadata": {},
   "outputs": [
    {
     "name": "stdout",
     "output_type": "stream",
     "text": [
      "y_log rf R2: 0.14931804689437933\n",
      "y_log rf MAE: 7.247549790840543\n",
      "y_log rf underpredict ratio:  0.3618747183415953\n"
     ]
    }
   ],
   "source": [
    "# 타깃 칼럼인 count값을 log1p로 로그 변환\n",
    "y_target_log = np.log1p(y)\n",
    "\n",
    "# 로그 변환된 y_target_log를 반영하여 학습/테스트 데이터 셋 분할\n",
    "X_train, X_test, y_train, y_test = train_test_split(X, y_target_log, test_size=0.2, random_state=42)\n",
    "\n",
    "#randomforest modeling\n",
    "rf = RandomForestRegressor(n_estimators = 500, max_depth=7, random_state =0)\n",
    "rf.fit(X_train,y_train)\n",
    "y_pred = rf.predict(X_test)\n",
    "\n",
    "\n",
    "# 테스트 데이터 셋의 Target 값은 Log 변환되었으므로 다시 expm1를 이용하여 원래 scale로 변환\n",
    "y_test_exp = np.expm1(y_test)\n",
    "\n",
    "# 예측 값 역시 Log 변환된 타겟 기반으로 학습되어 예측되었으므로 다시 exmpl으로 scale변환\n",
    "pred_exp = np.expm1(pred)\n",
    "\n",
    "\n",
    "# 4. 평가 MAE와 R^2\n",
    "print(\"y_log rf R2:\", r2(y_test_exp, pred_exp))\n",
    "print(\"y_log rf MAE:\", mae(y_test_exp, pred_exp))\n",
    "print('y_log rf underpredict ratio: ', underpredic_ratio (y_test_exp, pred_exp))"
   ]
  },
  {
   "cell_type": "markdown",
   "metadata": {},
   "source": [
    "y_label 로그화는 예측력이 더 떨어져서 drop하겠습니다."
   ]
  },
  {
   "cell_type": "markdown",
   "metadata": {},
   "source": [
    "### 교차 검증(Cross-Validation)을 사용한 평가"
   ]
  },
  {
   "cell_type": "code",
   "execution_count": 137,
   "metadata": {},
   "outputs": [],
   "source": [
    "from sklearn.model_selection import cross_val_score"
   ]
  },
  {
   "cell_type": "code",
   "execution_count": 138,
   "metadata": {},
   "outputs": [],
   "source": [
    "def display_scores(scores):\n",
    "    print(\"Scores:\", scores)\n",
    "    print(\"Mean:\", scores.mean())\n",
    "    print(\"Standard deviation:\", scores.std())"
   ]
  },
  {
   "cell_type": "code",
   "execution_count": 139,
   "metadata": {},
   "outputs": [
    {
     "name": "stdout",
     "output_type": "stream",
     "text": [
      "Scores: [4.24897430e-01 4.15487923e-01 9.21309888e+03 4.23415334e-01\n",
      " 6.65432147e+03 2.30102540e+03 4.33777344e-01 4.28837281e-01\n",
      " 1.54675234e+04 4.15578768e-01]\n",
      "Mean: 3363.8511106974593\n",
      "Standard deviation: 5104.363234780875\n"
     ]
    }
   ],
   "source": [
    "# 1. linear regressor\n",
    "\n",
    "m_lr_scores = cross_val_score(m_lr, X_train, y_train,\n",
    "                             scoring=\"neg_mean_absolute_error\", cv=10)\n",
    "lin_rmse_scores = np.sqrt(-m_lr_scores)\n",
    "display_scores(lin_rmse_scores)"
   ]
  },
  {
   "cell_type": "code",
   "execution_count": 140,
   "metadata": {},
   "outputs": [
    {
     "name": "stdout",
     "output_type": "stream",
     "text": [
      "Scores: [0.40403408 0.39680149 0.39764571 0.40311291 0.39630845 0.40770768\n",
      " 0.40630932 0.40951976 0.41727848 0.39986021]\n",
      "Mean: 0.4038578084967295\n",
      "Standard deviation: 0.006284463907545844\n"
     ]
    }
   ],
   "source": [
    "# 2. decision tree regressor\n",
    "dt_scores = cross_val_score(dt, X_train, y_train,\n",
    "                             scoring=\"neg_mean_absolute_error\", cv=10)\n",
    "dt_rmse_scores = np.sqrt(-dt_scores)\n",
    "display_scores(dt_rmse_scores)"
   ]
  },
  {
   "cell_type": "code",
   "execution_count": 141,
   "metadata": {},
   "outputs": [
    {
     "name": "stdout",
     "output_type": "stream",
     "text": [
      "Scores: [0.39422827 0.38324179 0.3848912  0.39241048 0.38317113 0.39570589\n",
      " 0.39573462 0.40672315 0.40381144 0.38815475]\n",
      "Mean: 0.39280727206318244\n",
      "Standard deviation: 0.007762442946920458\n"
     ]
    }
   ],
   "source": [
    "# 3. random forest regressor\n",
    "rf_scores = cross_val_score(rf, X_train, y_train,\n",
    "                             scoring=\"neg_mean_absolute_error\", cv=10)\n",
    "rf_rmse_scores = np.sqrt(-rf_scores)\n",
    "display_scores(rf_rmse_scores)"
   ]
  },
  {
   "cell_type": "markdown",
   "metadata": {},
   "source": [
    "## 6. 모델을 상세하게 조정합니다 (fine-tune your model)."
   ]
  },
  {
   "cell_type": "markdown",
   "metadata": {},
   "source": [
    "### 6-1. Grid Search "
   ]
  },
  {
   "cell_type": "code",
   "execution_count": 142,
   "metadata": {},
   "outputs": [
    {
     "data": {
      "text/plain": [
       "GridSearchCV(cv=5, estimator=RandomForestRegressor(random_state=42),\n",
       "             param_grid=[{'max_features': [2, 4, 6, 8],\n",
       "                          'n_estimators': [3, 10, 30]},\n",
       "                         {'bootstrap': [False], 'max_features': [2, 3, 4],\n",
       "                          'n_estimators': [3, 10]}],\n",
       "             return_train_score=True, scoring='r2')"
      ]
     },
     "execution_count": 142,
     "metadata": {},
     "output_type": "execute_result"
    }
   ],
   "source": [
    "from sklearn.model_selection import GridSearchCV\n",
    "\n",
    "param_grid = [\n",
    "    # try 12 (3×4) combinations of hyperparameters\n",
    "    {'n_estimators': [3, 10, 30], 'max_features': [2, 4, 6, 8]},\n",
    "    # then try 6 (2×3) combinations with bootstrap set as False\n",
    "    {'bootstrap': [False], 'n_estimators': [3, 10], 'max_features': [2, 3, 4]},\n",
    "  ]\n",
    "\n",
    "forest_reg = RandomForestRegressor(random_state=42)\n",
    "# train across 5 folds, that's a total of (12+6)*5=90 rounds of training \n",
    "grid_search = GridSearchCV(forest_reg, param_grid, cv=5,\n",
    "                           scoring='r2',\n",
    "                           return_train_score=True)\n",
    "grid_search.fit(X_train,y_train)"
   ]
  },
  {
   "cell_type": "code",
   "execution_count": 143,
   "metadata": {},
   "outputs": [
    {
     "data": {
      "text/plain": [
       "RandomForestRegressor(max_features=8, n_estimators=30, random_state=42)"
      ]
     },
     "execution_count": 143,
     "metadata": {},
     "output_type": "execute_result"
    }
   ],
   "source": [
    "grid_search.best_estimator_"
   ]
  },
  {
   "cell_type": "markdown",
   "metadata": {},
   "source": [
    "best estimator대로 모델링해보자"
   ]
  },
  {
   "cell_type": "code",
   "execution_count": 144,
   "metadata": {},
   "outputs": [
    {
     "name": "stdout",
     "output_type": "stream",
     "text": [
      "random forest R2: 0.33965463730842105\n",
      "random forest MAE: 0.14518094885578903\n",
      "random forest underpredict ratio:  0.2789544840018026\n"
     ]
    }
   ],
   "source": [
    "rf = RandomForestRegressor(max_features=8, n_estimators=30, random_state=42)\n",
    "rf.fit(X_train,y_train)\n",
    "y_pred = rf.predict(X_test)\n",
    "\n",
    "\n",
    "#평가\n",
    "print(\"random forest R2:\", r2(y_test, y_pred))\n",
    "print(\"random forest MAE:\", mae(y_test,y_pred))\n",
    "print('random forest underpredict ratio: ', underpredic_ratio (y_test, y_pred))"
   ]
  },
  {
   "cell_type": "markdown",
   "metadata": {},
   "source": [
    "1. 하이퍼 파라미터 : n_estimators = 500, max_depth=7, random_state =0\n",
    "- random forest R2: 0.2803068703726267\n",
    "- random forest MAE: 6.557196092404201\n",
    "- random forest underpredict ratio:  0.27309598918431727\n",
    "\n",
    "2. 하이퍼 파라미터: max_features=8, n_estimators=30, random_state=42\n",
    "- random forest R2: 0.3569480051741485\n",
    "- random forest MAE: 0.1434614930620851\n",
    "- random forest underpredict ratio:  0.2771518702118071"
   ]
  },
  {
   "cell_type": "code",
   "execution_count": 145,
   "metadata": {},
   "outputs": [
    {
     "name": "stdout",
     "output_type": "stream",
     "text": [
      "Scores: [0.38785123 0.37215861 0.37171829 0.38478621 0.37813359 0.38184913\n",
      " 0.39180273 0.39915705 0.3925901  0.37527077]\n",
      "Mean: 0.3835317699850399\n",
      "Standard deviation: 0.008854183809393762\n"
     ]
    }
   ],
   "source": [
    "#파라미터 튜닝을 거친 베스트 파라미터로 k겹 교차 검증\n",
    "# 3. random forest regressor\n",
    "rf_scores = cross_val_score(rf, X_train, y_train,\n",
    "                             scoring=\"neg_mean_absolute_error\", cv=10)\n",
    "rf_rmse_scores = np.sqrt(-rf_scores)\n",
    "display_scores(rf_rmse_scores)"
   ]
  },
  {
   "cell_type": "markdown",
   "metadata": {},
   "source": [
    "아주 약간 평가 지표들이 좋아진 것을 확인할 수 있다."
   ]
  },
  {
   "cell_type": "markdown",
   "metadata": {},
   "source": [
    "### 6-2. Randomized Search"
   ]
  },
  {
   "cell_type": "code",
   "execution_count": null,
   "metadata": {},
   "outputs": [],
   "source": [
    "from sklearn.model_selection import RandomizedSearchCV\n",
    "from scipy.stats import randint\n",
    "\n",
    "param_distribs = {\n",
    "        'n_estimators': randint(low=1, high=200),\n",
    "        'max_features': randint(low=1, high=8),\n",
    "    }\n",
    "\n",
    "forest_reg = RandomForestRegressor(random_state=42)\n",
    "rnd_search = RandomizedSearchCV(forest_reg, param_distributions=param_distribs,\n",
    "                                n_iter=100, cv=5, scoring='neg_mean_squared_error', random_state=42)\n",
    "rnd_search.fit(X_train,y_train)"
   ]
  },
  {
   "cell_type": "code",
   "execution_count": null,
   "metadata": {},
   "outputs": [],
   "source": [
    "best_score = []\n",
    "cvres = rnd_search.cv_results_\n",
    "for mean_score, params in zip(cvres[\"mean_test_score\"], cvres[\"params\"]):\n",
    "    best_score.append((np.sqrt(-mean_score), params))\n",
    "\n",
    "sorted(best_score)[0]"
   ]
  },
  {
   "cell_type": "code",
   "execution_count": null,
   "metadata": {},
   "outputs": [],
   "source": [
    "rf = RandomForestRegressor(max_features=7, n_estimators=190, random_state=42)\n",
    "rf.fit(X_train,y_train)\n",
    "y_pred = rf.predict(X_test)\n",
    "\n",
    "\n",
    "#평가\n",
    "print(\"random forest R2:\", r2(y_test, y_pred))\n",
    "print(\"random forest MAE:\", mae(y_test,y_pred))\n",
    "print('random forest underpredict ratio: ', underpredic_ratio (y_test, y_pred))"
   ]
  },
  {
   "cell_type": "code",
   "execution_count": null,
   "metadata": {},
   "outputs": [],
   "source": [
    "#파라미터 튜닝을 거친 베스트 파라미터로 k겹 교차 검증\n",
    "# 3. random forest regressor\n",
    "rf_scores = cross_val_score(rf, X_train, y_train,\n",
    "                             scoring=\"neg_mean_absolute_error\", cv=10)\n",
    "rf_rmse_scores = np.sqrt(-rf_scores)\n",
    "display_scores(rf_rmse_scores)"
   ]
  },
  {
   "cell_type": "markdown",
   "metadata": {},
   "source": [
    "1. 하이퍼 파라미터 : n_estimators = 500, max_depth=7, random_state =0\n",
    "- random forest R2: 0.2803068703726267\n",
    "- random forest MAE: 6.557196092404201\n",
    "- random forest underpredict ratio:  0.27309598918431727\n",
    "\n",
    "2. 하이퍼 파라미터: max_features=6, n_estimators=30, random_state=42\n",
    "- random forest R2: 0.3569480051741485\n",
    "- random forest MAE: 0.1434614930620851\n",
    "- random forest underpredict ratio:  0.2771518702118071\n",
    "\n",
    "3. 하이퍼 파라미터: (max_features=7, n_estimators=190, random_state=42)\n",
    "- random forest R2: 0.3670380139205074\n",
    "- random forest MAE: 0.1443872984643192\n",
    "- random forest underpredict ratio:  0.2942767012167643\n"
   ]
  },
  {
   "cell_type": "markdown",
   "metadata": {},
   "source": [
    "### under-prediction vs. over-prediction"
   ]
  },
  {
   "cell_type": "markdown",
   "metadata": {},
   "source": [
    " 더 걸린 경우(under-prediction)가 반대의 경우(over-prediction)보다 두 배로 사용자의 경험에 안 좋은 영향을 준다고 알려져 있습니다.\n",
    "가능한 실제 배달시간과 가까운 값을 예측하되 동시에 under-prediction을 최소화하는 것이 좋은 예측모델입니다.\n",
    "\n",
    "손실함수에 대해서 고민해보시고 기본적인 squared loss외에 어떤 손실함수를 사용해야 under-prediction을 비교적 줄일 수 있을지 생각해보시고 구현도 해보세요.\n",
    "\n",
    "-> 이 부분은 어떻게 처리할 수 있을까?\n",
    "\n",
    "RandomizedSearchCV document에 의하면, 평가모델을 측정하는 하이퍼 파라미터를 변경할 수 있다. \n",
    "https://scikit-learn.org/stable/modules/generated/sklearn.model_selection.RandomizedSearchCV.html\n",
    "\n",
    "우리가 사용한 MAE 나 MSE의 경우 절대값이거나 squared 값을 취하기 때문에, 예측값이 실제 값보다 큰 지, 작은 지에 따른 차이는 반영하지 않고 있다.\n",
    "\n",
    "더 걸린 경우(under-prediction)가 반대의 경우(over-prediction)보다 두 배로 사용자의 경험에 안 좋은 영향을 준다는 것을 반영하기 위해서\n",
    "사용자가 정의한 score를 만들고, 이를 RandomizedSearchCV의 하이퍼 parameter scoring에 넣어서, 이를 최소화 하는 hyper parameter를 찾아 tuning 하려고 한다.\n",
    "https://scikit-learn.org/stable/modules/model_evaluation.html#scoring-parameter"
   ]
  },
  {
   "cell_type": "code",
   "execution_count": null,
   "metadata": {},
   "outputs": [],
   "source": [
    "import numpy as np\n",
    "def my_custom_loss_func(y_test, y_pred):\n",
    "    y_test = pd.DataFrame(y_test)\n",
    "    y_pred = pd.DataFrame(y_pred)\n",
    "    diff = 0\n",
    "    for i in range(len(y_test)):\n",
    "        if (y_test.iloc[i][0] - y_pred[i]) >= 0:\n",
    "            diff += 2*(y_test.iloc[i][0] - y_pred[i])\n",
    "        else:\n",
    "            diff += np.abs(y_test.iloc[i][0] - y_pred[i])\n",
    "    return diff"
   ]
  },
  {
   "cell_type": "code",
   "execution_count": null,
   "metadata": {},
   "outputs": [],
   "source": [
    "from sklearn.metrics import make_scorer\n",
    "my_scorer = make_scorer(my_custom_loss_func, greater_is_better=False)"
   ]
  },
  {
   "cell_type": "code",
   "execution_count": null,
   "metadata": {},
   "outputs": [],
   "source": [
    "type(my_scorer)"
   ]
  },
  {
   "cell_type": "code",
   "execution_count": null,
   "metadata": {},
   "outputs": [],
   "source": [
    "param_distribs = {\n",
    "        'n_estimators': randint(low=1, high=200),\n",
    "        'max_features': randint(low=1, high=8),\n",
    "    }\n",
    "\n",
    "forest_reg = RandomForestRegressor(random_state=42)\n",
    "rnd_search = RandomizedSearchCV(forest_reg, param_distributions=param_distribs,\n",
    "                                n_iter=10, cv=5, scoring=my_scorer, random_state=42)"
   ]
  },
  {
   "cell_type": "code",
   "execution_count": null,
   "metadata": {
    "scrolled": true
   },
   "outputs": [],
   "source": [
    "rnd_search.fit(X_train,y_train)"
   ]
  },
  {
   "cell_type": "code",
   "execution_count": null,
   "metadata": {},
   "outputs": [],
   "source": [
    "def best_parameter(cv_result):\n",
    "    best_score = []\n",
    "    cvres = cv_result\n",
    "    for mean_score, params in zip(cvres[\"mean_test_score\"], cvres[\"params\"]):\n",
    "        best_score.append((np.sqrt(-mean_score), params))\n",
    "\n",
    "    return sorted(best_score)[0]"
   ]
  },
  {
   "cell_type": "code",
   "execution_count": null,
   "metadata": {},
   "outputs": [],
   "source": [
    "best_parameter(rnd_search.cv_results_)"
   ]
  },
  {
   "cell_type": "code",
   "execution_count": null,
   "metadata": {},
   "outputs": [],
   "source": [
    "rf = RandomForestRegressor(max_features=7, n_estimators=180, random_state=42)\n",
    "rf.fit(X_train,y_train)\n",
    "y_pred = rf.predict(X_test)\n",
    "\n",
    "\n",
    "#평가\n",
    "print(\"random forest R2:\", r2(y_test, y_pred))\n",
    "print(\"random forest MAE:\", mae(y_test,y_pred))\n",
    "print('random forest underpredict ratio: ', underpredic_ratio (y_test, y_pred))"
   ]
  },
  {
   "cell_type": "markdown",
   "metadata": {},
   "source": [
    "scoring 파라미터를 정의해서 해결하는 방법은 잘 구현해내지 못했습니다.\n",
    "현재까지 시도해 본 방법 중 MAE가 가장 낮은 방법은\n",
    "랜덤포레스트 regressor로,\n",
    "하이퍼 파라미터: max_features=6, n_estimators=30,\\ random_state=42 일 때,\\\n",
    "\n",
    "random forest R2: 0.3569480051741485\\\n",
    "random forest MAE: 0.1434614930620851\\\n",
    "random forest underpredict ratio: 0.2771518702118071\\\n",
    "\n",
    "결과값을 얻었습니다."
   ]
  },
  {
   "cell_type": "code",
   "execution_count": null,
   "metadata": {},
   "outputs": [],
   "source": []
  }
 ],
 "metadata": {
  "kernelspec": {
   "display_name": "Python 3",
   "language": "python",
   "name": "python3"
  },
  "language_info": {
   "codemirror_mode": {
    "name": "ipython",
    "version": 3
   },
   "file_extension": ".py",
   "mimetype": "text/x-python",
   "name": "python",
   "nbconvert_exporter": "python",
   "pygments_lexer": "ipython3",
   "version": "3.8.5"
  }
 },
 "nbformat": 4,
 "nbformat_minor": 4
}
